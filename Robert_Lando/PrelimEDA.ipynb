{
 "cells": [
  {
   "cell_type": "markdown",
   "metadata": {},
   "source": [
    "# Preliminary EDA for AMES Iowa Housing Data"
   ]
  },
  {
   "cell_type": "code",
   "execution_count": 2,
   "metadata": {},
   "outputs": [],
   "source": [
    "import numpy as np\n",
    "import pandas as pd\n",
    "import matplotlib.pyplot as plt\n",
    "plt.style.use('ggplot')\n",
    "import plotly.express as px\n",
    "import seaborn as sns\n",
    "from plotly.subplots import make_subplots\n",
    "import plotly.graph_objects as go"
   ]
  },
  {
   "cell_type": "code",
   "execution_count": 3,
   "metadata": {},
   "outputs": [
    {
     "data": {
      "text/plain": [
       "(2580, 82)"
      ]
     },
     "execution_count": 3,
     "metadata": {},
     "output_type": "execute_result"
    }
   ],
   "source": [
    "housing = pd.read_csv('./data/Ames_Housing_Price_Data.csv')\n",
    "housing.rename(columns = {'PID':'MapRefNo'}, inplace = True)\n",
    "housing.shape"
   ]
  },
  {
   "cell_type": "code",
   "execution_count": 4,
   "metadata": {},
   "outputs": [
    {
     "name": "stderr",
     "output_type": "stream",
     "text": [
      "C:\\Users\\robla\\Anaconda3\\lib\\site-packages\\IPython\\core\\interactiveshell.py:3049: DtypeWarning: Columns (36,40,81,87) have mixed types. Specify dtype option on import or set low_memory=False.\n",
      "  interactivity=interactivity, compiler=compiler, result=result)\n"
     ]
    }
   ],
   "source": [
    "res = pd.read_csv('./data/Ames_Real_Estate_Data.csv')"
   ]
  },
  {
   "cell_type": "code",
   "execution_count": 5,
   "metadata": {},
   "outputs": [
    {
     "data": {
      "text/plain": [
       "(100, 7)"
      ]
     },
     "execution_count": 5,
     "metadata": {},
     "output_type": "execute_result"
    }
   ],
   "source": [
    "dd = pd.read_excel('./data/Tbl_DataExportSpec.xls')\n",
    "dd.shape"
   ]
  },
  {
   "cell_type": "code",
   "execution_count": 112,
   "metadata": {},
   "outputs": [],
   "source": [
    "#res.head(1)"
   ]
  },
  {
   "cell_type": "code",
   "execution_count": 7,
   "metadata": {},
   "outputs": [],
   "source": [
    "pd.set_option('display.max_columns', None)\n",
    "pd.set_option('display.max_rows', None)"
   ]
  },
  {
   "cell_type": "markdown",
   "metadata": {},
   "source": [
    "**Note: res columns (36,40,81,87) have mixed data types**"
   ]
  },
  {
   "cell_type": "code",
   "execution_count": 113,
   "metadata": {},
   "outputs": [],
   "source": [
    "#housing.head(1)"
   ]
  },
  {
   "cell_type": "markdown",
   "metadata": {},
   "source": [
    "### Data Dictionary for Housing Data"
   ]
  },
  {
   "cell_type": "code",
   "execution_count": 382,
   "metadata": {},
   "outputs": [],
   "source": [
    "housing_dict = pd.read_csv('./data/data_description.txt',\n",
    "                   sep=\"\\n|:\",\n",
    "                   header=None,\n",
    "                   engine='python')"
   ]
  },
  {
   "cell_type": "code",
   "execution_count": 383,
   "metadata": {},
   "outputs": [],
   "source": [
    "housing_dict.columns = ['var','descr']"
   ]
  },
  {
   "cell_type": "code",
   "execution_count": 384,
   "metadata": {},
   "outputs": [],
   "source": [
    "#housing_dict.head(20)"
   ]
  },
  {
   "cell_type": "code",
   "execution_count": 385,
   "metadata": {},
   "outputs": [],
   "source": [
    "new_housing_dict = housing_dict.loc[~housing_dict['descr'].isnull()]"
   ]
  },
  {
   "cell_type": "code",
   "execution_count": 386,
   "metadata": {},
   "outputs": [],
   "source": [
    "new_housing_dict.loc[0:,'index_'] = new_housing_dict.index"
   ]
  },
  {
   "cell_type": "code",
   "execution_count": 387,
   "metadata": {},
   "outputs": [
    {
     "data": {
      "text/html": [
       "<div>\n",
       "<style scoped>\n",
       "    .dataframe tbody tr th:only-of-type {\n",
       "        vertical-align: middle;\n",
       "    }\n",
       "\n",
       "    .dataframe tbody tr th {\n",
       "        vertical-align: top;\n",
       "    }\n",
       "\n",
       "    .dataframe thead th {\n",
       "        text-align: right;\n",
       "    }\n",
       "</style>\n",
       "<table border=\"1\" class=\"dataframe\">\n",
       "  <thead>\n",
       "    <tr style=\"text-align: right;\">\n",
       "      <th></th>\n",
       "      <th>var</th>\n",
       "      <th>descr</th>\n",
       "      <th>index_</th>\n",
       "    </tr>\n",
       "  </thead>\n",
       "  <tbody>\n",
       "    <tr>\n",
       "      <th>0</th>\n",
       "      <td>MSSubClass</td>\n",
       "      <td>Identifies the type of dwelling involved in t...</td>\n",
       "      <td>0</td>\n",
       "    </tr>\n",
       "    <tr>\n",
       "      <th>17</th>\n",
       "      <td>MSZoning</td>\n",
       "      <td>Identifies the general zoning classification ...</td>\n",
       "      <td>17</td>\n",
       "    </tr>\n",
       "    <tr>\n",
       "      <th>26</th>\n",
       "      <td>LotFrontage</td>\n",
       "      <td>Linear feet of street connected to property</td>\n",
       "      <td>26</td>\n",
       "    </tr>\n",
       "    <tr>\n",
       "      <th>27</th>\n",
       "      <td>LotArea</td>\n",
       "      <td>Lot size in square feet</td>\n",
       "      <td>27</td>\n",
       "    </tr>\n",
       "    <tr>\n",
       "      <th>28</th>\n",
       "      <td>Street</td>\n",
       "      <td>Type of road access to property</td>\n",
       "      <td>28</td>\n",
       "    </tr>\n",
       "    <tr>\n",
       "      <th>31</th>\n",
       "      <td>Alley</td>\n",
       "      <td>Type of alley access to property</td>\n",
       "      <td>31</td>\n",
       "    </tr>\n",
       "    <tr>\n",
       "      <th>35</th>\n",
       "      <td>LotShape</td>\n",
       "      <td>General shape of property</td>\n",
       "      <td>35</td>\n",
       "    </tr>\n",
       "    <tr>\n",
       "      <th>40</th>\n",
       "      <td>LandContour</td>\n",
       "      <td>Flatness of the property</td>\n",
       "      <td>40</td>\n",
       "    </tr>\n",
       "    <tr>\n",
       "      <th>45</th>\n",
       "      <td>Utilities</td>\n",
       "      <td>Type of utilities available</td>\n",
       "      <td>45</td>\n",
       "    </tr>\n",
       "    <tr>\n",
       "      <th>50</th>\n",
       "      <td>LotConfig</td>\n",
       "      <td>Lot configuration</td>\n",
       "      <td>50</td>\n",
       "    </tr>\n",
       "    <tr>\n",
       "      <th>56</th>\n",
       "      <td>LandSlope</td>\n",
       "      <td>Slope of property</td>\n",
       "      <td>56</td>\n",
       "    </tr>\n",
       "    <tr>\n",
       "      <th>60</th>\n",
       "      <td>Neighborhood</td>\n",
       "      <td>Physical locations within Ames city limits *</td>\n",
       "      <td>60</td>\n",
       "    </tr>\n",
       "    <tr>\n",
       "      <th>86</th>\n",
       "      <td>Condition1</td>\n",
       "      <td>Proximity to various conditions</td>\n",
       "      <td>86</td>\n",
       "    </tr>\n",
       "    <tr>\n",
       "      <th>96</th>\n",
       "      <td>Condition2</td>\n",
       "      <td>Proximity to various conditions (if more than...</td>\n",
       "      <td>96</td>\n",
       "    </tr>\n",
       "    <tr>\n",
       "      <th>106</th>\n",
       "      <td>BldgType</td>\n",
       "      <td>Type of dwelling</td>\n",
       "      <td>106</td>\n",
       "    </tr>\n",
       "    <tr>\n",
       "      <th>112</th>\n",
       "      <td>HouseStyle</td>\n",
       "      <td>Style of dwelling</td>\n",
       "      <td>112</td>\n",
       "    </tr>\n",
       "    <tr>\n",
       "      <th>121</th>\n",
       "      <td>OverallQual</td>\n",
       "      <td>Rates the overall material and finish of the ...</td>\n",
       "      <td>121</td>\n",
       "    </tr>\n",
       "    <tr>\n",
       "      <th>132</th>\n",
       "      <td>OverallCond</td>\n",
       "      <td>Rates the overall condition of the house</td>\n",
       "      <td>132</td>\n",
       "    </tr>\n",
       "    <tr>\n",
       "      <th>143</th>\n",
       "      <td>YearBuilt</td>\n",
       "      <td>Original construction date</td>\n",
       "      <td>143</td>\n",
       "    </tr>\n",
       "    <tr>\n",
       "      <th>144</th>\n",
       "      <td>YearRemodAdd</td>\n",
       "      <td>Remodel date (same as construction date if no...</td>\n",
       "      <td>144</td>\n",
       "    </tr>\n",
       "    <tr>\n",
       "      <th>145</th>\n",
       "      <td>RoofStyle</td>\n",
       "      <td>Type of roof</td>\n",
       "      <td>145</td>\n",
       "    </tr>\n",
       "    <tr>\n",
       "      <th>152</th>\n",
       "      <td>RoofMatl</td>\n",
       "      <td>Roof material</td>\n",
       "      <td>152</td>\n",
       "    </tr>\n",
       "    <tr>\n",
       "      <th>161</th>\n",
       "      <td>Exterior1st</td>\n",
       "      <td>Exterior covering on house</td>\n",
       "      <td>161</td>\n",
       "    </tr>\n",
       "    <tr>\n",
       "      <th>179</th>\n",
       "      <td>Exterior2nd</td>\n",
       "      <td>Exterior covering on house (if more than one ...</td>\n",
       "      <td>179</td>\n",
       "    </tr>\n",
       "    <tr>\n",
       "      <th>197</th>\n",
       "      <td>MasVnrType</td>\n",
       "      <td>Masonry veneer type</td>\n",
       "      <td>197</td>\n",
       "    </tr>\n",
       "    <tr>\n",
       "      <th>203</th>\n",
       "      <td>MasVnrArea</td>\n",
       "      <td>Masonry veneer area in square feet</td>\n",
       "      <td>203</td>\n",
       "    </tr>\n",
       "    <tr>\n",
       "      <th>204</th>\n",
       "      <td>ExterQual</td>\n",
       "      <td>Evaluates the quality of the material on the ...</td>\n",
       "      <td>204</td>\n",
       "    </tr>\n",
       "    <tr>\n",
       "      <th>210</th>\n",
       "      <td>ExterCond</td>\n",
       "      <td>Evaluates the present condition of the materi...</td>\n",
       "      <td>210</td>\n",
       "    </tr>\n",
       "    <tr>\n",
       "      <th>216</th>\n",
       "      <td>Foundation</td>\n",
       "      <td>Type of foundation</td>\n",
       "      <td>216</td>\n",
       "    </tr>\n",
       "    <tr>\n",
       "      <th>223</th>\n",
       "      <td>BsmtQual</td>\n",
       "      <td>Evaluates the height of the basement</td>\n",
       "      <td>223</td>\n",
       "    </tr>\n",
       "    <tr>\n",
       "      <th>230</th>\n",
       "      <td>BsmtCond</td>\n",
       "      <td>Evaluates the general condition of the basement</td>\n",
       "      <td>230</td>\n",
       "    </tr>\n",
       "    <tr>\n",
       "      <th>237</th>\n",
       "      <td>BsmtExposure</td>\n",
       "      <td>Refers to walkout or garden level walls</td>\n",
       "      <td>237</td>\n",
       "    </tr>\n",
       "    <tr>\n",
       "      <th>243</th>\n",
       "      <td>BsmtFinType1</td>\n",
       "      <td>Rating of basement finished area</td>\n",
       "      <td>243</td>\n",
       "    </tr>\n",
       "    <tr>\n",
       "      <th>251</th>\n",
       "      <td>BsmtFinSF1</td>\n",
       "      <td>Type 1 finished square feet</td>\n",
       "      <td>251</td>\n",
       "    </tr>\n",
       "    <tr>\n",
       "      <th>252</th>\n",
       "      <td>BsmtFinType2</td>\n",
       "      <td>Rating of basement finished area (if multiple...</td>\n",
       "      <td>252</td>\n",
       "    </tr>\n",
       "    <tr>\n",
       "      <th>260</th>\n",
       "      <td>BsmtFinSF2</td>\n",
       "      <td>Type 2 finished square feet</td>\n",
       "      <td>260</td>\n",
       "    </tr>\n",
       "    <tr>\n",
       "      <th>261</th>\n",
       "      <td>BsmtUnfSF</td>\n",
       "      <td>Unfinished square feet of basement area</td>\n",
       "      <td>261</td>\n",
       "    </tr>\n",
       "    <tr>\n",
       "      <th>262</th>\n",
       "      <td>TotalBsmtSF</td>\n",
       "      <td>Total square feet of basement area</td>\n",
       "      <td>262</td>\n",
       "    </tr>\n",
       "    <tr>\n",
       "      <th>263</th>\n",
       "      <td>Heating</td>\n",
       "      <td>Type of heating</td>\n",
       "      <td>263</td>\n",
       "    </tr>\n",
       "    <tr>\n",
       "      <th>270</th>\n",
       "      <td>HeatingQC</td>\n",
       "      <td>Heating quality and condition</td>\n",
       "      <td>270</td>\n",
       "    </tr>\n",
       "    <tr>\n",
       "      <th>276</th>\n",
       "      <td>CentralAir</td>\n",
       "      <td>Central air conditioning</td>\n",
       "      <td>276</td>\n",
       "    </tr>\n",
       "    <tr>\n",
       "      <th>279</th>\n",
       "      <td>Electrical</td>\n",
       "      <td>Electrical system</td>\n",
       "      <td>279</td>\n",
       "    </tr>\n",
       "    <tr>\n",
       "      <th>285</th>\n",
       "      <td>1stFlrSF</td>\n",
       "      <td>First Floor square feet</td>\n",
       "      <td>285</td>\n",
       "    </tr>\n",
       "    <tr>\n",
       "      <th>286</th>\n",
       "      <td>2ndFlrSF</td>\n",
       "      <td>Second floor square feet</td>\n",
       "      <td>286</td>\n",
       "    </tr>\n",
       "    <tr>\n",
       "      <th>287</th>\n",
       "      <td>LowQualFinSF</td>\n",
       "      <td>Low quality finished square feet (all floors)</td>\n",
       "      <td>287</td>\n",
       "    </tr>\n",
       "    <tr>\n",
       "      <th>288</th>\n",
       "      <td>GrLivArea</td>\n",
       "      <td>Above grade (ground) living area square feet</td>\n",
       "      <td>288</td>\n",
       "    </tr>\n",
       "    <tr>\n",
       "      <th>289</th>\n",
       "      <td>BsmtFullBath</td>\n",
       "      <td>Basement full bathrooms</td>\n",
       "      <td>289</td>\n",
       "    </tr>\n",
       "    <tr>\n",
       "      <th>290</th>\n",
       "      <td>BsmtHalfBath</td>\n",
       "      <td>Basement half bathrooms</td>\n",
       "      <td>290</td>\n",
       "    </tr>\n",
       "    <tr>\n",
       "      <th>291</th>\n",
       "      <td>FullBath</td>\n",
       "      <td>Full bathrooms above grade</td>\n",
       "      <td>291</td>\n",
       "    </tr>\n",
       "    <tr>\n",
       "      <th>292</th>\n",
       "      <td>HalfBath</td>\n",
       "      <td>Half baths above grade</td>\n",
       "      <td>292</td>\n",
       "    </tr>\n",
       "    <tr>\n",
       "      <th>293</th>\n",
       "      <td>Bedroom</td>\n",
       "      <td>Bedrooms above grade (does NOT include baseme...</td>\n",
       "      <td>293</td>\n",
       "    </tr>\n",
       "    <tr>\n",
       "      <th>294</th>\n",
       "      <td>Kitchen</td>\n",
       "      <td>Kitchens above grade</td>\n",
       "      <td>294</td>\n",
       "    </tr>\n",
       "    <tr>\n",
       "      <th>295</th>\n",
       "      <td>KitchenQual</td>\n",
       "      <td>Kitchen quality</td>\n",
       "      <td>295</td>\n",
       "    </tr>\n",
       "    <tr>\n",
       "      <th>301</th>\n",
       "      <td>TotRmsAbvGrd</td>\n",
       "      <td>Total rooms above grade (does not include bat...</td>\n",
       "      <td>301</td>\n",
       "    </tr>\n",
       "    <tr>\n",
       "      <th>302</th>\n",
       "      <td>Functional</td>\n",
       "      <td>Home functionality (Assume typical unless ded...</td>\n",
       "      <td>302</td>\n",
       "    </tr>\n",
       "    <tr>\n",
       "      <th>311</th>\n",
       "      <td>Fireplaces</td>\n",
       "      <td>Number of fireplaces</td>\n",
       "      <td>311</td>\n",
       "    </tr>\n",
       "    <tr>\n",
       "      <th>312</th>\n",
       "      <td>FireplaceQu</td>\n",
       "      <td>Fireplace quality</td>\n",
       "      <td>312</td>\n",
       "    </tr>\n",
       "    <tr>\n",
       "      <th>319</th>\n",
       "      <td>GarageType</td>\n",
       "      <td>Garage location</td>\n",
       "      <td>319</td>\n",
       "    </tr>\n",
       "    <tr>\n",
       "      <th>327</th>\n",
       "      <td>GarageYrBlt</td>\n",
       "      <td>Year garage was built</td>\n",
       "      <td>327</td>\n",
       "    </tr>\n",
       "    <tr>\n",
       "      <th>328</th>\n",
       "      <td>GarageFinish</td>\n",
       "      <td>Interior finish of the garage</td>\n",
       "      <td>328</td>\n",
       "    </tr>\n",
       "    <tr>\n",
       "      <th>333</th>\n",
       "      <td>GarageCars</td>\n",
       "      <td>Size of garage in car capacity</td>\n",
       "      <td>333</td>\n",
       "    </tr>\n",
       "    <tr>\n",
       "      <th>334</th>\n",
       "      <td>GarageArea</td>\n",
       "      <td>Size of garage in square feet</td>\n",
       "      <td>334</td>\n",
       "    </tr>\n",
       "    <tr>\n",
       "      <th>335</th>\n",
       "      <td>GarageQual</td>\n",
       "      <td>Garage quality</td>\n",
       "      <td>335</td>\n",
       "    </tr>\n",
       "    <tr>\n",
       "      <th>342</th>\n",
       "      <td>GarageCond</td>\n",
       "      <td>Garage condition</td>\n",
       "      <td>342</td>\n",
       "    </tr>\n",
       "    <tr>\n",
       "      <th>349</th>\n",
       "      <td>PavedDrive</td>\n",
       "      <td>Paved driveway</td>\n",
       "      <td>349</td>\n",
       "    </tr>\n",
       "    <tr>\n",
       "      <th>353</th>\n",
       "      <td>WoodDeckSF</td>\n",
       "      <td>Wood deck area in square feet</td>\n",
       "      <td>353</td>\n",
       "    </tr>\n",
       "    <tr>\n",
       "      <th>354</th>\n",
       "      <td>OpenPorchSF</td>\n",
       "      <td>Open porch area in square feet</td>\n",
       "      <td>354</td>\n",
       "    </tr>\n",
       "    <tr>\n",
       "      <th>355</th>\n",
       "      <td>EnclosedPorch</td>\n",
       "      <td>Enclosed porch area in square feet</td>\n",
       "      <td>355</td>\n",
       "    </tr>\n",
       "    <tr>\n",
       "      <th>356</th>\n",
       "      <td>3SsnPorch</td>\n",
       "      <td>Three season porch area in square feet</td>\n",
       "      <td>356</td>\n",
       "    </tr>\n",
       "    <tr>\n",
       "      <th>357</th>\n",
       "      <td>ScreenPorch</td>\n",
       "      <td>Screen porch area in square feet</td>\n",
       "      <td>357</td>\n",
       "    </tr>\n",
       "    <tr>\n",
       "      <th>358</th>\n",
       "      <td>PoolArea</td>\n",
       "      <td>Pool area in square feet</td>\n",
       "      <td>358</td>\n",
       "    </tr>\n",
       "    <tr>\n",
       "      <th>359</th>\n",
       "      <td>PoolQC</td>\n",
       "      <td>Pool quality</td>\n",
       "      <td>359</td>\n",
       "    </tr>\n",
       "    <tr>\n",
       "      <th>365</th>\n",
       "      <td>Fence</td>\n",
       "      <td>Fence quality</td>\n",
       "      <td>365</td>\n",
       "    </tr>\n",
       "    <tr>\n",
       "      <th>371</th>\n",
       "      <td>MiscFeature</td>\n",
       "      <td>Miscellaneous feature not covered in other ca...</td>\n",
       "      <td>371</td>\n",
       "    </tr>\n",
       "    <tr>\n",
       "      <th>378</th>\n",
       "      <td>MiscVal</td>\n",
       "      <td>Dollar Value of miscellaneous feature</td>\n",
       "      <td>378</td>\n",
       "    </tr>\n",
       "    <tr>\n",
       "      <th>379</th>\n",
       "      <td>MoSold</td>\n",
       "      <td>Month Sold (MM)</td>\n",
       "      <td>379</td>\n",
       "    </tr>\n",
       "    <tr>\n",
       "      <th>380</th>\n",
       "      <td>YrSold</td>\n",
       "      <td>Year Sold (YYYY)</td>\n",
       "      <td>380</td>\n",
       "    </tr>\n",
       "    <tr>\n",
       "      <th>381</th>\n",
       "      <td>SaleType</td>\n",
       "      <td>Type of sale</td>\n",
       "      <td>381</td>\n",
       "    </tr>\n",
       "    <tr>\n",
       "      <th>392</th>\n",
       "      <td>SaleCondition</td>\n",
       "      <td>Condition of sale</td>\n",
       "      <td>392</td>\n",
       "    </tr>\n",
       "  </tbody>\n",
       "</table>\n",
       "</div>"
      ],
      "text/plain": [
       "               var                                              descr  index_\n",
       "0       MSSubClass   Identifies the type of dwelling involved in t...       0\n",
       "17        MSZoning   Identifies the general zoning classification ...      17\n",
       "26     LotFrontage        Linear feet of street connected to property      26\n",
       "27         LotArea                            Lot size in square feet      27\n",
       "28          Street                    Type of road access to property      28\n",
       "31           Alley                   Type of alley access to property      31\n",
       "35        LotShape                          General shape of property      35\n",
       "40     LandContour                           Flatness of the property      40\n",
       "45       Utilities                        Type of utilities available      45\n",
       "50       LotConfig                                  Lot configuration      50\n",
       "56       LandSlope                                  Slope of property      56\n",
       "60    Neighborhood       Physical locations within Ames city limits *      60\n",
       "86      Condition1                    Proximity to various conditions      86\n",
       "96      Condition2   Proximity to various conditions (if more than...      96\n",
       "106       BldgType                                   Type of dwelling     106\n",
       "112     HouseStyle                                  Style of dwelling     112\n",
       "121    OverallQual   Rates the overall material and finish of the ...     121\n",
       "132    OverallCond           Rates the overall condition of the house     132\n",
       "143      YearBuilt                         Original construction date     143\n",
       "144   YearRemodAdd   Remodel date (same as construction date if no...     144\n",
       "145      RoofStyle                                       Type of roof     145\n",
       "152       RoofMatl                                      Roof material     152\n",
       "161    Exterior1st                         Exterior covering on house     161\n",
       "179    Exterior2nd   Exterior covering on house (if more than one ...     179\n",
       "197     MasVnrType                                Masonry veneer type     197\n",
       "203     MasVnrArea                 Masonry veneer area in square feet     203\n",
       "204      ExterQual   Evaluates the quality of the material on the ...     204\n",
       "210      ExterCond   Evaluates the present condition of the materi...     210\n",
       "216     Foundation                                 Type of foundation     216\n",
       "223       BsmtQual               Evaluates the height of the basement     223\n",
       "230       BsmtCond    Evaluates the general condition of the basement     230\n",
       "237   BsmtExposure            Refers to walkout or garden level walls     237\n",
       "243   BsmtFinType1                   Rating of basement finished area     243\n",
       "251     BsmtFinSF1                        Type 1 finished square feet     251\n",
       "252   BsmtFinType2   Rating of basement finished area (if multiple...     252\n",
       "260     BsmtFinSF2                        Type 2 finished square feet     260\n",
       "261      BsmtUnfSF            Unfinished square feet of basement area     261\n",
       "262    TotalBsmtSF                 Total square feet of basement area     262\n",
       "263        Heating                                    Type of heating     263\n",
       "270      HeatingQC                      Heating quality and condition     270\n",
       "276     CentralAir                           Central air conditioning     276\n",
       "279     Electrical                                  Electrical system     279\n",
       "285       1stFlrSF                            First Floor square feet     285\n",
       "286       2ndFlrSF                           Second floor square feet     286\n",
       "287   LowQualFinSF      Low quality finished square feet (all floors)     287\n",
       "288      GrLivArea       Above grade (ground) living area square feet     288\n",
       "289   BsmtFullBath                            Basement full bathrooms     289\n",
       "290   BsmtHalfBath                            Basement half bathrooms     290\n",
       "291       FullBath                         Full bathrooms above grade     291\n",
       "292       HalfBath                             Half baths above grade     292\n",
       "293        Bedroom   Bedrooms above grade (does NOT include baseme...     293\n",
       "294        Kitchen                               Kitchens above grade     294\n",
       "295    KitchenQual                                    Kitchen quality     295\n",
       "301   TotRmsAbvGrd   Total rooms above grade (does not include bat...     301\n",
       "302     Functional   Home functionality (Assume typical unless ded...     302\n",
       "311     Fireplaces                               Number of fireplaces     311\n",
       "312    FireplaceQu                                  Fireplace quality     312\n",
       "319     GarageType                                    Garage location     319\n",
       "327    GarageYrBlt                              Year garage was built     327\n",
       "328   GarageFinish                      Interior finish of the garage     328\n",
       "333     GarageCars                     Size of garage in car capacity     333\n",
       "334     GarageArea                      Size of garage in square feet     334\n",
       "335     GarageQual                                     Garage quality     335\n",
       "342     GarageCond                                   Garage condition     342\n",
       "349     PavedDrive                                     Paved driveway     349\n",
       "353     WoodDeckSF                      Wood deck area in square feet     353\n",
       "354    OpenPorchSF                     Open porch area in square feet     354\n",
       "355  EnclosedPorch                 Enclosed porch area in square feet     355\n",
       "356      3SsnPorch             Three season porch area in square feet     356\n",
       "357    ScreenPorch                   Screen porch area in square feet     357\n",
       "358       PoolArea                           Pool area in square feet     358\n",
       "359         PoolQC                                       Pool quality     359\n",
       "365          Fence                                      Fence quality     365\n",
       "371    MiscFeature   Miscellaneous feature not covered in other ca...     371\n",
       "378        MiscVal              Dollar Value of miscellaneous feature     378\n",
       "379         MoSold                                    Month Sold (MM)     379\n",
       "380         YrSold                                   Year Sold (YYYY)     380\n",
       "381       SaleType                                       Type of sale     381\n",
       "392  SaleCondition                                  Condition of sale     392"
      ]
     },
     "execution_count": 387,
     "metadata": {},
     "output_type": "execute_result"
    }
   ],
   "source": [
    "new_housing_dict"
   ]
  },
  {
   "cell_type": "code",
   "execution_count": 388,
   "metadata": {},
   "outputs": [],
   "source": [
    "idx = new_housing_dict['index_'].to_numpy()\n",
    "i = 0\n",
    "indx_outcomes = []\n",
    "while (i < len(idx)-1):\n",
    "    indx_outcomes.append(np.arange(idx[i]+1,idx[i+1]))\n",
    "    i += 1"
   ]
  },
  {
   "cell_type": "code",
   "execution_count": 389,
   "metadata": {},
   "outputs": [],
   "source": [
    "associated_outcomes = []\n",
    "for j in indx_outcomes:\n",
    "    associated_outcomes.append(housing_dict[['var']].loc[j].to_numpy())\n",
    "associated_outcomes.append(np.array([]))\n",
    "#len(associated_outcomes)"
   ]
  },
  {
   "cell_type": "code",
   "execution_count": 390,
   "metadata": {},
   "outputs": [],
   "source": [
    "#len(new_housing_dict)"
   ]
  },
  {
   "cell_type": "code",
   "execution_count": 391,
   "metadata": {},
   "outputs": [],
   "source": [
    "new_housing_dict.loc[0:,'associated_outcomes'] = associated_outcomes"
   ]
  },
  {
   "cell_type": "code",
   "execution_count": 392,
   "metadata": {
    "scrolled": false
   },
   "outputs": [],
   "source": [
    "new_housing_dict = new_housing_dict.reset_index()\n",
    "new_housing_dict = new_housing_dict.drop(['index','index_'], axis = 1)"
   ]
  },
  {
   "cell_type": "code",
   "execution_count": 413,
   "metadata": {},
   "outputs": [],
   "source": [
    "def type_(x):\n",
    "    \n",
    "    if len(x) == 0:\n",
    "        t = 'Numerical'\n",
    "    elif len(x) == 2:\n",
    "        t = 'Binary Categorical'\n",
    "    else:\n",
    "        t = 'Categorical'\n",
    "        \n",
    "    return t\n",
    "    \n",
    "    \n",
    "types = [type_(elem) for elem in new_housing_dict['associated_outcomes']]\n",
    "\n",
    "new_housing_dict.loc[0:,'Variable Type'] = types"
   ]
  },
  {
   "cell_type": "code",
   "execution_count": 414,
   "metadata": {
    "scrolled": false
   },
   "outputs": [
    {
     "data": {
      "text/html": [
       "<div>\n",
       "<style scoped>\n",
       "    .dataframe tbody tr th:only-of-type {\n",
       "        vertical-align: middle;\n",
       "    }\n",
       "\n",
       "    .dataframe tbody tr th {\n",
       "        vertical-align: top;\n",
       "    }\n",
       "\n",
       "    .dataframe thead th {\n",
       "        text-align: right;\n",
       "    }\n",
       "</style>\n",
       "<table border=\"1\" class=\"dataframe\">\n",
       "  <thead>\n",
       "    <tr style=\"text-align: right;\">\n",
       "      <th></th>\n",
       "      <th>var</th>\n",
       "      <th>descr</th>\n",
       "      <th>associated_outcomes</th>\n",
       "      <th>Variable Type</th>\n",
       "    </tr>\n",
       "  </thead>\n",
       "  <tbody>\n",
       "    <tr>\n",
       "      <th>0</th>\n",
       "      <td>MSSubClass</td>\n",
       "      <td>Identifies the type of dwelling involved in t...</td>\n",
       "      <td>[[20    1-STORY 1946 &amp; NEWER ALL STYLES], [30 ...</td>\n",
       "      <td>Categorical</td>\n",
       "    </tr>\n",
       "    <tr>\n",
       "      <th>1</th>\n",
       "      <td>MSZoning</td>\n",
       "      <td>Identifies the general zoning classification ...</td>\n",
       "      <td>[[A      Agriculture], [C      Commercial], [F...</td>\n",
       "      <td>Categorical</td>\n",
       "    </tr>\n",
       "    <tr>\n",
       "      <th>2</th>\n",
       "      <td>LotFrontage</td>\n",
       "      <td>Linear feet of street connected to property</td>\n",
       "      <td>[]</td>\n",
       "      <td>Numerical</td>\n",
       "    </tr>\n",
       "    <tr>\n",
       "      <th>3</th>\n",
       "      <td>LotArea</td>\n",
       "      <td>Lot size in square feet</td>\n",
       "      <td>[]</td>\n",
       "      <td>Numerical</td>\n",
       "    </tr>\n",
       "    <tr>\n",
       "      <th>4</th>\n",
       "      <td>Street</td>\n",
       "      <td>Type of road access to property</td>\n",
       "      <td>[[Grvl   Gravel], [Pave   Paved]]</td>\n",
       "      <td>Binary Categorical</td>\n",
       "    </tr>\n",
       "    <tr>\n",
       "      <th>5</th>\n",
       "      <td>Alley</td>\n",
       "      <td>Type of alley access to property</td>\n",
       "      <td>[[Grvl   Gravel], [Pave   Paved], [NA     No a...</td>\n",
       "      <td>Categorical</td>\n",
       "    </tr>\n",
       "    <tr>\n",
       "      <th>6</th>\n",
       "      <td>LotShape</td>\n",
       "      <td>General shape of property</td>\n",
       "      <td>[[Reg    Regular], [IR1    Slightly irregular]...</td>\n",
       "      <td>Categorical</td>\n",
       "    </tr>\n",
       "    <tr>\n",
       "      <th>7</th>\n",
       "      <td>LandContour</td>\n",
       "      <td>Flatness of the property</td>\n",
       "      <td>[[Lvl    Near Flat/Level], [Bnk    Banked - Qu...</td>\n",
       "      <td>Categorical</td>\n",
       "    </tr>\n",
       "    <tr>\n",
       "      <th>8</th>\n",
       "      <td>Utilities</td>\n",
       "      <td>Type of utilities available</td>\n",
       "      <td>[[AllPub All public Utilities (E,G,W,&amp; S)], [N...</td>\n",
       "      <td>Categorical</td>\n",
       "    </tr>\n",
       "    <tr>\n",
       "      <th>9</th>\n",
       "      <td>LotConfig</td>\n",
       "      <td>Lot configuration</td>\n",
       "      <td>[[Inside Inside lot], [Corner Corner lot], [Cu...</td>\n",
       "      <td>Categorical</td>\n",
       "    </tr>\n",
       "    <tr>\n",
       "      <th>10</th>\n",
       "      <td>LandSlope</td>\n",
       "      <td>Slope of property</td>\n",
       "      <td>[[Gtl    Gentle slope], [Mod    Moderate Slope...</td>\n",
       "      <td>Categorical</td>\n",
       "    </tr>\n",
       "    <tr>\n",
       "      <th>11</th>\n",
       "      <td>Neighborhood</td>\n",
       "      <td>Physical locations within Ames city limits *</td>\n",
       "      <td>[[Blmngtn       Bloomington Heights], [Blueste...</td>\n",
       "      <td>Categorical</td>\n",
       "    </tr>\n",
       "    <tr>\n",
       "      <th>12</th>\n",
       "      <td>Condition1</td>\n",
       "      <td>Proximity to various conditions</td>\n",
       "      <td>[[Artery Adjacent to arterial street], [Feedr ...</td>\n",
       "      <td>Categorical</td>\n",
       "    </tr>\n",
       "    <tr>\n",
       "      <th>13</th>\n",
       "      <td>Condition2</td>\n",
       "      <td>Proximity to various conditions (if more than...</td>\n",
       "      <td>[[Artery Adjacent to arterial street], [Feedr ...</td>\n",
       "      <td>Categorical</td>\n",
       "    </tr>\n",
       "    <tr>\n",
       "      <th>14</th>\n",
       "      <td>BldgType</td>\n",
       "      <td>Type of dwelling</td>\n",
       "      <td>[[1Fam   Single-family Detached], [2FmCon Two-...</td>\n",
       "      <td>Categorical</td>\n",
       "    </tr>\n",
       "    <tr>\n",
       "      <th>15</th>\n",
       "      <td>HouseStyle</td>\n",
       "      <td>Style of dwelling</td>\n",
       "      <td>[[1Story One story], [1.5Fin One and one-half ...</td>\n",
       "      <td>Categorical</td>\n",
       "    </tr>\n",
       "    <tr>\n",
       "      <th>16</th>\n",
       "      <td>OverallQual</td>\n",
       "      <td>Rates the overall material and finish of the ...</td>\n",
       "      <td>[[10     Very Excellent], [9      Excellent], ...</td>\n",
       "      <td>Categorical</td>\n",
       "    </tr>\n",
       "    <tr>\n",
       "      <th>17</th>\n",
       "      <td>OverallCond</td>\n",
       "      <td>Rates the overall condition of the house</td>\n",
       "      <td>[[10     Very Excellent], [9      Excellent], ...</td>\n",
       "      <td>Categorical</td>\n",
       "    </tr>\n",
       "    <tr>\n",
       "      <th>18</th>\n",
       "      <td>YearBuilt</td>\n",
       "      <td>Original construction date</td>\n",
       "      <td>[]</td>\n",
       "      <td>Numerical</td>\n",
       "    </tr>\n",
       "    <tr>\n",
       "      <th>19</th>\n",
       "      <td>YearRemodAdd</td>\n",
       "      <td>Remodel date (same as construction date if no...</td>\n",
       "      <td>[]</td>\n",
       "      <td>Numerical</td>\n",
       "    </tr>\n",
       "    <tr>\n",
       "      <th>20</th>\n",
       "      <td>RoofStyle</td>\n",
       "      <td>Type of roof</td>\n",
       "      <td>[[Flat   Flat], [Gable  Gable], [Gambrel      ...</td>\n",
       "      <td>Categorical</td>\n",
       "    </tr>\n",
       "    <tr>\n",
       "      <th>21</th>\n",
       "      <td>RoofMatl</td>\n",
       "      <td>Roof material</td>\n",
       "      <td>[[ClyTile       Clay or Tile], [CompShg       ...</td>\n",
       "      <td>Categorical</td>\n",
       "    </tr>\n",
       "    <tr>\n",
       "      <th>22</th>\n",
       "      <td>Exterior1st</td>\n",
       "      <td>Exterior covering on house</td>\n",
       "      <td>[[AsbShng       Asbestos Shingles], [AsphShn  ...</td>\n",
       "      <td>Categorical</td>\n",
       "    </tr>\n",
       "    <tr>\n",
       "      <th>23</th>\n",
       "      <td>Exterior2nd</td>\n",
       "      <td>Exterior covering on house (if more than one ...</td>\n",
       "      <td>[[AsbShng       Asbestos Shingles], [AsphShn  ...</td>\n",
       "      <td>Categorical</td>\n",
       "    </tr>\n",
       "    <tr>\n",
       "      <th>24</th>\n",
       "      <td>MasVnrType</td>\n",
       "      <td>Masonry veneer type</td>\n",
       "      <td>[[BrkCmn Brick Common], [BrkFace       Brick F...</td>\n",
       "      <td>Categorical</td>\n",
       "    </tr>\n",
       "    <tr>\n",
       "      <th>25</th>\n",
       "      <td>MasVnrArea</td>\n",
       "      <td>Masonry veneer area in square feet</td>\n",
       "      <td>[]</td>\n",
       "      <td>Numerical</td>\n",
       "    </tr>\n",
       "    <tr>\n",
       "      <th>26</th>\n",
       "      <td>ExterQual</td>\n",
       "      <td>Evaluates the quality of the material on the ...</td>\n",
       "      <td>[[Ex     Excellent], [Gd     Good], [TA     Av...</td>\n",
       "      <td>Categorical</td>\n",
       "    </tr>\n",
       "    <tr>\n",
       "      <th>27</th>\n",
       "      <td>ExterCond</td>\n",
       "      <td>Evaluates the present condition of the materi...</td>\n",
       "      <td>[[Ex     Excellent], [Gd     Good], [TA     Av...</td>\n",
       "      <td>Categorical</td>\n",
       "    </tr>\n",
       "    <tr>\n",
       "      <th>28</th>\n",
       "      <td>Foundation</td>\n",
       "      <td>Type of foundation</td>\n",
       "      <td>[[BrkTil Brick &amp; Tile], [CBlock Cinder Block],...</td>\n",
       "      <td>Categorical</td>\n",
       "    </tr>\n",
       "    <tr>\n",
       "      <th>29</th>\n",
       "      <td>BsmtQual</td>\n",
       "      <td>Evaluates the height of the basement</td>\n",
       "      <td>[[Ex     Excellent (100+ inches)], [Gd     Goo...</td>\n",
       "      <td>Categorical</td>\n",
       "    </tr>\n",
       "    <tr>\n",
       "      <th>30</th>\n",
       "      <td>BsmtCond</td>\n",
       "      <td>Evaluates the general condition of the basement</td>\n",
       "      <td>[[Ex     Excellent], [Gd     Good], [TA     Ty...</td>\n",
       "      <td>Categorical</td>\n",
       "    </tr>\n",
       "    <tr>\n",
       "      <th>31</th>\n",
       "      <td>BsmtExposure</td>\n",
       "      <td>Refers to walkout or garden level walls</td>\n",
       "      <td>[[Gd     Good Exposure], [Av     Average Expos...</td>\n",
       "      <td>Categorical</td>\n",
       "    </tr>\n",
       "    <tr>\n",
       "      <th>32</th>\n",
       "      <td>BsmtFinType1</td>\n",
       "      <td>Rating of basement finished area</td>\n",
       "      <td>[[GLQ    Good Living Quarters], [ALQ    Averag...</td>\n",
       "      <td>Categorical</td>\n",
       "    </tr>\n",
       "    <tr>\n",
       "      <th>33</th>\n",
       "      <td>BsmtFinSF1</td>\n",
       "      <td>Type 1 finished square feet</td>\n",
       "      <td>[]</td>\n",
       "      <td>Numerical</td>\n",
       "    </tr>\n",
       "    <tr>\n",
       "      <th>34</th>\n",
       "      <td>BsmtFinType2</td>\n",
       "      <td>Rating of basement finished area (if multiple...</td>\n",
       "      <td>[[GLQ    Good Living Quarters], [ALQ    Averag...</td>\n",
       "      <td>Categorical</td>\n",
       "    </tr>\n",
       "    <tr>\n",
       "      <th>35</th>\n",
       "      <td>BsmtFinSF2</td>\n",
       "      <td>Type 2 finished square feet</td>\n",
       "      <td>[]</td>\n",
       "      <td>Numerical</td>\n",
       "    </tr>\n",
       "    <tr>\n",
       "      <th>36</th>\n",
       "      <td>BsmtUnfSF</td>\n",
       "      <td>Unfinished square feet of basement area</td>\n",
       "      <td>[]</td>\n",
       "      <td>Numerical</td>\n",
       "    </tr>\n",
       "    <tr>\n",
       "      <th>37</th>\n",
       "      <td>TotalBsmtSF</td>\n",
       "      <td>Total square feet of basement area</td>\n",
       "      <td>[]</td>\n",
       "      <td>Numerical</td>\n",
       "    </tr>\n",
       "    <tr>\n",
       "      <th>38</th>\n",
       "      <td>Heating</td>\n",
       "      <td>Type of heating</td>\n",
       "      <td>[[Floor  Floor Furnace], [GasA   Gas forced wa...</td>\n",
       "      <td>Categorical</td>\n",
       "    </tr>\n",
       "    <tr>\n",
       "      <th>39</th>\n",
       "      <td>HeatingQC</td>\n",
       "      <td>Heating quality and condition</td>\n",
       "      <td>[[Ex     Excellent], [Gd     Good], [TA     Av...</td>\n",
       "      <td>Categorical</td>\n",
       "    </tr>\n",
       "    <tr>\n",
       "      <th>40</th>\n",
       "      <td>CentralAir</td>\n",
       "      <td>Central air conditioning</td>\n",
       "      <td>[[N      No], [Y      Yes]]</td>\n",
       "      <td>Binary Categorical</td>\n",
       "    </tr>\n",
       "    <tr>\n",
       "      <th>41</th>\n",
       "      <td>Electrical</td>\n",
       "      <td>Electrical system</td>\n",
       "      <td>[[SBrkr  Standard Circuit Breakers &amp; Romex], [...</td>\n",
       "      <td>Categorical</td>\n",
       "    </tr>\n",
       "    <tr>\n",
       "      <th>42</th>\n",
       "      <td>1stFlrSF</td>\n",
       "      <td>First Floor square feet</td>\n",
       "      <td>[]</td>\n",
       "      <td>Numerical</td>\n",
       "    </tr>\n",
       "    <tr>\n",
       "      <th>43</th>\n",
       "      <td>2ndFlrSF</td>\n",
       "      <td>Second floor square feet</td>\n",
       "      <td>[]</td>\n",
       "      <td>Numerical</td>\n",
       "    </tr>\n",
       "    <tr>\n",
       "      <th>44</th>\n",
       "      <td>LowQualFinSF</td>\n",
       "      <td>Low quality finished square feet (all floors)</td>\n",
       "      <td>[]</td>\n",
       "      <td>Numerical</td>\n",
       "    </tr>\n",
       "    <tr>\n",
       "      <th>45</th>\n",
       "      <td>GrLivArea</td>\n",
       "      <td>Above grade (ground) living area square feet</td>\n",
       "      <td>[]</td>\n",
       "      <td>Numerical</td>\n",
       "    </tr>\n",
       "    <tr>\n",
       "      <th>46</th>\n",
       "      <td>BsmtFullBath</td>\n",
       "      <td>Basement full bathrooms</td>\n",
       "      <td>[]</td>\n",
       "      <td>Numerical</td>\n",
       "    </tr>\n",
       "    <tr>\n",
       "      <th>47</th>\n",
       "      <td>BsmtHalfBath</td>\n",
       "      <td>Basement half bathrooms</td>\n",
       "      <td>[]</td>\n",
       "      <td>Numerical</td>\n",
       "    </tr>\n",
       "    <tr>\n",
       "      <th>48</th>\n",
       "      <td>FullBath</td>\n",
       "      <td>Full bathrooms above grade</td>\n",
       "      <td>[]</td>\n",
       "      <td>Numerical</td>\n",
       "    </tr>\n",
       "    <tr>\n",
       "      <th>49</th>\n",
       "      <td>HalfBath</td>\n",
       "      <td>Half baths above grade</td>\n",
       "      <td>[]</td>\n",
       "      <td>Numerical</td>\n",
       "    </tr>\n",
       "    <tr>\n",
       "      <th>50</th>\n",
       "      <td>Bedroom</td>\n",
       "      <td>Bedrooms above grade (does NOT include baseme...</td>\n",
       "      <td>[]</td>\n",
       "      <td>Numerical</td>\n",
       "    </tr>\n",
       "    <tr>\n",
       "      <th>51</th>\n",
       "      <td>Kitchen</td>\n",
       "      <td>Kitchens above grade</td>\n",
       "      <td>[]</td>\n",
       "      <td>Numerical</td>\n",
       "    </tr>\n",
       "    <tr>\n",
       "      <th>52</th>\n",
       "      <td>KitchenQual</td>\n",
       "      <td>Kitchen quality</td>\n",
       "      <td>[[Ex     Excellent], [Gd     Good], [TA     Ty...</td>\n",
       "      <td>Categorical</td>\n",
       "    </tr>\n",
       "    <tr>\n",
       "      <th>53</th>\n",
       "      <td>TotRmsAbvGrd</td>\n",
       "      <td>Total rooms above grade (does not include bat...</td>\n",
       "      <td>[]</td>\n",
       "      <td>Numerical</td>\n",
       "    </tr>\n",
       "    <tr>\n",
       "      <th>54</th>\n",
       "      <td>Functional</td>\n",
       "      <td>Home functionality (Assume typical unless ded...</td>\n",
       "      <td>[[Typ    Typical Functionality], [Min1   Minor...</td>\n",
       "      <td>Categorical</td>\n",
       "    </tr>\n",
       "    <tr>\n",
       "      <th>55</th>\n",
       "      <td>Fireplaces</td>\n",
       "      <td>Number of fireplaces</td>\n",
       "      <td>[]</td>\n",
       "      <td>Numerical</td>\n",
       "    </tr>\n",
       "    <tr>\n",
       "      <th>56</th>\n",
       "      <td>FireplaceQu</td>\n",
       "      <td>Fireplace quality</td>\n",
       "      <td>[[Ex     Excellent - Exceptional Masonry Firep...</td>\n",
       "      <td>Categorical</td>\n",
       "    </tr>\n",
       "    <tr>\n",
       "      <th>57</th>\n",
       "      <td>GarageType</td>\n",
       "      <td>Garage location</td>\n",
       "      <td>[[2Types More than one type of garage], [Attch...</td>\n",
       "      <td>Categorical</td>\n",
       "    </tr>\n",
       "    <tr>\n",
       "      <th>58</th>\n",
       "      <td>GarageYrBlt</td>\n",
       "      <td>Year garage was built</td>\n",
       "      <td>[]</td>\n",
       "      <td>Numerical</td>\n",
       "    </tr>\n",
       "    <tr>\n",
       "      <th>59</th>\n",
       "      <td>GarageFinish</td>\n",
       "      <td>Interior finish of the garage</td>\n",
       "      <td>[[Fin    Finished], [RFn    Rough Finished], [...</td>\n",
       "      <td>Categorical</td>\n",
       "    </tr>\n",
       "    <tr>\n",
       "      <th>60</th>\n",
       "      <td>GarageCars</td>\n",
       "      <td>Size of garage in car capacity</td>\n",
       "      <td>[]</td>\n",
       "      <td>Numerical</td>\n",
       "    </tr>\n",
       "    <tr>\n",
       "      <th>61</th>\n",
       "      <td>GarageArea</td>\n",
       "      <td>Size of garage in square feet</td>\n",
       "      <td>[]</td>\n",
       "      <td>Numerical</td>\n",
       "    </tr>\n",
       "    <tr>\n",
       "      <th>62</th>\n",
       "      <td>GarageQual</td>\n",
       "      <td>Garage quality</td>\n",
       "      <td>[[Ex     Excellent], [Gd     Good], [TA     Ty...</td>\n",
       "      <td>Categorical</td>\n",
       "    </tr>\n",
       "    <tr>\n",
       "      <th>63</th>\n",
       "      <td>GarageCond</td>\n",
       "      <td>Garage condition</td>\n",
       "      <td>[[Ex     Excellent], [Gd     Good], [TA     Ty...</td>\n",
       "      <td>Categorical</td>\n",
       "    </tr>\n",
       "    <tr>\n",
       "      <th>64</th>\n",
       "      <td>PavedDrive</td>\n",
       "      <td>Paved driveway</td>\n",
       "      <td>[[Y      Paved], [P      Partial Pavement], [N...</td>\n",
       "      <td>Categorical</td>\n",
       "    </tr>\n",
       "    <tr>\n",
       "      <th>65</th>\n",
       "      <td>WoodDeckSF</td>\n",
       "      <td>Wood deck area in square feet</td>\n",
       "      <td>[]</td>\n",
       "      <td>Numerical</td>\n",
       "    </tr>\n",
       "    <tr>\n",
       "      <th>66</th>\n",
       "      <td>OpenPorchSF</td>\n",
       "      <td>Open porch area in square feet</td>\n",
       "      <td>[]</td>\n",
       "      <td>Numerical</td>\n",
       "    </tr>\n",
       "    <tr>\n",
       "      <th>67</th>\n",
       "      <td>EnclosedPorch</td>\n",
       "      <td>Enclosed porch area in square feet</td>\n",
       "      <td>[]</td>\n",
       "      <td>Numerical</td>\n",
       "    </tr>\n",
       "    <tr>\n",
       "      <th>68</th>\n",
       "      <td>3SsnPorch</td>\n",
       "      <td>Three season porch area in square feet</td>\n",
       "      <td>[]</td>\n",
       "      <td>Numerical</td>\n",
       "    </tr>\n",
       "    <tr>\n",
       "      <th>69</th>\n",
       "      <td>ScreenPorch</td>\n",
       "      <td>Screen porch area in square feet</td>\n",
       "      <td>[]</td>\n",
       "      <td>Numerical</td>\n",
       "    </tr>\n",
       "    <tr>\n",
       "      <th>70</th>\n",
       "      <td>PoolArea</td>\n",
       "      <td>Pool area in square feet</td>\n",
       "      <td>[]</td>\n",
       "      <td>Numerical</td>\n",
       "    </tr>\n",
       "    <tr>\n",
       "      <th>71</th>\n",
       "      <td>PoolQC</td>\n",
       "      <td>Pool quality</td>\n",
       "      <td>[[Ex     Excellent], [Gd     Good], [TA     Av...</td>\n",
       "      <td>Categorical</td>\n",
       "    </tr>\n",
       "    <tr>\n",
       "      <th>72</th>\n",
       "      <td>Fence</td>\n",
       "      <td>Fence quality</td>\n",
       "      <td>[[GdPrv  Good Privacy], [MnPrv  Minimum Privac...</td>\n",
       "      <td>Categorical</td>\n",
       "    </tr>\n",
       "    <tr>\n",
       "      <th>73</th>\n",
       "      <td>MiscFeature</td>\n",
       "      <td>Miscellaneous feature not covered in other ca...</td>\n",
       "      <td>[[Elev   Elevator], [Gar2   2nd Garage (if not...</td>\n",
       "      <td>Categorical</td>\n",
       "    </tr>\n",
       "    <tr>\n",
       "      <th>74</th>\n",
       "      <td>MiscVal</td>\n",
       "      <td>Dollar Value of miscellaneous feature</td>\n",
       "      <td>[]</td>\n",
       "      <td>Numerical</td>\n",
       "    </tr>\n",
       "    <tr>\n",
       "      <th>75</th>\n",
       "      <td>MoSold</td>\n",
       "      <td>Month Sold (MM)</td>\n",
       "      <td>[]</td>\n",
       "      <td>Numerical</td>\n",
       "    </tr>\n",
       "    <tr>\n",
       "      <th>76</th>\n",
       "      <td>YrSold</td>\n",
       "      <td>Year Sold (YYYY)</td>\n",
       "      <td>[]</td>\n",
       "      <td>Numerical</td>\n",
       "    </tr>\n",
       "    <tr>\n",
       "      <th>77</th>\n",
       "      <td>SaleType</td>\n",
       "      <td>Type of sale</td>\n",
       "      <td>[[WD     Warranty Deed - Conventional], [CWD  ...</td>\n",
       "      <td>Categorical</td>\n",
       "    </tr>\n",
       "    <tr>\n",
       "      <th>78</th>\n",
       "      <td>SaleCondition</td>\n",
       "      <td>Condition of sale</td>\n",
       "      <td>[]</td>\n",
       "      <td>Numerical</td>\n",
       "    </tr>\n",
       "  </tbody>\n",
       "</table>\n",
       "</div>"
      ],
      "text/plain": [
       "              var                                              descr  \\\n",
       "0      MSSubClass   Identifies the type of dwelling involved in t...   \n",
       "1        MSZoning   Identifies the general zoning classification ...   \n",
       "2     LotFrontage        Linear feet of street connected to property   \n",
       "3         LotArea                            Lot size in square feet   \n",
       "4          Street                    Type of road access to property   \n",
       "5           Alley                   Type of alley access to property   \n",
       "6        LotShape                          General shape of property   \n",
       "7     LandContour                           Flatness of the property   \n",
       "8       Utilities                        Type of utilities available   \n",
       "9       LotConfig                                  Lot configuration   \n",
       "10      LandSlope                                  Slope of property   \n",
       "11   Neighborhood       Physical locations within Ames city limits *   \n",
       "12     Condition1                    Proximity to various conditions   \n",
       "13     Condition2   Proximity to various conditions (if more than...   \n",
       "14       BldgType                                   Type of dwelling   \n",
       "15     HouseStyle                                  Style of dwelling   \n",
       "16    OverallQual   Rates the overall material and finish of the ...   \n",
       "17    OverallCond           Rates the overall condition of the house   \n",
       "18      YearBuilt                         Original construction date   \n",
       "19   YearRemodAdd   Remodel date (same as construction date if no...   \n",
       "20      RoofStyle                                       Type of roof   \n",
       "21       RoofMatl                                      Roof material   \n",
       "22    Exterior1st                         Exterior covering on house   \n",
       "23    Exterior2nd   Exterior covering on house (if more than one ...   \n",
       "24     MasVnrType                                Masonry veneer type   \n",
       "25     MasVnrArea                 Masonry veneer area in square feet   \n",
       "26      ExterQual   Evaluates the quality of the material on the ...   \n",
       "27      ExterCond   Evaluates the present condition of the materi...   \n",
       "28     Foundation                                 Type of foundation   \n",
       "29       BsmtQual               Evaluates the height of the basement   \n",
       "30       BsmtCond    Evaluates the general condition of the basement   \n",
       "31   BsmtExposure            Refers to walkout or garden level walls   \n",
       "32   BsmtFinType1                   Rating of basement finished area   \n",
       "33     BsmtFinSF1                        Type 1 finished square feet   \n",
       "34   BsmtFinType2   Rating of basement finished area (if multiple...   \n",
       "35     BsmtFinSF2                        Type 2 finished square feet   \n",
       "36      BsmtUnfSF            Unfinished square feet of basement area   \n",
       "37    TotalBsmtSF                 Total square feet of basement area   \n",
       "38        Heating                                    Type of heating   \n",
       "39      HeatingQC                      Heating quality and condition   \n",
       "40     CentralAir                           Central air conditioning   \n",
       "41     Electrical                                  Electrical system   \n",
       "42       1stFlrSF                            First Floor square feet   \n",
       "43       2ndFlrSF                           Second floor square feet   \n",
       "44   LowQualFinSF      Low quality finished square feet (all floors)   \n",
       "45      GrLivArea       Above grade (ground) living area square feet   \n",
       "46   BsmtFullBath                            Basement full bathrooms   \n",
       "47   BsmtHalfBath                            Basement half bathrooms   \n",
       "48       FullBath                         Full bathrooms above grade   \n",
       "49       HalfBath                             Half baths above grade   \n",
       "50        Bedroom   Bedrooms above grade (does NOT include baseme...   \n",
       "51        Kitchen                               Kitchens above grade   \n",
       "52    KitchenQual                                    Kitchen quality   \n",
       "53   TotRmsAbvGrd   Total rooms above grade (does not include bat...   \n",
       "54     Functional   Home functionality (Assume typical unless ded...   \n",
       "55     Fireplaces                               Number of fireplaces   \n",
       "56    FireplaceQu                                  Fireplace quality   \n",
       "57     GarageType                                    Garage location   \n",
       "58    GarageYrBlt                              Year garage was built   \n",
       "59   GarageFinish                      Interior finish of the garage   \n",
       "60     GarageCars                     Size of garage in car capacity   \n",
       "61     GarageArea                      Size of garage in square feet   \n",
       "62     GarageQual                                     Garage quality   \n",
       "63     GarageCond                                   Garage condition   \n",
       "64     PavedDrive                                     Paved driveway   \n",
       "65     WoodDeckSF                      Wood deck area in square feet   \n",
       "66    OpenPorchSF                     Open porch area in square feet   \n",
       "67  EnclosedPorch                 Enclosed porch area in square feet   \n",
       "68      3SsnPorch             Three season porch area in square feet   \n",
       "69    ScreenPorch                   Screen porch area in square feet   \n",
       "70       PoolArea                           Pool area in square feet   \n",
       "71         PoolQC                                       Pool quality   \n",
       "72          Fence                                      Fence quality   \n",
       "73    MiscFeature   Miscellaneous feature not covered in other ca...   \n",
       "74        MiscVal              Dollar Value of miscellaneous feature   \n",
       "75         MoSold                                    Month Sold (MM)   \n",
       "76         YrSold                                   Year Sold (YYYY)   \n",
       "77       SaleType                                       Type of sale   \n",
       "78  SaleCondition                                  Condition of sale   \n",
       "\n",
       "                                  associated_outcomes       Variable Type  \n",
       "0   [[20    1-STORY 1946 & NEWER ALL STYLES], [30 ...         Categorical  \n",
       "1   [[A      Agriculture], [C      Commercial], [F...         Categorical  \n",
       "2                                                  []           Numerical  \n",
       "3                                                  []           Numerical  \n",
       "4                   [[Grvl   Gravel], [Pave   Paved]]  Binary Categorical  \n",
       "5   [[Grvl   Gravel], [Pave   Paved], [NA     No a...         Categorical  \n",
       "6   [[Reg    Regular], [IR1    Slightly irregular]...         Categorical  \n",
       "7   [[Lvl    Near Flat/Level], [Bnk    Banked - Qu...         Categorical  \n",
       "8   [[AllPub All public Utilities (E,G,W,& S)], [N...         Categorical  \n",
       "9   [[Inside Inside lot], [Corner Corner lot], [Cu...         Categorical  \n",
       "10  [[Gtl    Gentle slope], [Mod    Moderate Slope...         Categorical  \n",
       "11  [[Blmngtn       Bloomington Heights], [Blueste...         Categorical  \n",
       "12  [[Artery Adjacent to arterial street], [Feedr ...         Categorical  \n",
       "13  [[Artery Adjacent to arterial street], [Feedr ...         Categorical  \n",
       "14  [[1Fam   Single-family Detached], [2FmCon Two-...         Categorical  \n",
       "15  [[1Story One story], [1.5Fin One and one-half ...         Categorical  \n",
       "16  [[10     Very Excellent], [9      Excellent], ...         Categorical  \n",
       "17  [[10     Very Excellent], [9      Excellent], ...         Categorical  \n",
       "18                                                 []           Numerical  \n",
       "19                                                 []           Numerical  \n",
       "20  [[Flat   Flat], [Gable  Gable], [Gambrel      ...         Categorical  \n",
       "21  [[ClyTile       Clay or Tile], [CompShg       ...         Categorical  \n",
       "22  [[AsbShng       Asbestos Shingles], [AsphShn  ...         Categorical  \n",
       "23  [[AsbShng       Asbestos Shingles], [AsphShn  ...         Categorical  \n",
       "24  [[BrkCmn Brick Common], [BrkFace       Brick F...         Categorical  \n",
       "25                                                 []           Numerical  \n",
       "26  [[Ex     Excellent], [Gd     Good], [TA     Av...         Categorical  \n",
       "27  [[Ex     Excellent], [Gd     Good], [TA     Av...         Categorical  \n",
       "28  [[BrkTil Brick & Tile], [CBlock Cinder Block],...         Categorical  \n",
       "29  [[Ex     Excellent (100+ inches)], [Gd     Goo...         Categorical  \n",
       "30  [[Ex     Excellent], [Gd     Good], [TA     Ty...         Categorical  \n",
       "31  [[Gd     Good Exposure], [Av     Average Expos...         Categorical  \n",
       "32  [[GLQ    Good Living Quarters], [ALQ    Averag...         Categorical  \n",
       "33                                                 []           Numerical  \n",
       "34  [[GLQ    Good Living Quarters], [ALQ    Averag...         Categorical  \n",
       "35                                                 []           Numerical  \n",
       "36                                                 []           Numerical  \n",
       "37                                                 []           Numerical  \n",
       "38  [[Floor  Floor Furnace], [GasA   Gas forced wa...         Categorical  \n",
       "39  [[Ex     Excellent], [Gd     Good], [TA     Av...         Categorical  \n",
       "40                        [[N      No], [Y      Yes]]  Binary Categorical  \n",
       "41  [[SBrkr  Standard Circuit Breakers & Romex], [...         Categorical  \n",
       "42                                                 []           Numerical  \n",
       "43                                                 []           Numerical  \n",
       "44                                                 []           Numerical  \n",
       "45                                                 []           Numerical  \n",
       "46                                                 []           Numerical  \n",
       "47                                                 []           Numerical  \n",
       "48                                                 []           Numerical  \n",
       "49                                                 []           Numerical  \n",
       "50                                                 []           Numerical  \n",
       "51                                                 []           Numerical  \n",
       "52  [[Ex     Excellent], [Gd     Good], [TA     Ty...         Categorical  \n",
       "53                                                 []           Numerical  \n",
       "54  [[Typ    Typical Functionality], [Min1   Minor...         Categorical  \n",
       "55                                                 []           Numerical  \n",
       "56  [[Ex     Excellent - Exceptional Masonry Firep...         Categorical  \n",
       "57  [[2Types More than one type of garage], [Attch...         Categorical  \n",
       "58                                                 []           Numerical  \n",
       "59  [[Fin    Finished], [RFn    Rough Finished], [...         Categorical  \n",
       "60                                                 []           Numerical  \n",
       "61                                                 []           Numerical  \n",
       "62  [[Ex     Excellent], [Gd     Good], [TA     Ty...         Categorical  \n",
       "63  [[Ex     Excellent], [Gd     Good], [TA     Ty...         Categorical  \n",
       "64  [[Y      Paved], [P      Partial Pavement], [N...         Categorical  \n",
       "65                                                 []           Numerical  \n",
       "66                                                 []           Numerical  \n",
       "67                                                 []           Numerical  \n",
       "68                                                 []           Numerical  \n",
       "69                                                 []           Numerical  \n",
       "70                                                 []           Numerical  \n",
       "71  [[Ex     Excellent], [Gd     Good], [TA     Av...         Categorical  \n",
       "72  [[GdPrv  Good Privacy], [MnPrv  Minimum Privac...         Categorical  \n",
       "73  [[Elev   Elevator], [Gar2   2nd Garage (if not...         Categorical  \n",
       "74                                                 []           Numerical  \n",
       "75                                                 []           Numerical  \n",
       "76                                                 []           Numerical  \n",
       "77  [[WD     Warranty Deed - Conventional], [CWD  ...         Categorical  \n",
       "78                                                 []           Numerical  "
      ]
     },
     "execution_count": 414,
     "metadata": {},
     "output_type": "execute_result"
    }
   ],
   "source": [
    "new_housing_dict"
   ]
  },
  {
   "cell_type": "code",
   "execution_count": 418,
   "metadata": {},
   "outputs": [
    {
     "data": {
      "text/plain": [
       "Index(['var', 'descr', 'associated_outcomes', 'Variable Type'], dtype='object')"
      ]
     },
     "execution_count": 418,
     "metadata": {},
     "output_type": "execute_result"
    }
   ],
   "source": [
    "new_housing_dict.columns"
   ]
  },
  {
   "cell_type": "code",
   "execution_count": 417,
   "metadata": {},
   "outputs": [
    {
     "ename": "KeyError",
     "evalue": "False",
     "output_type": "error",
     "traceback": [
      "\u001b[1;31m---------------------------------------------------------------------------\u001b[0m",
      "\u001b[1;31mKeyError\u001b[0m                                  Traceback (most recent call last)",
      "\u001b[1;32m~\\Anaconda3\\lib\\site-packages\\pandas\\core\\indexes\\base.py\u001b[0m in \u001b[0;36mget_loc\u001b[1;34m(self, key, method, tolerance)\u001b[0m\n\u001b[0;32m   2656\u001b[0m             \u001b[1;32mtry\u001b[0m\u001b[1;33m:\u001b[0m\u001b[1;33m\u001b[0m\u001b[1;33m\u001b[0m\u001b[0m\n\u001b[1;32m-> 2657\u001b[1;33m                 \u001b[1;32mreturn\u001b[0m \u001b[0mself\u001b[0m\u001b[1;33m.\u001b[0m\u001b[0m_engine\u001b[0m\u001b[1;33m.\u001b[0m\u001b[0mget_loc\u001b[0m\u001b[1;33m(\u001b[0m\u001b[0mkey\u001b[0m\u001b[1;33m)\u001b[0m\u001b[1;33m\u001b[0m\u001b[1;33m\u001b[0m\u001b[0m\n\u001b[0m\u001b[0;32m   2658\u001b[0m             \u001b[1;32mexcept\u001b[0m \u001b[0mKeyError\u001b[0m\u001b[1;33m:\u001b[0m\u001b[1;33m\u001b[0m\u001b[1;33m\u001b[0m\u001b[0m\n",
      "\u001b[1;32mpandas/_libs/index.pyx\u001b[0m in \u001b[0;36mpandas._libs.index.IndexEngine.get_loc\u001b[1;34m()\u001b[0m\n",
      "\u001b[1;32mpandas/_libs/index.pyx\u001b[0m in \u001b[0;36mpandas._libs.index.IndexEngine.get_loc\u001b[1;34m()\u001b[0m\n",
      "\u001b[1;32mpandas/_libs/index_class_helper.pxi\u001b[0m in \u001b[0;36mpandas._libs.index.Int64Engine._check_type\u001b[1;34m()\u001b[0m\n",
      "\u001b[1;31mKeyError\u001b[0m: False",
      "\nDuring handling of the above exception, another exception occurred:\n",
      "\u001b[1;31mKeyError\u001b[0m                                  Traceback (most recent call last)",
      "\u001b[1;32m<ipython-input-417-04f8f6ebd729>\u001b[0m in \u001b[0;36m<module>\u001b[1;34m\u001b[0m\n\u001b[1;32m----> 1\u001b[1;33m \u001b[0mnew_housing_dict\u001b[0m\u001b[1;33m.\u001b[0m\u001b[0mloc\u001b[0m\u001b[1;33m[\u001b[0m\u001b[0mnew_housing_dict\u001b[0m\u001b[1;33m[\u001b[0m\u001b[1;34m'var'\u001b[0m\u001b[1;33m]\u001b[0m\u001b[1;33m.\u001b[0m\u001b[0m__contains__\u001b[0m\u001b[1;33m(\u001b[0m\u001b[1;34m'pool'\u001b[0m\u001b[1;33m)\u001b[0m\u001b[1;33m]\u001b[0m\u001b[1;33m\u001b[0m\u001b[1;33m\u001b[0m\u001b[0m\n\u001b[0m",
      "\u001b[1;32m~\\Anaconda3\\lib\\site-packages\\pandas\\core\\indexing.py\u001b[0m in \u001b[0;36m__getitem__\u001b[1;34m(self, key)\u001b[0m\n\u001b[0;32m   1498\u001b[0m \u001b[1;33m\u001b[0m\u001b[0m\n\u001b[0;32m   1499\u001b[0m             \u001b[0mmaybe_callable\u001b[0m \u001b[1;33m=\u001b[0m \u001b[0mcom\u001b[0m\u001b[1;33m.\u001b[0m\u001b[0mapply_if_callable\u001b[0m\u001b[1;33m(\u001b[0m\u001b[0mkey\u001b[0m\u001b[1;33m,\u001b[0m \u001b[0mself\u001b[0m\u001b[1;33m.\u001b[0m\u001b[0mobj\u001b[0m\u001b[1;33m)\u001b[0m\u001b[1;33m\u001b[0m\u001b[1;33m\u001b[0m\u001b[0m\n\u001b[1;32m-> 1500\u001b[1;33m             \u001b[1;32mreturn\u001b[0m \u001b[0mself\u001b[0m\u001b[1;33m.\u001b[0m\u001b[0m_getitem_axis\u001b[0m\u001b[1;33m(\u001b[0m\u001b[0mmaybe_callable\u001b[0m\u001b[1;33m,\u001b[0m \u001b[0maxis\u001b[0m\u001b[1;33m=\u001b[0m\u001b[0maxis\u001b[0m\u001b[1;33m)\u001b[0m\u001b[1;33m\u001b[0m\u001b[1;33m\u001b[0m\u001b[0m\n\u001b[0m\u001b[0;32m   1501\u001b[0m \u001b[1;33m\u001b[0m\u001b[0m\n\u001b[0;32m   1502\u001b[0m     \u001b[1;32mdef\u001b[0m \u001b[0m_is_scalar_access\u001b[0m\u001b[1;33m(\u001b[0m\u001b[0mself\u001b[0m\u001b[1;33m,\u001b[0m \u001b[0mkey\u001b[0m\u001b[1;33m)\u001b[0m\u001b[1;33m:\u001b[0m\u001b[1;33m\u001b[0m\u001b[1;33m\u001b[0m\u001b[0m\n",
      "\u001b[1;32m~\\Anaconda3\\lib\\site-packages\\pandas\\core\\indexing.py\u001b[0m in \u001b[0;36m_getitem_axis\u001b[1;34m(self, key, axis)\u001b[0m\n\u001b[0;32m   1911\u001b[0m         \u001b[1;31m# fall thru to straight lookup\u001b[0m\u001b[1;33m\u001b[0m\u001b[1;33m\u001b[0m\u001b[1;33m\u001b[0m\u001b[0m\n\u001b[0;32m   1912\u001b[0m         \u001b[0mself\u001b[0m\u001b[1;33m.\u001b[0m\u001b[0m_validate_key\u001b[0m\u001b[1;33m(\u001b[0m\u001b[0mkey\u001b[0m\u001b[1;33m,\u001b[0m \u001b[0maxis\u001b[0m\u001b[1;33m)\u001b[0m\u001b[1;33m\u001b[0m\u001b[1;33m\u001b[0m\u001b[0m\n\u001b[1;32m-> 1913\u001b[1;33m         \u001b[1;32mreturn\u001b[0m \u001b[0mself\u001b[0m\u001b[1;33m.\u001b[0m\u001b[0m_get_label\u001b[0m\u001b[1;33m(\u001b[0m\u001b[0mkey\u001b[0m\u001b[1;33m,\u001b[0m \u001b[0maxis\u001b[0m\u001b[1;33m=\u001b[0m\u001b[0maxis\u001b[0m\u001b[1;33m)\u001b[0m\u001b[1;33m\u001b[0m\u001b[1;33m\u001b[0m\u001b[0m\n\u001b[0m\u001b[0;32m   1914\u001b[0m \u001b[1;33m\u001b[0m\u001b[0m\n\u001b[0;32m   1915\u001b[0m \u001b[1;33m\u001b[0m\u001b[0m\n",
      "\u001b[1;32m~\\Anaconda3\\lib\\site-packages\\pandas\\core\\indexing.py\u001b[0m in \u001b[0;36m_get_label\u001b[1;34m(self, label, axis)\u001b[0m\n\u001b[0;32m    139\u001b[0m             \u001b[1;32mraise\u001b[0m \u001b[0mIndexingError\u001b[0m\u001b[1;33m(\u001b[0m\u001b[1;34m'no slices here, handle elsewhere'\u001b[0m\u001b[1;33m)\u001b[0m\u001b[1;33m\u001b[0m\u001b[1;33m\u001b[0m\u001b[0m\n\u001b[0;32m    140\u001b[0m \u001b[1;33m\u001b[0m\u001b[0m\n\u001b[1;32m--> 141\u001b[1;33m         \u001b[1;32mreturn\u001b[0m \u001b[0mself\u001b[0m\u001b[1;33m.\u001b[0m\u001b[0mobj\u001b[0m\u001b[1;33m.\u001b[0m\u001b[0m_xs\u001b[0m\u001b[1;33m(\u001b[0m\u001b[0mlabel\u001b[0m\u001b[1;33m,\u001b[0m \u001b[0maxis\u001b[0m\u001b[1;33m=\u001b[0m\u001b[0maxis\u001b[0m\u001b[1;33m)\u001b[0m\u001b[1;33m\u001b[0m\u001b[1;33m\u001b[0m\u001b[0m\n\u001b[0m\u001b[0;32m    142\u001b[0m \u001b[1;33m\u001b[0m\u001b[0m\n\u001b[0;32m    143\u001b[0m     \u001b[1;32mdef\u001b[0m \u001b[0m_get_loc\u001b[0m\u001b[1;33m(\u001b[0m\u001b[0mself\u001b[0m\u001b[1;33m,\u001b[0m \u001b[0mkey\u001b[0m\u001b[1;33m,\u001b[0m \u001b[0maxis\u001b[0m\u001b[1;33m=\u001b[0m\u001b[1;32mNone\u001b[0m\u001b[1;33m)\u001b[0m\u001b[1;33m:\u001b[0m\u001b[1;33m\u001b[0m\u001b[1;33m\u001b[0m\u001b[0m\n",
      "\u001b[1;32m~\\Anaconda3\\lib\\site-packages\\pandas\\core\\generic.py\u001b[0m in \u001b[0;36mxs\u001b[1;34m(self, key, axis, level, drop_level)\u001b[0m\n\u001b[0;32m   3583\u001b[0m                                                       drop_level=drop_level)\n\u001b[0;32m   3584\u001b[0m         \u001b[1;32melse\u001b[0m\u001b[1;33m:\u001b[0m\u001b[1;33m\u001b[0m\u001b[1;33m\u001b[0m\u001b[0m\n\u001b[1;32m-> 3585\u001b[1;33m             \u001b[0mloc\u001b[0m \u001b[1;33m=\u001b[0m \u001b[0mself\u001b[0m\u001b[1;33m.\u001b[0m\u001b[0mindex\u001b[0m\u001b[1;33m.\u001b[0m\u001b[0mget_loc\u001b[0m\u001b[1;33m(\u001b[0m\u001b[0mkey\u001b[0m\u001b[1;33m)\u001b[0m\u001b[1;33m\u001b[0m\u001b[1;33m\u001b[0m\u001b[0m\n\u001b[0m\u001b[0;32m   3586\u001b[0m \u001b[1;33m\u001b[0m\u001b[0m\n\u001b[0;32m   3587\u001b[0m             \u001b[1;32mif\u001b[0m \u001b[0misinstance\u001b[0m\u001b[1;33m(\u001b[0m\u001b[0mloc\u001b[0m\u001b[1;33m,\u001b[0m \u001b[0mnp\u001b[0m\u001b[1;33m.\u001b[0m\u001b[0mndarray\u001b[0m\u001b[1;33m)\u001b[0m\u001b[1;33m:\u001b[0m\u001b[1;33m\u001b[0m\u001b[1;33m\u001b[0m\u001b[0m\n",
      "\u001b[1;32m~\\Anaconda3\\lib\\site-packages\\pandas\\core\\indexes\\base.py\u001b[0m in \u001b[0;36mget_loc\u001b[1;34m(self, key, method, tolerance)\u001b[0m\n\u001b[0;32m   2657\u001b[0m                 \u001b[1;32mreturn\u001b[0m \u001b[0mself\u001b[0m\u001b[1;33m.\u001b[0m\u001b[0m_engine\u001b[0m\u001b[1;33m.\u001b[0m\u001b[0mget_loc\u001b[0m\u001b[1;33m(\u001b[0m\u001b[0mkey\u001b[0m\u001b[1;33m)\u001b[0m\u001b[1;33m\u001b[0m\u001b[1;33m\u001b[0m\u001b[0m\n\u001b[0;32m   2658\u001b[0m             \u001b[1;32mexcept\u001b[0m \u001b[0mKeyError\u001b[0m\u001b[1;33m:\u001b[0m\u001b[1;33m\u001b[0m\u001b[1;33m\u001b[0m\u001b[0m\n\u001b[1;32m-> 2659\u001b[1;33m                 \u001b[1;32mreturn\u001b[0m \u001b[0mself\u001b[0m\u001b[1;33m.\u001b[0m\u001b[0m_engine\u001b[0m\u001b[1;33m.\u001b[0m\u001b[0mget_loc\u001b[0m\u001b[1;33m(\u001b[0m\u001b[0mself\u001b[0m\u001b[1;33m.\u001b[0m\u001b[0m_maybe_cast_indexer\u001b[0m\u001b[1;33m(\u001b[0m\u001b[0mkey\u001b[0m\u001b[1;33m)\u001b[0m\u001b[1;33m)\u001b[0m\u001b[1;33m\u001b[0m\u001b[1;33m\u001b[0m\u001b[0m\n\u001b[0m\u001b[0;32m   2660\u001b[0m         \u001b[0mindexer\u001b[0m \u001b[1;33m=\u001b[0m \u001b[0mself\u001b[0m\u001b[1;33m.\u001b[0m\u001b[0mget_indexer\u001b[0m\u001b[1;33m(\u001b[0m\u001b[1;33m[\u001b[0m\u001b[0mkey\u001b[0m\u001b[1;33m]\u001b[0m\u001b[1;33m,\u001b[0m \u001b[0mmethod\u001b[0m\u001b[1;33m=\u001b[0m\u001b[0mmethod\u001b[0m\u001b[1;33m,\u001b[0m \u001b[0mtolerance\u001b[0m\u001b[1;33m=\u001b[0m\u001b[0mtolerance\u001b[0m\u001b[1;33m)\u001b[0m\u001b[1;33m\u001b[0m\u001b[1;33m\u001b[0m\u001b[0m\n\u001b[0;32m   2661\u001b[0m         \u001b[1;32mif\u001b[0m \u001b[0mindexer\u001b[0m\u001b[1;33m.\u001b[0m\u001b[0mndim\u001b[0m \u001b[1;33m>\u001b[0m \u001b[1;36m1\u001b[0m \u001b[1;32mor\u001b[0m \u001b[0mindexer\u001b[0m\u001b[1;33m.\u001b[0m\u001b[0msize\u001b[0m \u001b[1;33m>\u001b[0m \u001b[1;36m1\u001b[0m\u001b[1;33m:\u001b[0m\u001b[1;33m\u001b[0m\u001b[1;33m\u001b[0m\u001b[0m\n",
      "\u001b[1;32mpandas/_libs/index.pyx\u001b[0m in \u001b[0;36mpandas._libs.index.IndexEngine.get_loc\u001b[1;34m()\u001b[0m\n",
      "\u001b[1;32mpandas/_libs/index.pyx\u001b[0m in \u001b[0;36mpandas._libs.index.IndexEngine.get_loc\u001b[1;34m()\u001b[0m\n",
      "\u001b[1;32mpandas/_libs/index_class_helper.pxi\u001b[0m in \u001b[0;36mpandas._libs.index.Int64Engine._check_type\u001b[1;34m()\u001b[0m\n",
      "\u001b[1;31mKeyError\u001b[0m: False"
     ]
    }
   ],
   "source": [
    "new_housing_dict.loc[new_housing_dict['var'].__contains__('pool')]"
   ]
  },
  {
   "cell_type": "markdown",
   "metadata": {},
   "source": [
    "### Data Dictionary for Real Estate Data"
   ]
  },
  {
   "cell_type": "code",
   "execution_count": 46,
   "metadata": {},
   "outputs": [],
   "source": [
    "#print(dd['Field Name'].to_numpy())\n",
    "#print(len(dd['Field Name'].to_numpy()))"
   ]
  },
  {
   "cell_type": "markdown",
   "metadata": {},
   "source": [
    "# Merging housing and real estate datasets"
   ]
  },
  {
   "cell_type": "code",
   "execution_count": 315,
   "metadata": {},
   "outputs": [
    {
     "data": {
      "text/html": [
       "<div>\n",
       "<style scoped>\n",
       "    .dataframe tbody tr th:only-of-type {\n",
       "        vertical-align: middle;\n",
       "    }\n",
       "\n",
       "    .dataframe tbody tr th {\n",
       "        vertical-align: top;\n",
       "    }\n",
       "\n",
       "    .dataframe thead th {\n",
       "        text-align: right;\n",
       "    }\n",
       "</style>\n",
       "<table border=\"1\" class=\"dataframe\">\n",
       "  <thead>\n",
       "    <tr style=\"text-align: right;\">\n",
       "      <th></th>\n",
       "      <th>Field Number</th>\n",
       "      <th>Field Name</th>\n",
       "      <th>Field Start Position</th>\n",
       "      <th>Field Length</th>\n",
       "      <th>Data Type</th>\n",
       "      <th>Description</th>\n",
       "      <th>Notes</th>\n",
       "    </tr>\n",
       "  </thead>\n",
       "  <tbody>\n",
       "    <tr>\n",
       "      <th>59</th>\n",
       "      <td>60</td>\n",
       "      <td>AcreGr</td>\n",
       "      <td>936</td>\n",
       "      <td>22</td>\n",
       "      <td>Double</td>\n",
       "      <td>Acres, Gross</td>\n",
       "      <td>NaN</td>\n",
       "    </tr>\n",
       "    <tr>\n",
       "      <th>60</th>\n",
       "      <td>61</td>\n",
       "      <td>AcreNt_S</td>\n",
       "      <td>958</td>\n",
       "      <td>22</td>\n",
       "      <td>Double</td>\n",
       "      <td>Acres, Net -- Assessor Year</td>\n",
       "      <td>NaN</td>\n",
       "    </tr>\n",
       "    <tr>\n",
       "      <th>57</th>\n",
       "      <td>58</td>\n",
       "      <td>AcreX_S1</td>\n",
       "      <td>892</td>\n",
       "      <td>22</td>\n",
       "      <td>Double</td>\n",
       "      <td>Acres, Exemption 1 -- Assessor Year</td>\n",
       "      <td>NaN</td>\n",
       "    </tr>\n",
       "    <tr>\n",
       "      <th>58</th>\n",
       "      <td>59</td>\n",
       "      <td>AcreX_S2</td>\n",
       "      <td>914</td>\n",
       "      <td>22</td>\n",
       "      <td>Double</td>\n",
       "      <td>Acres, Exemption 2 -- Assessor Year</td>\n",
       "      <td>NaN</td>\n",
       "    </tr>\n",
       "    <tr>\n",
       "      <th>63</th>\n",
       "      <td>64</td>\n",
       "      <td>BldgNo_S</td>\n",
       "      <td>998</td>\n",
       "      <td>6</td>\n",
       "      <td>Integer</td>\n",
       "      <td>Number of Buildings -- Assessor Year</td>\n",
       "      <td>Not on residential parcels</td>\n",
       "    </tr>\n",
       "  </tbody>\n",
       "</table>\n",
       "</div>"
      ],
      "text/plain": [
       "    Field Number Field Name  Field Start Position  Field Length Data Type  \\\n",
       "59            60     AcreGr                   936            22    Double   \n",
       "60            61   AcreNt_S                   958            22    Double   \n",
       "57            58   AcreX_S1                   892            22    Double   \n",
       "58            59   AcreX_S2                   914            22    Double   \n",
       "63            64   BldgNo_S                   998             6   Integer   \n",
       "\n",
       "                             Description                       Notes  \n",
       "59                          Acres, Gross                         NaN  \n",
       "60           Acres, Net -- Assessor Year                         NaN  \n",
       "57   Acres, Exemption 1 -- Assessor Year                         NaN  \n",
       "58   Acres, Exemption 2 -- Assessor Year                         NaN  \n",
       "63  Number of Buildings -- Assessor Year  Not on residential parcels  "
      ]
     },
     "execution_count": 315,
     "metadata": {},
     "output_type": "execute_result"
    }
   ],
   "source": [
    "dd.sort_values(by = 'Field Name').head()"
   ]
  },
  {
   "cell_type": "code",
   "execution_count": 144,
   "metadata": {},
   "outputs": [],
   "source": [
    "Kres = ['MapRefNo','SchD_S','TxD_S','Rcrd_Yr','Rcrd_Mo','LndAc_S','ImpAc_S', #res variables to keep\n",
    "        'OthAc_S','TtlVal_AsrYr','ValType','TxNet','TxGross',\n",
    "        'AcreGr','AcreNt_S','LotArea','YrBuilt','HouseStyle',\n",
    "        'Foundation','RoofMatl','Ext1','Ext2','MasVnrType',\n",
    "       'Heating','Central Air','GLA','TtlBsmtSF',\n",
    "       'TotRmsAbvGrd','Fireplaces','PoolArea','GarageType',\n",
    "       'GarYrBlt','Cars','SalePrice','SaleType',\n",
    "       'SaleCond','PA-Nmbr','PA-PreD','PA-Strt','PA-StSfx',\n",
    "       'PA-PostD','PA-UnTyp','PA-UntNo','Date','Source','NmbrBRs']\n",
    "idx = [list(res.columns).index(i) for i in Kres if i in res.columns]\n",
    "\n",
    "res_truncated = res.iloc[:,idx]"
   ]
  },
  {
   "cell_type": "code",
   "execution_count": 145,
   "metadata": {},
   "outputs": [
    {
     "data": {
      "text/plain": [
       "True"
      ]
     },
     "execution_count": 145,
     "metadata": {},
     "output_type": "execute_result"
    }
   ],
   "source": [
    "len(res_truncated.columns) == len(idx)"
   ]
  },
  {
   "cell_type": "code",
   "execution_count": 159,
   "metadata": {},
   "outputs": [],
   "source": [
    "hres = pd.merge(housing,res_truncated,how = 'inner', on = 'MapRefNo')\n",
    "hres = hres.drop('Unnamed: 0',axis = 1)"
   ]
  },
  {
   "cell_type": "code",
   "execution_count": 160,
   "metadata": {},
   "outputs": [
    {
     "data": {
      "text/html": [
       "<div>\n",
       "<style scoped>\n",
       "    .dataframe tbody tr th:only-of-type {\n",
       "        vertical-align: middle;\n",
       "    }\n",
       "\n",
       "    .dataframe tbody tr th {\n",
       "        vertical-align: top;\n",
       "    }\n",
       "\n",
       "    .dataframe thead th {\n",
       "        text-align: right;\n",
       "    }\n",
       "</style>\n",
       "<table border=\"1\" class=\"dataframe\">\n",
       "  <thead>\n",
       "    <tr style=\"text-align: right;\">\n",
       "      <th></th>\n",
       "      <th>MapRefNo</th>\n",
       "      <th>GrLivArea</th>\n",
       "      <th>SalePrice_x</th>\n",
       "      <th>MSSubClass</th>\n",
       "      <th>MSZoning</th>\n",
       "      <th>LotFrontage</th>\n",
       "      <th>LotArea_x</th>\n",
       "      <th>Street</th>\n",
       "      <th>Alley</th>\n",
       "      <th>LotShape</th>\n",
       "      <th>LandContour</th>\n",
       "      <th>Utilities</th>\n",
       "      <th>LotConfig</th>\n",
       "      <th>LandSlope</th>\n",
       "      <th>Neighborhood</th>\n",
       "      <th>Condition1</th>\n",
       "      <th>Condition2</th>\n",
       "      <th>BldgType</th>\n",
       "      <th>HouseStyle_x</th>\n",
       "      <th>OverallQual</th>\n",
       "      <th>OverallCond</th>\n",
       "      <th>YearBuilt</th>\n",
       "      <th>YearRemodAdd</th>\n",
       "      <th>RoofStyle</th>\n",
       "      <th>RoofMatl_x</th>\n",
       "      <th>Exterior1st</th>\n",
       "      <th>Exterior2nd</th>\n",
       "      <th>MasVnrType_x</th>\n",
       "      <th>MasVnrArea</th>\n",
       "      <th>ExterQual</th>\n",
       "      <th>ExterCond</th>\n",
       "      <th>Foundation_x</th>\n",
       "      <th>BsmtQual</th>\n",
       "      <th>BsmtCond</th>\n",
       "      <th>BsmtExposure</th>\n",
       "      <th>BsmtFinType1</th>\n",
       "      <th>BsmtFinSF1</th>\n",
       "      <th>BsmtFinType2</th>\n",
       "      <th>BsmtFinSF2</th>\n",
       "      <th>BsmtUnfSF</th>\n",
       "      <th>TotalBsmtSF</th>\n",
       "      <th>Heating_x</th>\n",
       "      <th>HeatingQC</th>\n",
       "      <th>CentralAir</th>\n",
       "      <th>Electrical</th>\n",
       "      <th>1stFlrSF</th>\n",
       "      <th>2ndFlrSF</th>\n",
       "      <th>LowQualFinSF</th>\n",
       "      <th>BsmtFullBath</th>\n",
       "      <th>BsmtHalfBath</th>\n",
       "      <th>FullBath</th>\n",
       "      <th>HalfBath</th>\n",
       "      <th>BedroomAbvGr</th>\n",
       "      <th>KitchenAbvGr</th>\n",
       "      <th>KitchenQual</th>\n",
       "      <th>TotRmsAbvGrd_x</th>\n",
       "      <th>Functional</th>\n",
       "      <th>Fireplaces_x</th>\n",
       "      <th>FireplaceQu</th>\n",
       "      <th>GarageType_x</th>\n",
       "      <th>GarageYrBlt</th>\n",
       "      <th>GarageFinish</th>\n",
       "      <th>GarageCars</th>\n",
       "      <th>GarageArea</th>\n",
       "      <th>GarageQual</th>\n",
       "      <th>GarageCond</th>\n",
       "      <th>PavedDrive</th>\n",
       "      <th>WoodDeckSF</th>\n",
       "      <th>OpenPorchSF</th>\n",
       "      <th>EnclosedPorch</th>\n",
       "      <th>3SsnPorch</th>\n",
       "      <th>ScreenPorch</th>\n",
       "      <th>PoolArea_x</th>\n",
       "      <th>PoolQC</th>\n",
       "      <th>Fence</th>\n",
       "      <th>MiscFeature</th>\n",
       "      <th>MiscVal</th>\n",
       "      <th>MoSold</th>\n",
       "      <th>YrSold</th>\n",
       "      <th>SaleType_x</th>\n",
       "      <th>SaleCondition</th>\n",
       "      <th>SchD_S</th>\n",
       "      <th>TxD_S</th>\n",
       "      <th>Rcrd_Yr</th>\n",
       "      <th>Rcrd_Mo</th>\n",
       "      <th>LndAc_S</th>\n",
       "      <th>ImpAc_S</th>\n",
       "      <th>OthAc_S</th>\n",
       "      <th>TtlVal_AsrYr</th>\n",
       "      <th>ValType</th>\n",
       "      <th>AcreGr</th>\n",
       "      <th>AcreNt_S</th>\n",
       "      <th>LotArea_y</th>\n",
       "      <th>YrBuilt</th>\n",
       "      <th>HouseStyle_y</th>\n",
       "      <th>Foundation_y</th>\n",
       "      <th>RoofMatl_y</th>\n",
       "      <th>Ext1</th>\n",
       "      <th>Ext2</th>\n",
       "      <th>MasVnrType_y</th>\n",
       "      <th>Heating_y</th>\n",
       "      <th>Central Air</th>\n",
       "      <th>GLA</th>\n",
       "      <th>TtlBsmtSF</th>\n",
       "      <th>TotRmsAbvGrd_y</th>\n",
       "      <th>Fireplaces_y</th>\n",
       "      <th>PoolArea_y</th>\n",
       "      <th>GarageType_y</th>\n",
       "      <th>GarYrBlt</th>\n",
       "      <th>Cars</th>\n",
       "      <th>SalePrice_y</th>\n",
       "      <th>SaleType_y</th>\n",
       "      <th>SaleCond</th>\n",
       "      <th>PA-Nmbr</th>\n",
       "      <th>PA-PreD</th>\n",
       "      <th>PA-Strt</th>\n",
       "      <th>PA-StSfx</th>\n",
       "      <th>PA-PostD</th>\n",
       "      <th>PA-UnTyp</th>\n",
       "      <th>PA-UntNo</th>\n",
       "      <th>Date</th>\n",
       "      <th>Source</th>\n",
       "      <th>NmbrBRs</th>\n",
       "    </tr>\n",
       "  </thead>\n",
       "  <tbody>\n",
       "    <tr>\n",
       "      <th>0</th>\n",
       "      <td>909176150</td>\n",
       "      <td>856</td>\n",
       "      <td>126000</td>\n",
       "      <td>30</td>\n",
       "      <td>RL</td>\n",
       "      <td>NaN</td>\n",
       "      <td>7890</td>\n",
       "      <td>Pave</td>\n",
       "      <td>NaN</td>\n",
       "      <td>Reg</td>\n",
       "      <td>Lvl</td>\n",
       "      <td>AllPub</td>\n",
       "      <td>Corner</td>\n",
       "      <td>Gtl</td>\n",
       "      <td>SWISU</td>\n",
       "      <td>Norm</td>\n",
       "      <td>Norm</td>\n",
       "      <td>1Fam</td>\n",
       "      <td>1Story</td>\n",
       "      <td>6</td>\n",
       "      <td>6</td>\n",
       "      <td>1939</td>\n",
       "      <td>1950</td>\n",
       "      <td>Gable</td>\n",
       "      <td>CompShg</td>\n",
       "      <td>Wd Sdng</td>\n",
       "      <td>Wd Sdng</td>\n",
       "      <td>None</td>\n",
       "      <td>0.0</td>\n",
       "      <td>TA</td>\n",
       "      <td>TA</td>\n",
       "      <td>CBlock</td>\n",
       "      <td>TA</td>\n",
       "      <td>TA</td>\n",
       "      <td>No</td>\n",
       "      <td>Rec</td>\n",
       "      <td>238.0</td>\n",
       "      <td>Unf</td>\n",
       "      <td>0.0</td>\n",
       "      <td>618.0</td>\n",
       "      <td>856.0</td>\n",
       "      <td>GasA</td>\n",
       "      <td>TA</td>\n",
       "      <td>Y</td>\n",
       "      <td>SBrkr</td>\n",
       "      <td>856</td>\n",
       "      <td>0</td>\n",
       "      <td>0</td>\n",
       "      <td>1.0</td>\n",
       "      <td>0.0</td>\n",
       "      <td>1</td>\n",
       "      <td>0</td>\n",
       "      <td>2</td>\n",
       "      <td>1</td>\n",
       "      <td>TA</td>\n",
       "      <td>4</td>\n",
       "      <td>Typ</td>\n",
       "      <td>1</td>\n",
       "      <td>Gd</td>\n",
       "      <td>Detchd</td>\n",
       "      <td>1939.0</td>\n",
       "      <td>Unf</td>\n",
       "      <td>2.0</td>\n",
       "      <td>399.0</td>\n",
       "      <td>TA</td>\n",
       "      <td>TA</td>\n",
       "      <td>Y</td>\n",
       "      <td>0</td>\n",
       "      <td>0</td>\n",
       "      <td>0</td>\n",
       "      <td>0</td>\n",
       "      <td>166</td>\n",
       "      <td>0</td>\n",
       "      <td>NaN</td>\n",
       "      <td>NaN</td>\n",
       "      <td>NaN</td>\n",
       "      <td>0</td>\n",
       "      <td>3</td>\n",
       "      <td>2010</td>\n",
       "      <td>WD</td>\n",
       "      <td>Normal</td>\n",
       "      <td>1</td>\n",
       "      <td>1</td>\n",
       "      <td>2017.0</td>\n",
       "      <td>2.0</td>\n",
       "      <td>37300</td>\n",
       "      <td>0</td>\n",
       "      <td>111700</td>\n",
       "      <td>149000</td>\n",
       "      <td>F</td>\n",
       "      <td>0.0</td>\n",
       "      <td>0.0</td>\n",
       "      <td>7890.0</td>\n",
       "      <td>1939.0</td>\n",
       "      <td>1-Story</td>\n",
       "      <td>C'Block</td>\n",
       "      <td>CompShg</td>\n",
       "      <td>Wd Sdng</td>\n",
       "      <td>Wd Sdng</td>\n",
       "      <td>None</td>\n",
       "      <td>GasFWA</td>\n",
       "      <td>Yes</td>\n",
       "      <td>856.0</td>\n",
       "      <td>856.0</td>\n",
       "      <td>4.0</td>\n",
       "      <td>1.0</td>\n",
       "      <td>0.0</td>\n",
       "      <td>Detachd</td>\n",
       "      <td>1939.0</td>\n",
       "      <td>2.0</td>\n",
       "      <td>155000.0</td>\n",
       "      <td>WRDConv</td>\n",
       "      <td>Normal</td>\n",
       "      <td>436</td>\n",
       "      <td>NaN</td>\n",
       "      <td>HAYWARD</td>\n",
       "      <td>AVE</td>\n",
       "      <td>NaN</td>\n",
       "      <td>NaN</td>\n",
       "      <td>NaN</td>\n",
       "      <td>10-Jul-20</td>\n",
       "      <td>Ames City Assessor</td>\n",
       "      <td>2.0</td>\n",
       "    </tr>\n",
       "    <tr>\n",
       "      <th>1</th>\n",
       "      <td>905476230</td>\n",
       "      <td>1049</td>\n",
       "      <td>139500</td>\n",
       "      <td>120</td>\n",
       "      <td>RL</td>\n",
       "      <td>42.0</td>\n",
       "      <td>4235</td>\n",
       "      <td>Pave</td>\n",
       "      <td>NaN</td>\n",
       "      <td>Reg</td>\n",
       "      <td>Lvl</td>\n",
       "      <td>AllPub</td>\n",
       "      <td>Inside</td>\n",
       "      <td>Gtl</td>\n",
       "      <td>Edwards</td>\n",
       "      <td>Norm</td>\n",
       "      <td>Norm</td>\n",
       "      <td>TwnhsE</td>\n",
       "      <td>1Story</td>\n",
       "      <td>5</td>\n",
       "      <td>5</td>\n",
       "      <td>1984</td>\n",
       "      <td>1984</td>\n",
       "      <td>Gable</td>\n",
       "      <td>CompShg</td>\n",
       "      <td>HdBoard</td>\n",
       "      <td>HdBoard</td>\n",
       "      <td>BrkFace</td>\n",
       "      <td>149.0</td>\n",
       "      <td>Gd</td>\n",
       "      <td>TA</td>\n",
       "      <td>CBlock</td>\n",
       "      <td>Gd</td>\n",
       "      <td>TA</td>\n",
       "      <td>Mn</td>\n",
       "      <td>GLQ</td>\n",
       "      <td>552.0</td>\n",
       "      <td>ALQ</td>\n",
       "      <td>393.0</td>\n",
       "      <td>104.0</td>\n",
       "      <td>1049.0</td>\n",
       "      <td>GasA</td>\n",
       "      <td>TA</td>\n",
       "      <td>Y</td>\n",
       "      <td>SBrkr</td>\n",
       "      <td>1049</td>\n",
       "      <td>0</td>\n",
       "      <td>0</td>\n",
       "      <td>1.0</td>\n",
       "      <td>0.0</td>\n",
       "      <td>2</td>\n",
       "      <td>0</td>\n",
       "      <td>2</td>\n",
       "      <td>1</td>\n",
       "      <td>Gd</td>\n",
       "      <td>5</td>\n",
       "      <td>Typ</td>\n",
       "      <td>0</td>\n",
       "      <td>NaN</td>\n",
       "      <td>Attchd</td>\n",
       "      <td>1984.0</td>\n",
       "      <td>Fin</td>\n",
       "      <td>1.0</td>\n",
       "      <td>266.0</td>\n",
       "      <td>TA</td>\n",
       "      <td>TA</td>\n",
       "      <td>Y</td>\n",
       "      <td>0</td>\n",
       "      <td>105</td>\n",
       "      <td>0</td>\n",
       "      <td>0</td>\n",
       "      <td>0</td>\n",
       "      <td>0</td>\n",
       "      <td>NaN</td>\n",
       "      <td>NaN</td>\n",
       "      <td>NaN</td>\n",
       "      <td>0</td>\n",
       "      <td>2</td>\n",
       "      <td>2009</td>\n",
       "      <td>WD</td>\n",
       "      <td>Normal</td>\n",
       "      <td>1</td>\n",
       "      <td>1</td>\n",
       "      <td>2020.0</td>\n",
       "      <td>1.0</td>\n",
       "      <td>43500</td>\n",
       "      <td>0</td>\n",
       "      <td>130600</td>\n",
       "      <td>174100</td>\n",
       "      <td>F</td>\n",
       "      <td>0.0</td>\n",
       "      <td>0.0</td>\n",
       "      <td>4235.0</td>\n",
       "      <td>1984.0</td>\n",
       "      <td>1-Story</td>\n",
       "      <td>C'Block</td>\n",
       "      <td>CompShg</td>\n",
       "      <td>HdBoard</td>\n",
       "      <td>HdBoard</td>\n",
       "      <td>BrkFace</td>\n",
       "      <td>GasFWA</td>\n",
       "      <td>Yes</td>\n",
       "      <td>1049.0</td>\n",
       "      <td>1049.0</td>\n",
       "      <td>5.0</td>\n",
       "      <td>0.0</td>\n",
       "      <td>0.0</td>\n",
       "      <td>Attachd</td>\n",
       "      <td>1984.0</td>\n",
       "      <td>1.0</td>\n",
       "      <td>174400.0</td>\n",
       "      <td>WRDConv</td>\n",
       "      <td>Normal</td>\n",
       "      <td>3416</td>\n",
       "      <td>NaN</td>\n",
       "      <td>WEST</td>\n",
       "      <td>ST</td>\n",
       "      <td>NaN</td>\n",
       "      <td>NaN</td>\n",
       "      <td>NaN</td>\n",
       "      <td>10-Jul-20</td>\n",
       "      <td>Ames City Assessor</td>\n",
       "      <td>2.0</td>\n",
       "    </tr>\n",
       "    <tr>\n",
       "      <th>2</th>\n",
       "      <td>905476230</td>\n",
       "      <td>1049</td>\n",
       "      <td>139500</td>\n",
       "      <td>120</td>\n",
       "      <td>RL</td>\n",
       "      <td>42.0</td>\n",
       "      <td>4235</td>\n",
       "      <td>Pave</td>\n",
       "      <td>NaN</td>\n",
       "      <td>Reg</td>\n",
       "      <td>Lvl</td>\n",
       "      <td>AllPub</td>\n",
       "      <td>Inside</td>\n",
       "      <td>Gtl</td>\n",
       "      <td>Edwards</td>\n",
       "      <td>Norm</td>\n",
       "      <td>Norm</td>\n",
       "      <td>TwnhsE</td>\n",
       "      <td>1Story</td>\n",
       "      <td>5</td>\n",
       "      <td>5</td>\n",
       "      <td>1984</td>\n",
       "      <td>1984</td>\n",
       "      <td>Gable</td>\n",
       "      <td>CompShg</td>\n",
       "      <td>HdBoard</td>\n",
       "      <td>HdBoard</td>\n",
       "      <td>BrkFace</td>\n",
       "      <td>149.0</td>\n",
       "      <td>Gd</td>\n",
       "      <td>TA</td>\n",
       "      <td>CBlock</td>\n",
       "      <td>Gd</td>\n",
       "      <td>TA</td>\n",
       "      <td>Mn</td>\n",
       "      <td>GLQ</td>\n",
       "      <td>552.0</td>\n",
       "      <td>ALQ</td>\n",
       "      <td>393.0</td>\n",
       "      <td>104.0</td>\n",
       "      <td>1049.0</td>\n",
       "      <td>GasA</td>\n",
       "      <td>TA</td>\n",
       "      <td>Y</td>\n",
       "      <td>SBrkr</td>\n",
       "      <td>1049</td>\n",
       "      <td>0</td>\n",
       "      <td>0</td>\n",
       "      <td>1.0</td>\n",
       "      <td>0.0</td>\n",
       "      <td>2</td>\n",
       "      <td>0</td>\n",
       "      <td>2</td>\n",
       "      <td>1</td>\n",
       "      <td>Gd</td>\n",
       "      <td>5</td>\n",
       "      <td>Typ</td>\n",
       "      <td>0</td>\n",
       "      <td>NaN</td>\n",
       "      <td>Attchd</td>\n",
       "      <td>1984.0</td>\n",
       "      <td>Fin</td>\n",
       "      <td>1.0</td>\n",
       "      <td>266.0</td>\n",
       "      <td>TA</td>\n",
       "      <td>TA</td>\n",
       "      <td>Y</td>\n",
       "      <td>0</td>\n",
       "      <td>105</td>\n",
       "      <td>0</td>\n",
       "      <td>0</td>\n",
       "      <td>0</td>\n",
       "      <td>0</td>\n",
       "      <td>NaN</td>\n",
       "      <td>NaN</td>\n",
       "      <td>NaN</td>\n",
       "      <td>0</td>\n",
       "      <td>2</td>\n",
       "      <td>2009</td>\n",
       "      <td>WD</td>\n",
       "      <td>Normal</td>\n",
       "      <td>1</td>\n",
       "      <td>1</td>\n",
       "      <td>2020.0</td>\n",
       "      <td>1.0</td>\n",
       "      <td>43500</td>\n",
       "      <td>0</td>\n",
       "      <td>130600</td>\n",
       "      <td>174100</td>\n",
       "      <td>F</td>\n",
       "      <td>0.0</td>\n",
       "      <td>0.0</td>\n",
       "      <td>4235.0</td>\n",
       "      <td>1984.0</td>\n",
       "      <td>1-Story</td>\n",
       "      <td>C'Block</td>\n",
       "      <td>CompShg</td>\n",
       "      <td>HdBoard</td>\n",
       "      <td>HdBoard</td>\n",
       "      <td>BrkFace</td>\n",
       "      <td>GasFWA</td>\n",
       "      <td>Yes</td>\n",
       "      <td>1049.0</td>\n",
       "      <td>1049.0</td>\n",
       "      <td>5.0</td>\n",
       "      <td>0.0</td>\n",
       "      <td>0.0</td>\n",
       "      <td>Attachd</td>\n",
       "      <td>1984.0</td>\n",
       "      <td>1.0</td>\n",
       "      <td>170000.0</td>\n",
       "      <td>WRDConv</td>\n",
       "      <td>Normal</td>\n",
       "      <td>3416</td>\n",
       "      <td>NaN</td>\n",
       "      <td>WEST</td>\n",
       "      <td>ST</td>\n",
       "      <td>NaN</td>\n",
       "      <td>NaN</td>\n",
       "      <td>NaN</td>\n",
       "      <td>10-Jul-20</td>\n",
       "      <td>Ames City Assessor</td>\n",
       "      <td>2.0</td>\n",
       "    </tr>\n",
       "    <tr>\n",
       "      <th>3</th>\n",
       "      <td>911128020</td>\n",
       "      <td>1001</td>\n",
       "      <td>124900</td>\n",
       "      <td>30</td>\n",
       "      <td>C (all)</td>\n",
       "      <td>60.0</td>\n",
       "      <td>6060</td>\n",
       "      <td>Pave</td>\n",
       "      <td>NaN</td>\n",
       "      <td>Reg</td>\n",
       "      <td>Lvl</td>\n",
       "      <td>AllPub</td>\n",
       "      <td>Inside</td>\n",
       "      <td>Gtl</td>\n",
       "      <td>IDOTRR</td>\n",
       "      <td>Norm</td>\n",
       "      <td>Norm</td>\n",
       "      <td>1Fam</td>\n",
       "      <td>1Story</td>\n",
       "      <td>5</td>\n",
       "      <td>9</td>\n",
       "      <td>1930</td>\n",
       "      <td>2007</td>\n",
       "      <td>Hip</td>\n",
       "      <td>CompShg</td>\n",
       "      <td>MetalSd</td>\n",
       "      <td>MetalSd</td>\n",
       "      <td>None</td>\n",
       "      <td>0.0</td>\n",
       "      <td>Gd</td>\n",
       "      <td>TA</td>\n",
       "      <td>BrkTil</td>\n",
       "      <td>TA</td>\n",
       "      <td>TA</td>\n",
       "      <td>No</td>\n",
       "      <td>ALQ</td>\n",
       "      <td>737.0</td>\n",
       "      <td>Unf</td>\n",
       "      <td>0.0</td>\n",
       "      <td>100.0</td>\n",
       "      <td>837.0</td>\n",
       "      <td>GasA</td>\n",
       "      <td>Ex</td>\n",
       "      <td>Y</td>\n",
       "      <td>SBrkr</td>\n",
       "      <td>1001</td>\n",
       "      <td>0</td>\n",
       "      <td>0</td>\n",
       "      <td>0.0</td>\n",
       "      <td>0.0</td>\n",
       "      <td>1</td>\n",
       "      <td>0</td>\n",
       "      <td>2</td>\n",
       "      <td>1</td>\n",
       "      <td>Gd</td>\n",
       "      <td>5</td>\n",
       "      <td>Typ</td>\n",
       "      <td>0</td>\n",
       "      <td>NaN</td>\n",
       "      <td>Detchd</td>\n",
       "      <td>1930.0</td>\n",
       "      <td>Unf</td>\n",
       "      <td>1.0</td>\n",
       "      <td>216.0</td>\n",
       "      <td>TA</td>\n",
       "      <td>Po</td>\n",
       "      <td>N</td>\n",
       "      <td>154</td>\n",
       "      <td>0</td>\n",
       "      <td>42</td>\n",
       "      <td>86</td>\n",
       "      <td>0</td>\n",
       "      <td>0</td>\n",
       "      <td>NaN</td>\n",
       "      <td>NaN</td>\n",
       "      <td>NaN</td>\n",
       "      <td>0</td>\n",
       "      <td>11</td>\n",
       "      <td>2007</td>\n",
       "      <td>WD</td>\n",
       "      <td>Normal</td>\n",
       "      <td>1</td>\n",
       "      <td>1</td>\n",
       "      <td>2016.0</td>\n",
       "      <td>4.0</td>\n",
       "      <td>41100</td>\n",
       "      <td>0</td>\n",
       "      <td>123200</td>\n",
       "      <td>164300</td>\n",
       "      <td>F</td>\n",
       "      <td>0.0</td>\n",
       "      <td>0.0</td>\n",
       "      <td>6060.0</td>\n",
       "      <td>1930.0</td>\n",
       "      <td>1-Story</td>\n",
       "      <td>Brk/Til</td>\n",
       "      <td>CompShg</td>\n",
       "      <td>MetalSd</td>\n",
       "      <td>MetalSd</td>\n",
       "      <td>None</td>\n",
       "      <td>GasFWA</td>\n",
       "      <td>Yes</td>\n",
       "      <td>1001.0</td>\n",
       "      <td>837.0</td>\n",
       "      <td>5.0</td>\n",
       "      <td>0.0</td>\n",
       "      <td>0.0</td>\n",
       "      <td>Detachd</td>\n",
       "      <td>1930.0</td>\n",
       "      <td>1.0</td>\n",
       "      <td>NaN</td>\n",
       "      <td>NaN</td>\n",
       "      <td>NaN</td>\n",
       "      <td>320</td>\n",
       "      <td>S</td>\n",
       "      <td>2ND</td>\n",
       "      <td>ST</td>\n",
       "      <td>NaN</td>\n",
       "      <td>NaN</td>\n",
       "      <td>NaN</td>\n",
       "      <td>10-Jul-20</td>\n",
       "      <td>Ames City Assessor</td>\n",
       "      <td>2.0</td>\n",
       "    </tr>\n",
       "    <tr>\n",
       "      <th>4</th>\n",
       "      <td>535377150</td>\n",
       "      <td>1039</td>\n",
       "      <td>114000</td>\n",
       "      <td>70</td>\n",
       "      <td>RL</td>\n",
       "      <td>80.0</td>\n",
       "      <td>8146</td>\n",
       "      <td>Pave</td>\n",
       "      <td>NaN</td>\n",
       "      <td>Reg</td>\n",
       "      <td>Lvl</td>\n",
       "      <td>AllPub</td>\n",
       "      <td>Corner</td>\n",
       "      <td>Gtl</td>\n",
       "      <td>OldTown</td>\n",
       "      <td>Norm</td>\n",
       "      <td>Norm</td>\n",
       "      <td>1Fam</td>\n",
       "      <td>2Story</td>\n",
       "      <td>4</td>\n",
       "      <td>8</td>\n",
       "      <td>1900</td>\n",
       "      <td>2003</td>\n",
       "      <td>Gable</td>\n",
       "      <td>CompShg</td>\n",
       "      <td>MetalSd</td>\n",
       "      <td>MetalSd</td>\n",
       "      <td>None</td>\n",
       "      <td>0.0</td>\n",
       "      <td>Gd</td>\n",
       "      <td>Gd</td>\n",
       "      <td>BrkTil</td>\n",
       "      <td>Fa</td>\n",
       "      <td>TA</td>\n",
       "      <td>No</td>\n",
       "      <td>Unf</td>\n",
       "      <td>0.0</td>\n",
       "      <td>Unf</td>\n",
       "      <td>0.0</td>\n",
       "      <td>405.0</td>\n",
       "      <td>405.0</td>\n",
       "      <td>GasA</td>\n",
       "      <td>Gd</td>\n",
       "      <td>Y</td>\n",
       "      <td>SBrkr</td>\n",
       "      <td>717</td>\n",
       "      <td>322</td>\n",
       "      <td>0</td>\n",
       "      <td>0.0</td>\n",
       "      <td>0.0</td>\n",
       "      <td>1</td>\n",
       "      <td>0</td>\n",
       "      <td>2</td>\n",
       "      <td>1</td>\n",
       "      <td>TA</td>\n",
       "      <td>6</td>\n",
       "      <td>Typ</td>\n",
       "      <td>0</td>\n",
       "      <td>NaN</td>\n",
       "      <td>Detchd</td>\n",
       "      <td>1940.0</td>\n",
       "      <td>Unf</td>\n",
       "      <td>1.0</td>\n",
       "      <td>281.0</td>\n",
       "      <td>TA</td>\n",
       "      <td>TA</td>\n",
       "      <td>N</td>\n",
       "      <td>0</td>\n",
       "      <td>0</td>\n",
       "      <td>168</td>\n",
       "      <td>0</td>\n",
       "      <td>111</td>\n",
       "      <td>0</td>\n",
       "      <td>NaN</td>\n",
       "      <td>NaN</td>\n",
       "      <td>NaN</td>\n",
       "      <td>0</td>\n",
       "      <td>5</td>\n",
       "      <td>2009</td>\n",
       "      <td>WD</td>\n",
       "      <td>Normal</td>\n",
       "      <td>1</td>\n",
       "      <td>1</td>\n",
       "      <td>2019.0</td>\n",
       "      <td>10.0</td>\n",
       "      <td>31100</td>\n",
       "      <td>0</td>\n",
       "      <td>93300</td>\n",
       "      <td>124400</td>\n",
       "      <td>F</td>\n",
       "      <td>0.0</td>\n",
       "      <td>0.0</td>\n",
       "      <td>8146.0</td>\n",
       "      <td>1900.0</td>\n",
       "      <td>2-Story</td>\n",
       "      <td>Brk/Til</td>\n",
       "      <td>CompShg</td>\n",
       "      <td>MetalSd</td>\n",
       "      <td>MetalSd</td>\n",
       "      <td>None</td>\n",
       "      <td>GasFWA</td>\n",
       "      <td>Yes</td>\n",
       "      <td>1039.0</td>\n",
       "      <td>405.0</td>\n",
       "      <td>6.0</td>\n",
       "      <td>0.0</td>\n",
       "      <td>0.0</td>\n",
       "      <td>Detachd</td>\n",
       "      <td>1940.0</td>\n",
       "      <td>1.0</td>\n",
       "      <td>139000.0</td>\n",
       "      <td>WRDConv</td>\n",
       "      <td>Normal</td>\n",
       "      <td>1524</td>\n",
       "      <td>NaN</td>\n",
       "      <td>DOUGLAS</td>\n",
       "      <td>AVE</td>\n",
       "      <td>NaN</td>\n",
       "      <td>NaN</td>\n",
       "      <td>NaN</td>\n",
       "      <td>10-Jul-20</td>\n",
       "      <td>Ames City Assessor</td>\n",
       "      <td>2.0</td>\n",
       "    </tr>\n",
       "  </tbody>\n",
       "</table>\n",
       "</div>"
      ],
      "text/plain": [
       "    MapRefNo  GrLivArea  SalePrice_x  MSSubClass MSZoning  LotFrontage  \\\n",
       "0  909176150        856       126000          30       RL          NaN   \n",
       "1  905476230       1049       139500         120       RL         42.0   \n",
       "2  905476230       1049       139500         120       RL         42.0   \n",
       "3  911128020       1001       124900          30  C (all)         60.0   \n",
       "4  535377150       1039       114000          70       RL         80.0   \n",
       "\n",
       "   LotArea_x Street Alley LotShape LandContour Utilities LotConfig LandSlope  \\\n",
       "0       7890   Pave   NaN      Reg         Lvl    AllPub    Corner       Gtl   \n",
       "1       4235   Pave   NaN      Reg         Lvl    AllPub    Inside       Gtl   \n",
       "2       4235   Pave   NaN      Reg         Lvl    AllPub    Inside       Gtl   \n",
       "3       6060   Pave   NaN      Reg         Lvl    AllPub    Inside       Gtl   \n",
       "4       8146   Pave   NaN      Reg         Lvl    AllPub    Corner       Gtl   \n",
       "\n",
       "  Neighborhood Condition1 Condition2 BldgType HouseStyle_x  OverallQual  \\\n",
       "0        SWISU       Norm       Norm     1Fam       1Story            6   \n",
       "1      Edwards       Norm       Norm   TwnhsE       1Story            5   \n",
       "2      Edwards       Norm       Norm   TwnhsE       1Story            5   \n",
       "3       IDOTRR       Norm       Norm     1Fam       1Story            5   \n",
       "4      OldTown       Norm       Norm     1Fam       2Story            4   \n",
       "\n",
       "   OverallCond  YearBuilt  YearRemodAdd RoofStyle RoofMatl_x Exterior1st  \\\n",
       "0            6       1939          1950     Gable    CompShg     Wd Sdng   \n",
       "1            5       1984          1984     Gable    CompShg     HdBoard   \n",
       "2            5       1984          1984     Gable    CompShg     HdBoard   \n",
       "3            9       1930          2007       Hip    CompShg     MetalSd   \n",
       "4            8       1900          2003     Gable    CompShg     MetalSd   \n",
       "\n",
       "  Exterior2nd MasVnrType_x  MasVnrArea ExterQual ExterCond Foundation_x  \\\n",
       "0     Wd Sdng         None         0.0        TA        TA       CBlock   \n",
       "1     HdBoard      BrkFace       149.0        Gd        TA       CBlock   \n",
       "2     HdBoard      BrkFace       149.0        Gd        TA       CBlock   \n",
       "3     MetalSd         None         0.0        Gd        TA       BrkTil   \n",
       "4     MetalSd         None         0.0        Gd        Gd       BrkTil   \n",
       "\n",
       "  BsmtQual BsmtCond BsmtExposure BsmtFinType1  BsmtFinSF1 BsmtFinType2  \\\n",
       "0       TA       TA           No          Rec       238.0          Unf   \n",
       "1       Gd       TA           Mn          GLQ       552.0          ALQ   \n",
       "2       Gd       TA           Mn          GLQ       552.0          ALQ   \n",
       "3       TA       TA           No          ALQ       737.0          Unf   \n",
       "4       Fa       TA           No          Unf         0.0          Unf   \n",
       "\n",
       "   BsmtFinSF2  BsmtUnfSF  TotalBsmtSF Heating_x HeatingQC CentralAir  \\\n",
       "0         0.0      618.0        856.0      GasA        TA          Y   \n",
       "1       393.0      104.0       1049.0      GasA        TA          Y   \n",
       "2       393.0      104.0       1049.0      GasA        TA          Y   \n",
       "3         0.0      100.0        837.0      GasA        Ex          Y   \n",
       "4         0.0      405.0        405.0      GasA        Gd          Y   \n",
       "\n",
       "  Electrical  1stFlrSF  2ndFlrSF  LowQualFinSF  BsmtFullBath  BsmtHalfBath  \\\n",
       "0      SBrkr       856         0             0           1.0           0.0   \n",
       "1      SBrkr      1049         0             0           1.0           0.0   \n",
       "2      SBrkr      1049         0             0           1.0           0.0   \n",
       "3      SBrkr      1001         0             0           0.0           0.0   \n",
       "4      SBrkr       717       322             0           0.0           0.0   \n",
       "\n",
       "   FullBath  HalfBath  BedroomAbvGr  KitchenAbvGr KitchenQual  TotRmsAbvGrd_x  \\\n",
       "0         1         0             2             1          TA               4   \n",
       "1         2         0             2             1          Gd               5   \n",
       "2         2         0             2             1          Gd               5   \n",
       "3         1         0             2             1          Gd               5   \n",
       "4         1         0             2             1          TA               6   \n",
       "\n",
       "  Functional  Fireplaces_x FireplaceQu GarageType_x  GarageYrBlt GarageFinish  \\\n",
       "0        Typ             1          Gd       Detchd       1939.0          Unf   \n",
       "1        Typ             0         NaN       Attchd       1984.0          Fin   \n",
       "2        Typ             0         NaN       Attchd       1984.0          Fin   \n",
       "3        Typ             0         NaN       Detchd       1930.0          Unf   \n",
       "4        Typ             0         NaN       Detchd       1940.0          Unf   \n",
       "\n",
       "   GarageCars  GarageArea GarageQual GarageCond PavedDrive  WoodDeckSF  \\\n",
       "0         2.0       399.0         TA         TA          Y           0   \n",
       "1         1.0       266.0         TA         TA          Y           0   \n",
       "2         1.0       266.0         TA         TA          Y           0   \n",
       "3         1.0       216.0         TA         Po          N         154   \n",
       "4         1.0       281.0         TA         TA          N           0   \n",
       "\n",
       "   OpenPorchSF  EnclosedPorch  3SsnPorch  ScreenPorch  PoolArea_x PoolQC  \\\n",
       "0            0              0          0          166           0    NaN   \n",
       "1          105              0          0            0           0    NaN   \n",
       "2          105              0          0            0           0    NaN   \n",
       "3            0             42         86            0           0    NaN   \n",
       "4            0            168          0          111           0    NaN   \n",
       "\n",
       "  Fence MiscFeature  MiscVal  MoSold  YrSold SaleType_x SaleCondition  SchD_S  \\\n",
       "0   NaN         NaN        0       3    2010        WD         Normal       1   \n",
       "1   NaN         NaN        0       2    2009        WD         Normal       1   \n",
       "2   NaN         NaN        0       2    2009        WD         Normal       1   \n",
       "3   NaN         NaN        0      11    2007        WD         Normal       1   \n",
       "4   NaN         NaN        0       5    2009        WD         Normal       1   \n",
       "\n",
       "   TxD_S  Rcrd_Yr  Rcrd_Mo  LndAc_S  ImpAc_S  OthAc_S  TtlVal_AsrYr ValType  \\\n",
       "0      1   2017.0      2.0    37300        0   111700        149000       F   \n",
       "1      1   2020.0      1.0    43500        0   130600        174100       F   \n",
       "2      1   2020.0      1.0    43500        0   130600        174100       F   \n",
       "3      1   2016.0      4.0    41100        0   123200        164300       F   \n",
       "4      1   2019.0     10.0    31100        0    93300        124400       F   \n",
       "\n",
       "   AcreGr  AcreNt_S  LotArea_y  YrBuilt HouseStyle_y Foundation_y RoofMatl_y  \\\n",
       "0     0.0       0.0     7890.0   1939.0      1-Story      C'Block    CompShg   \n",
       "1     0.0       0.0     4235.0   1984.0      1-Story      C'Block    CompShg   \n",
       "2     0.0       0.0     4235.0   1984.0      1-Story      C'Block    CompShg   \n",
       "3     0.0       0.0     6060.0   1930.0      1-Story      Brk/Til    CompShg   \n",
       "4     0.0       0.0     8146.0   1900.0      2-Story      Brk/Til    CompShg   \n",
       "\n",
       "      Ext1     Ext2 MasVnrType_y Heating_y Central Air     GLA  TtlBsmtSF  \\\n",
       "0  Wd Sdng  Wd Sdng         None    GasFWA         Yes   856.0      856.0   \n",
       "1  HdBoard  HdBoard      BrkFace    GasFWA         Yes  1049.0     1049.0   \n",
       "2  HdBoard  HdBoard      BrkFace    GasFWA         Yes  1049.0     1049.0   \n",
       "3  MetalSd  MetalSd         None    GasFWA         Yes  1001.0      837.0   \n",
       "4  MetalSd  MetalSd         None    GasFWA         Yes  1039.0      405.0   \n",
       "\n",
       "   TotRmsAbvGrd_y  Fireplaces_y  PoolArea_y GarageType_y  GarYrBlt  Cars  \\\n",
       "0             4.0           1.0         0.0      Detachd    1939.0   2.0   \n",
       "1             5.0           0.0         0.0      Attachd    1984.0   1.0   \n",
       "2             5.0           0.0         0.0      Attachd    1984.0   1.0   \n",
       "3             5.0           0.0         0.0      Detachd    1930.0   1.0   \n",
       "4             6.0           0.0         0.0      Detachd    1940.0   1.0   \n",
       "\n",
       "   SalePrice_y SaleType_y SaleCond PA-Nmbr PA-PreD  PA-Strt PA-StSfx  \\\n",
       "0     155000.0    WRDConv   Normal     436     NaN  HAYWARD      AVE   \n",
       "1     174400.0    WRDConv   Normal    3416     NaN     WEST       ST   \n",
       "2     170000.0    WRDConv   Normal    3416     NaN     WEST       ST   \n",
       "3          NaN        NaN      NaN     320       S      2ND       ST   \n",
       "4     139000.0    WRDConv   Normal    1524     NaN  DOUGLAS      AVE   \n",
       "\n",
       "   PA-PostD PA-UnTyp PA-UntNo       Date              Source  NmbrBRs  \n",
       "0       NaN      NaN      NaN  10-Jul-20  Ames City Assessor      2.0  \n",
       "1       NaN      NaN      NaN  10-Jul-20  Ames City Assessor      2.0  \n",
       "2       NaN      NaN      NaN  10-Jul-20  Ames City Assessor      2.0  \n",
       "3       NaN      NaN      NaN  10-Jul-20  Ames City Assessor      2.0  \n",
       "4       NaN      NaN      NaN  10-Jul-20  Ames City Assessor      2.0  "
      ]
     },
     "execution_count": 160,
     "metadata": {},
     "output_type": "execute_result"
    }
   ],
   "source": [
    "hres.head()"
   ]
  },
  {
   "cell_type": "code",
   "execution_count": 316,
   "metadata": {
    "scrolled": false
   },
   "outputs": [],
   "source": [
    "#pd.DataFrame({'vars':hres.columns}).sort_values(by = 'vars')"
   ]
  },
  {
   "cell_type": "code",
   "execution_count": 176,
   "metadata": {},
   "outputs": [
    {
     "data": {
      "text/html": [
       "<div>\n",
       "<style scoped>\n",
       "    .dataframe tbody tr th:only-of-type {\n",
       "        vertical-align: middle;\n",
       "    }\n",
       "\n",
       "    .dataframe tbody tr th {\n",
       "        vertical-align: top;\n",
       "    }\n",
       "\n",
       "    .dataframe thead th {\n",
       "        text-align: right;\n",
       "    }\n",
       "</style>\n",
       "<table border=\"1\" class=\"dataframe\">\n",
       "  <thead>\n",
       "    <tr style=\"text-align: right;\">\n",
       "      <th></th>\n",
       "      <th>0</th>\n",
       "    </tr>\n",
       "  </thead>\n",
       "  <tbody>\n",
       "    <tr>\n",
       "      <th>0</th>\n",
       "      <td>2017.0</td>\n",
       "    </tr>\n",
       "    <tr>\n",
       "      <th>1</th>\n",
       "      <td>2018.0</td>\n",
       "    </tr>\n",
       "    <tr>\n",
       "      <th>2</th>\n",
       "      <td>2019.0</td>\n",
       "    </tr>\n",
       "    <tr>\n",
       "      <th>3</th>\n",
       "      <td>2020.0</td>\n",
       "    </tr>\n",
       "    <tr>\n",
       "      <th>4</th>\n",
       "      <td>NaN</td>\n",
       "    </tr>\n",
       "  </tbody>\n",
       "</table>\n",
       "</div>"
      ],
      "text/plain": [
       "        0\n",
       "0  2017.0\n",
       "1  2018.0\n",
       "2  2019.0\n",
       "3  2020.0\n",
       "4     NaN"
      ]
     },
     "execution_count": 176,
     "metadata": {},
     "output_type": "execute_result"
    }
   ],
   "source": [
    "pd.DataFrame(np.unique(res['YrSold_YYYY'].to_numpy())).sort_values(by = 0).head()"
   ]
  },
  {
   "cell_type": "code",
   "execution_count": 45,
   "metadata": {},
   "outputs": [
    {
     "data": {
      "text/html": [
       "<div>\n",
       "<style scoped>\n",
       "    .dataframe tbody tr th:only-of-type {\n",
       "        vertical-align: middle;\n",
       "    }\n",
       "\n",
       "    .dataframe tbody tr th {\n",
       "        vertical-align: top;\n",
       "    }\n",
       "\n",
       "    .dataframe thead th {\n",
       "        text-align: right;\n",
       "    }\n",
       "</style>\n",
       "<table border=\"1\" class=\"dataframe\">\n",
       "  <thead>\n",
       "    <tr style=\"text-align: right;\">\n",
       "      <th></th>\n",
       "      <th>0</th>\n",
       "    </tr>\n",
       "  </thead>\n",
       "  <tbody>\n",
       "    <tr>\n",
       "      <th>0</th>\n",
       "      <td>2006</td>\n",
       "    </tr>\n",
       "    <tr>\n",
       "      <th>1</th>\n",
       "      <td>2007</td>\n",
       "    </tr>\n",
       "    <tr>\n",
       "      <th>2</th>\n",
       "      <td>2008</td>\n",
       "    </tr>\n",
       "    <tr>\n",
       "      <th>3</th>\n",
       "      <td>2009</td>\n",
       "    </tr>\n",
       "    <tr>\n",
       "      <th>4</th>\n",
       "      <td>2010</td>\n",
       "    </tr>\n",
       "  </tbody>\n",
       "</table>\n",
       "</div>"
      ],
      "text/plain": [
       "      0\n",
       "0  2006\n",
       "1  2007\n",
       "2  2008\n",
       "3  2009\n",
       "4  2010"
      ]
     },
     "execution_count": 45,
     "metadata": {},
     "output_type": "execute_result"
    }
   ],
   "source": [
    "pd.DataFrame(np.unique(hres['YrSold'].to_numpy())).sort_values(by = 0)"
   ]
  },
  {
   "cell_type": "markdown",
   "metadata": {},
   "source": [
    "**Real estate data is from recent years (2017-2020),\n",
    "Housing data is from 2006-2010**"
   ]
  },
  {
   "cell_type": "markdown",
   "metadata": {},
   "source": [
    "# Investigating Housing Dataset"
   ]
  },
  {
   "cell_type": "code",
   "execution_count": 167,
   "metadata": {},
   "outputs": [
    {
     "name": "stdout",
     "output_type": "stream",
     "text": [
      "['Unnamed: 0' 'MapRefNo' 'GrLivArea' 'SalePrice' 'MSSubClass' 'MSZoning'\n",
      " 'LotFrontage' 'LotArea' 'Street' 'Alley' 'LotShape' 'LandContour'\n",
      " 'Utilities' 'LotConfig' 'LandSlope' 'Neighborhood' 'Condition1'\n",
      " 'Condition2' 'BldgType' 'HouseStyle' 'OverallQual' 'OverallCond'\n",
      " 'YearBuilt' 'YearRemodAdd' 'RoofStyle' 'RoofMatl' 'Exterior1st'\n",
      " 'Exterior2nd' 'MasVnrType' 'MasVnrArea' 'ExterQual' 'ExterCond'\n",
      " 'Foundation' 'BsmtQual' 'BsmtCond' 'BsmtExposure' 'BsmtFinType1'\n",
      " 'BsmtFinSF1' 'BsmtFinType2' 'BsmtFinSF2' 'BsmtUnfSF' 'TotalBsmtSF'\n",
      " 'Heating' 'HeatingQC' 'CentralAir' 'Electrical' '1stFlrSF' '2ndFlrSF'\n",
      " 'LowQualFinSF' 'BsmtFullBath' 'BsmtHalfBath' 'FullBath' 'HalfBath'\n",
      " 'BedroomAbvGr' 'KitchenAbvGr' 'KitchenQual' 'TotRmsAbvGrd' 'Functional'\n",
      " 'Fireplaces' 'FireplaceQu' 'GarageType' 'GarageYrBlt' 'GarageFinish'\n",
      " 'GarageCars' 'GarageArea' 'GarageQual' 'GarageCond' 'PavedDrive'\n",
      " 'WoodDeckSF' 'OpenPorchSF' 'EnclosedPorch' '3SsnPorch' 'ScreenPorch'\n",
      " 'PoolArea' 'PoolQC' 'Fence' 'MiscFeature' 'MiscVal' 'MoSold' 'YrSold'\n",
      " 'SaleType' 'SaleCondition']\n",
      "82\n"
     ]
    }
   ],
   "source": [
    "print(housing.columns.to_numpy())\n",
    "print(len(housing.columns))"
   ]
  },
  {
   "cell_type": "code",
   "execution_count": 168,
   "metadata": {},
   "outputs": [],
   "source": [
    "correlation_matrix = pd.DataFrame(housing.corr())"
   ]
  },
  {
   "cell_type": "code",
   "execution_count": 169,
   "metadata": {},
   "outputs": [
    {
     "name": "stdout",
     "output_type": "stream",
     "text": [
      "Index(['Unnamed: 0', 'MapRefNo', 'GrLivArea', 'SalePrice', 'MSSubClass',\n",
      "       'LotFrontage', 'LotArea', 'OverallQual', 'OverallCond', 'YearBuilt',\n",
      "       'YearRemodAdd', 'MasVnrArea', 'BsmtFinSF1', 'BsmtFinSF2', 'BsmtUnfSF',\n",
      "       'TotalBsmtSF', '1stFlrSF', '2ndFlrSF', 'LowQualFinSF', 'BsmtFullBath',\n",
      "       'BsmtHalfBath', 'FullBath', 'HalfBath', 'BedroomAbvGr', 'KitchenAbvGr',\n",
      "       'TotRmsAbvGrd', 'Fireplaces', 'GarageYrBlt', 'GarageCars', 'GarageArea',\n",
      "       'WoodDeckSF', 'OpenPorchSF', 'EnclosedPorch', '3SsnPorch',\n",
      "       'ScreenPorch', 'PoolArea', 'MiscVal', 'MoSold', 'YrSold'],\n",
      "      dtype='object')\n",
      "39\n"
     ]
    }
   ],
   "source": [
    "print(correlation_matrix.columns)\n",
    "print(len(correlation_matrix.columns))"
   ]
  },
  {
   "cell_type": "code",
   "execution_count": 170,
   "metadata": {},
   "outputs": [
    {
     "data": {
      "application/vnd.plotly.v1+json": {
       "config": {
        "plotlyServerURL": "https://plot.ly"
       },
       "data": [
        {
         "coloraxis": "coloraxis",
         "hovertemplate": "x: %{x}<br>y: %{y}<br>color: %{z}<extra></extra>",
         "name": "0",
         "type": "heatmap",
         "x": [
          "Unnamed: 0",
          "MapRefNo",
          "GrLivArea",
          "SalePrice",
          "MSSubClass",
          "LotFrontage",
          "LotArea",
          "OverallQual",
          "OverallCond",
          "YearBuilt",
          "YearRemodAdd",
          "MasVnrArea",
          "BsmtFinSF1",
          "BsmtFinSF2",
          "BsmtUnfSF",
          "TotalBsmtSF",
          "1stFlrSF",
          "2ndFlrSF",
          "LowQualFinSF",
          "BsmtFullBath",
          "BsmtHalfBath",
          "FullBath",
          "HalfBath",
          "BedroomAbvGr",
          "KitchenAbvGr",
          "TotRmsAbvGrd",
          "Fireplaces",
          "GarageYrBlt",
          "GarageCars",
          "GarageArea",
          "WoodDeckSF",
          "OpenPorchSF",
          "EnclosedPorch",
          "3SsnPorch",
          "ScreenPorch",
          "PoolArea",
          "MiscVal",
          "MoSold",
          "YrSold"
         ],
         "xaxis": "x",
         "y": [
          "Unnamed: 0",
          "MapRefNo",
          "GrLivArea",
          "SalePrice",
          "MSSubClass",
          "LotFrontage",
          "LotArea",
          "OverallQual",
          "OverallCond",
          "YearBuilt",
          "YearRemodAdd",
          "MasVnrArea",
          "BsmtFinSF1",
          "BsmtFinSF2",
          "BsmtUnfSF",
          "TotalBsmtSF",
          "1stFlrSF",
          "2ndFlrSF",
          "LowQualFinSF",
          "BsmtFullBath",
          "BsmtHalfBath",
          "FullBath",
          "HalfBath",
          "BedroomAbvGr",
          "KitchenAbvGr",
          "TotRmsAbvGrd",
          "Fireplaces",
          "GarageYrBlt",
          "GarageCars",
          "GarageArea",
          "WoodDeckSF",
          "OpenPorchSF",
          "EnclosedPorch",
          "3SsnPorch",
          "ScreenPorch",
          "PoolArea",
          "MiscVal",
          "MoSold",
          "YrSold"
         ],
         "yaxis": "y",
         "z": [
          [
           1,
           -0.008029738387797653,
           -0.013745436595150548,
           -0.02841250213557407,
           0.0034004289571681126,
           0.012409643766148509,
           -0.019958314057510588,
           -0.017036054951936122,
           -0.005498860238583264,
           0.004610267772491031,
           -0.009981710687238037,
           -0.024033353267528253,
           -0.010263561748846501,
           -0.013177980711368678,
           -0.007917499455736747,
           -0.024062712824499375,
           -0.028042498232367614,
           0.009027013461450396,
           -4.480466605318985e-05,
           -0.014438708256545252,
           -0.0018388539609874635,
           0.00027059017057199985,
           0.006548482571557156,
           0.025785392142019758,
           0.014444955868593668,
           0.011619434487897479,
           0.0004534336137512349,
           -0.023295688334558473,
           -0.005151735206463665,
           -0.0035800552731095688,
           -0.018456083325663977,
           -0.014715236113780384,
           -0.033399001571603616,
           -0.002035117250985415,
           0.0031485667085009955,
           0.0020053502437900063,
           -0.03089638349684959,
           0.011778770369385232,
           -0.008081798597974569
          ],
          [
           -0.008029738387797653,
           1,
           -0.10227012187599017,
           -0.22627637190505334,
           -0.005327924298000331,
           -0.0953789904617205,
           0.04204852474404806,
           -0.2471677422750899,
           0.120012836283086,
           -0.3379626164477172,
           -0.12874436095581515,
           -0.2303435822049599,
           -0.11246834108942183,
           -0.00334156329692557,
           -0.07449739253376432,
           -0.19243736911435744,
           -0.15390330816199793,
           0.012507368369054556,
           0.05817057026206233,
           -0.04429229540078499,
           0.0018525711745836194,
           -0.15420948654788286,
           -0.17268955003202247,
           0.0012901043584009346,
           0.04775987984034555,
           -0.07426862622707622,
           -0.1086459133741123,
           -0.2558611343255466,
           -0.22107367761500593,
           -0.19898773681393683,
           -0.04187590885961428,
           -0.05484331848962935,
           0.168777591600237,
           -0.021197801172422443,
           -0.031645542364061884,
           -0.006526177735078599,
           -0.022523939582128855,
           -0.059939838515791086,
           0.002237735151797276
          ],
          [
           -0.013745436595150548,
           -0.10227012187599017,
           1,
           0.7199813925858772,
           0.07078496809559849,
           0.34544776724342463,
           0.2603219485476075,
           0.5598969369039994,
           -0.10566982766277233,
           0.22840000046994055,
           0.3060352405866498,
           0.38720562872931985,
           0.16489901492205025,
           -0.021056455390198462,
           0.24554523418748211,
           0.409814088586528,
           0.5391347365897425,
           0.6650014450899273,
           0.08893097545311006,
           0.044748659050170336,
           -0.053401132891380945,
           0.6439368846962076,
           0.4455131464886945,
           0.5380219863066396,
           0.12979656004064455,
           0.8074453934107566,
           0.45792565282135556,
           0.2669337153107775,
           0.49501052682959035,
           0.47715242320032897,
           0.2477162488274163,
           0.32177735330068025,
           0.00019612351919114023,
           0.008714364330857675,
           0.09783505452511325,
           0.05793453772261094,
           -0.003939565696425026,
           0.038389424356308786,
           -0.00826038288127613
          ],
          [
           -0.02841250213557407,
           -0.22627637190505334,
           0.7199813925858772,
           1,
           -0.08458728424971745,
           0.35857707378246095,
           0.27444345733445424,
           0.790501446764753,
           -0.10109148324587461,
           0.5443699746148827,
           0.5143087667390126,
           0.5009637970191104,
           0.46079178985174396,
           0.02251968462534049,
           0.167519405293936,
           0.6522223203849293,
           0.6426131361189649,
           0.26314385072870944,
           -0.03083495397004764,
           0.2910798682384632,
           -0.03380161573118405,
           0.53498176789257,
           0.2858750040157157,
           0.15180621948840273,
           -0.11397676418120904,
           0.490219428960149,
           0.4881836355236371,
           0.5207631950432833,
           0.6388010546242726,
           0.63499176519051,
           0.33323164680472167,
           0.30654016886746055,
           -0.12323486525887883,
           0.03126012658355872,
           0.12146339970885772,
           0.030844416319021566,
           -0.01887692975397773,
           0.012590504982043137,
           -0.0013756935033627596
          ],
          [
           0.0034004289571681126,
           -0.005327924298000331,
           0.07078496809559849,
           -0.08458728424971745,
           1,
           -0.43872396663229496,
           -0.19804027079764278,
           0.05646834513180234,
           -0.07554184445567377,
           0.05385187801246469,
           0.056755691256189955,
           0.017830773880441537,
           -0.07409190738295247,
           -0.07409126659461568,
           -0.11325707513735662,
           -0.22193095263917492,
           -0.2557976507527922,
           0.3069293365731891,
           0.013472523348734096,
           -0.002150469131118987,
           -0.010580324390688867,
           0.1444748317677127,
           0.18178014428636768,
           -0.023680164409023596,
           0.2513566440182726,
           0.03204710617247032,
           -0.0477896979827078,
           0.11114530763434378,
           -0.03196281750736836,
           -0.09117725133658418,
           -0.017655801547869443,
           -0.007648871736030769,
           -0.0285345033362443,
           -0.04179830818931659,
           -0.05509938303794668,
           -0.013431425034043754,
           -0.027225692357592177,
           0.007251828679424197,
           -0.02535131787901761
          ],
          [
           0.012409643766148509,
           -0.0953789904617205,
           0.34544776724342463,
           0.35857707378246095,
           -0.43872396663229496,
           1,
           0.46372011530445983,
           0.17965615883792957,
           -0.05404819288489492,
           0.09960169473564062,
           0.0635480629530805,
           0.2021391060249264,
           0.17730389162776247,
           0.05524689204189409,
           0.10416699703054273,
           0.3078848735073117,
           0.43732370048109603,
           0.005643631641345174,
           -0.010622547974460635,
           0.10664083763066998,
           -0.02883206261987788,
           0.16969564598073808,
           0.026992386874295164,
           0.24795240409559527,
           0.018643738462978024,
           0.34282462244823586,
           0.24918060771048814,
           0.05157817056445856,
           0.30228489908120476,
           0.33715752506858737,
           0.12374338390195985,
           0.14280919049467625,
           0.0034798886201013804,
           0.03440611684042035,
           0.0838486124295723,
           0.08604116347302807,
           0.017859183647418432,
           0.00216419259493922,
           -0.002554796039149833
          ],
          [
           -0.019958314057510588,
           0.04204852474404806,
           0.2603219485476075,
           0.27444345733445424,
           -0.19804027079764278,
           0.46372011530445983,
           1,
           0.08060690154537488,
           -0.032692507765252114,
           0.012396706922248134,
           0.010293322210628708,
           0.10341629851699621,
           0.1634681356332378,
           0.08233928735251916,
           0.01973790832633437,
           0.22204246771278466,
           0.31308592951342584,
           0.022434255239935794,
           -0.0003342326401299665,
           0.11878835050184454,
           0.027586094944342308,
           0.12435220554591109,
           0.026727273990645825,
           0.14042985391644613,
           -0.014574597717121997,
           0.20454483487603348,
           0.24514834594988405,
           -0.016526363635074072,
           0.17573336457112138,
           0.19924129385533276,
           0.15568741688697513,
           0.08496263790139855,
           0.017693754663130515,
           0.017721345076804094,
           0.05381966131424299,
           0.052636068111183654,
           0.04022000985749161,
           0.010202846874778678,
           -0.01731922243201071
          ],
          [
           -0.017036054951936122,
           -0.2471677422750899,
           0.5598969369039994,
           0.790501446764753,
           0.05646834513180234,
           0.17965615883792957,
           0.08060690154537488,
           1,
           -0.09592658258181641,
           0.574399722496666,
           0.546296529987847,
           0.4057625280837595,
           0.2739190313462555,
           -0.03038323804584945,
           0.25569796660133387,
           0.5280689866205314,
           0.4544812107322617,
           0.24688503567765505,
           -0.04435864635440269,
           0.17334151553966715,
           -0.05057113677446756,
           0.5082546038593353,
           0.2714551324896169,
           0.0674662351457182,
           -0.1536914416382534,
           0.36067543749711267,
           0.3877768190309802,
           0.5584843318248505,
           0.5810233193830749,
           0.538182503636386,
           0.2501811321784529,
           0.2868614803830835,
           -0.13429129563593423,
           0.01422635003173946,
           0.04927682771386361,
           -0.002483749476596409,
           -0.025824762317091698,
           0.01677999969534893,
           0.005667721056118498
          ],
          [
           -0.005498860238583264,
           0.120012836283086,
           -0.10566982766277233,
           -0.10109148324587461,
           -0.07554184445567377,
           -0.05404819288489492,
           -0.032692507765252114,
           -0.09592658258181641,
           1,
           -0.3972744238572867,
           0.0651002300524805,
           -0.14398638068789674,
           -0.0643466233337219,
           0.029990011135118393,
           -0.12399833380368176,
           -0.17947283224928992,
           -0.15659153338927723,
           0.015072708568033796,
           0.019018463649906753,
           -0.05792068083973459,
           0.08515961708335988,
           -0.2102258408818643,
           -0.09605151615936527,
           0.004107959036551554,
           -0.07564239708334906,
           -0.07248177174658263,
           -0.04657013683970101,
           -0.33561893111972324,
           -0.1957796046517759,
           -0.16823833685229178,
           0.014160664627732203,
           -0.06743720915763823,
           0.08591043147774803,
           0.04190431347771344,
           0.0504172353595183,
           -0.02119304857175194,
           0.04601542585938524,
           0.012210600559173574,
           0.0176324252693227
          ],
          [
           0.004610267772491031,
           -0.3379626164477172,
           0.22840000046994055,
           0.5443699746148827,
           0.05385187801246469,
           0.09960169473564062,
           0.012396706922248134,
           0.574399722496666,
           -0.3972744238572867,
           1,
           0.572276098583504,
           0.30722799942917606,
           0.30361646682963184,
           -0.009806847962173498,
           0.09217095612986764,
           0.4009831532690421,
           0.2946913831769117,
           0.015754268953410124,
           -0.13208644866603875,
           0.22956986566105378,
           -0.02879955887521346,
           0.4500647892378574,
           0.2729793295233991,
           -0.04876820188058401,
           -0.1369832153488561,
           0.09544990573527828,
           0.1671884219396835,
           0.8345257138247388,
           0.5194944608864481,
           0.46317465608670283,
           0.2272894834000521,
           0.1796542252662616,
           -0.36093266028211324,
           0.0095129865523148,
           -0.0426548494037889,
           0.004925016344322285,
           -0.027353655938951452,
           -0.00753369499319673,
           0.015349154699868063
          ],
          [
           -0.009981710687238037,
           -0.12874436095581515,
           0.3060352405866498,
           0.5143087667390126,
           0.056755691256189955,
           0.0635480629530805,
           0.010293322210628708,
           0.546296529987847,
           0.0651002300524805,
           0.572276098583504,
           1,
           0.17537057056170358,
           0.15652674694993843,
           -0.05120179581925801,
           0.13064891481272922,
           0.2719435775422951,
           0.2177091451849825,
           0.16630083458947992,
           -0.06371396440235215,
           0.14738759637608484,
           -0.04862291937602413,
           0.4348772836691439,
           0.2096557198912395,
           -0.016713225361157394,
           -0.14510965309028379,
           0.18520368826310932,
           0.12384306312474289,
           0.6253598914608051,
           0.39811376025147416,
           0.34844639922170234,
           0.2182728915187725,
           0.22667660132491244,
           -0.20520457925328386,
           0.028543333164069533,
           -0.04312968683447699,
           -0.018692671313979278,
           -0.016669069934987343,
           0.002476437610521409,
           0.06404611699289761
          ],
          [
           -0.024033353267528253,
           -0.2303435822049599,
           0.38720562872931985,
           0.5009637970191104,
           0.017830773880441537,
           0.2021391060249264,
           0.10341629851699621,
           0.4057625280837595,
           -0.14398638068789674,
           0.30722799942917606,
           0.17537057056170358,
           1,
           0.27733605768563174,
           -0.00951903461708506,
           0.0802828372846332,
           0.3615147882142782,
           0.3621683129511751,
           0.13122988560272325,
           -0.05414581601534965,
           0.12911312526116744,
           0.002436356932213703,
           0.256021712594232,
           0.20037548924540957,
           0.10413480412602177,
           -0.04010450448604699,
           0.26174005353405166,
           0.2473474259763401,
           0.24611958689163568,
           0.3483031933714838,
           0.3489928646626287,
           0.14917710365554931,
           0.12097568764601441,
           -0.10301535943598783,
           0.011669123031876553,
           0.06417645205139443,
           -0.003808443993422738,
           -0.02194953304803599,
           -0.006573906185772281,
           -0.019893829958773316
          ],
          [
           -0.010263561748846501,
           -0.11246834108942183,
           0.16489901492205025,
           0.46079178985174396,
           -0.07409190738295247,
           0.17730389162776247,
           0.1634681356332378,
           0.2739190313462555,
           -0.0643466233337219,
           0.30361646682963184,
           0.15652674694993843,
           0.27733605768563174,
           1,
           -0.05891144774870429,
           -0.48092741268580286,
           0.5126423406088623,
           0.4267629768341605,
           -0.18096753201151708,
           -0.07077401615211514,
           0.6326027194702656,
           0.0674136245574074,
           0.08451805540218504,
           -0.023826655593275653,
           -0.10650377026307645,
           -0.10586024970586168,
           0.016553917291242885,
           0.27867163402905665,
           0.2144915641855397,
           0.2617663772517305,
           0.2983093176654093,
           0.21742248614333173,
           0.10038451159542691,
           -0.10739556118654058,
           0.04434806486906909,
           0.10210914990278218,
           0.017784226927158992,
           0.014570627699193216,
           -0.0038774820077483196,
           0.014207304354041208
          ],
          [
           -0.013177980711368678,
           -0.00334156329692557,
           -0.021056455390198462,
           0.02251968462534049,
           -0.07409126659461568,
           0.05524689204189409,
           0.08233928735251916,
           -0.03038323804584945,
           0.029990011135118393,
           -0.009806847962173498,
           -0.05120179581925801,
           -0.00951903461708506,
           -0.05891144774870429,
           1,
           -0.2423342649460817,
           0.110118595133755,
           0.09402851367030746,
           -0.10715857115856828,
           -0.004430902060574723,
           0.1694533855444821,
           0.10140030937798343,
           -0.07270043427497472,
           -0.03701925850435814,
           -0.04133169303363609,
           -0.04138282019550501,
           -0.05322784239568016,
           0.05573447632573089,
           -0.046384831353386405,
           -0.004547994767794801,
           0.016331340057210663,
           0.10117858324261704,
           -0.01755545645703683,
           0.011893544758322099,
           -0.02310153304952251,
           0.05572405138735344,
           0.057697277684112154,
           -0.003980282545880185,
           -0.0027689026056756153,
           0.0010396097349664624
          ],
          [
           -0.007917499455736747,
           -0.07449739253376432,
           0.24554523418748211,
           0.167519405293936,
           -0.11325707513735662,
           0.10416699703054273,
           0.01973790832633437,
           0.25569796660133387,
           -0.12399833380368176,
           0.09217095612986764,
           0.13064891481272922,
           0.0802828372846332,
           -0.48092741268580286,
           -0.2423342649460817,
           1,
           0.42157331917674706,
           0.30288721619426145,
           0.009303767516677395,
           0.04826924822450546,
           -0.3836085104752237,
           -0.10880076475071374,
           0.26565848017366417,
           -0.035087614229323084,
           0.20014396669494924,
           0.10350989398398289,
           0.25969826452907463,
           0.012605740224361825,
           0.13369006333231226,
           0.16608090840552373,
           0.14999359641155488,
           -0.04077224778090058,
           0.11618160011340917,
           0.019845243554788897,
           -0.0018942694201213072,
           -0.0466157735418926,
           -0.03240632249669402,
           -0.021027835005723864,
           0.011764404844008078,
           -0.0008657423824200907
          ],
          [
           -0.024062712824499375,
           -0.19243736911435744,
           0.409814088586528,
           0.6522223203849293,
           -0.22193095263917492,
           0.3078848735073117,
           0.22204246771278466,
           0.5280689866205314,
           -0.17947283224928992,
           0.4009831532690421,
           0.2719435775422951,
           0.3615147882142782,
           0.5126423406088623,
           0.110118595133755,
           0.42157331917674706,
           1,
           0.7846335456897551,
           -0.22083275761532192,
           -0.025407740794702583,
           0.33019158661381653,
           0.000898717042194245,
           0.32627400127686046,
           -0.07551186758516552,
           0.07685031305550695,
           -0.02067895803101296,
           0.2586194569834167,
           0.32188056925920966,
           0.33967919054795953,
           0.4353327744587075,
           0.46517654876466397,
           0.22376653106580585,
           0.21367985965166833,
           -0.08504479465221834,
           0.03393880783567407,
           0.08060491748773757,
           0.00936559145698503,
           -0.008074449371345927,
           0.006819931499710587,
           0.014126950966792392
          ],
          [
           -0.028042498232367614,
           -0.15390330816199793,
           0.5391347365897425,
           0.6426131361189649,
           -0.2557976507527922,
           0.43732370048109603,
           0.31308592951342584,
           0.4544812107322617,
           -0.15659153338927723,
           0.2946913831769117,
           0.2177091451849825,
           0.3621683129511751,
           0.4267629768341605,
           0.09402851367030746,
           0.30288721619426145,
           0.7846335456897551,
           1,
           -0.26434513845749597,
           -0.009214952399742701,
           0.26120637224475046,
           -0.0022565951639624137,
           0.37187405389992334,
           -0.11939396313416357,
           0.12523893114687673,
           0.08003656799192185,
           0.3745614282246883,
           0.4087368362030479,
           0.2477357615880307,
           0.44127778591545824,
           0.48022274350693955,
           0.22461259843694764,
           0.21142859877224893,
           -0.06889160204242877,
           0.045420587237195574,
           0.10676880786206137,
           0.0761733235404295,
           -0.00688970195192145,
           0.029974515952824334,
           -0.006323575707486468
          ],
          [
           0.009027013461450396,
           0.012507368369054556,
           0.6650014450899273,
           0.26314385072870944,
           0.3069293365731891,
           0.005643631641345174,
           0.022434255239935794,
           0.24688503567765505,
           0.015072708568033796,
           0.015754268953410124,
           0.16630083458947992,
           0.13122988560272325,
           -0.18096753201151708,
           -0.10715857115856828,
           0.009303767516677395,
           -0.22083275761532192,
           -0.26434513845749597,
           1,
           0.005935254310150768,
           -0.1733837756843248,
           -0.05673345925235153,
           0.4113923550484011,
           0.622320516284936,
           0.5039836047385555,
           0.08011119814360318,
           0.5880665336562064,
           0.16509411250565453,
           0.0903450878448085,
           0.18375936224189723,
           0.1275799064721177,
           0.08709943028762489,
           0.1836893969126614,
           0.05469924299380429,
           -0.029960616435104205,
           0.016554565905226245,
           -0.00022569156659867746,
           0.0021113220426110285,
           0.016377117907230523,
           -0.0036139350866480047
          ],
          [
           -4.480466605318985e-05,
           0.05817057026206233,
           0.08893097545311006,
           -0.03083495397004764,
           0.013472523348734096,
           -0.010622547974460635,
           -0.0003342326401299665,
           -0.04435864635440269,
           0.019018463649906753,
           -0.13208644866603875,
           -0.06371396440235215,
           -0.05414581601534965,
           -0.07077401615211514,
           -0.004430902060574723,
           0.04826924822450546,
           -0.025407740794702583,
           -0.009214952399742701,
           0.005935254310150768,
           1,
           -0.04398132514008931,
           -0.024282294055821173,
           0.008790503708528094,
           -0.02976510417161396,
           0.04716465077798406,
           -0.01437505168534847,
           0.09809559515837957,
           0.0019213394284898087,
           -0.04938026832974426,
           -0.043484854660638665,
           -0.03335064432127344,
           -0.0075443616225929384,
           -0.0033674286144487536,
           0.06305363058793115,
           -0.002534225042571185,
           0.014550448748955133,
           -0.005238565245053987,
           -0.005183765387622371,
           0.012267629009260438,
           -0.002848020322050201
          ],
          [
           -0.014438708256545252,
           -0.04429229540078499,
           0.044748659050170336,
           0.2910798682384632,
           -0.002150469131118987,
           0.10664083763066998,
           0.11878835050184454,
           0.17334151553966715,
           -0.05792068083973459,
           0.22956986566105378,
           0.14738759637608484,
           0.12911312526116744,
           0.6326027194702656,
           0.1694533855444821,
           -0.3836085104752237,
           0.33019158661381653,
           0.26120637224475046,
           -0.1733837756843248,
           -0.04398132514008931,
           1,
           -0.1640636438276443,
           -0.022744309486097146,
           -0.04995042513524601,
           -0.153394965794963,
           -0.05264758557437701,
           -0.05782889869092881,
           0.15042661445498834,
           0.17475651095949532,
           0.16102209348779012,
           0.18399214473775613,
           0.17851110063921866,
           0.08665900919575147,
           -0.07691305620893678,
           0.023741297688478158,
           0.050564721993914846,
           0.03284305457653588,
           -0.023790998804550254,
           -0.0018860692271060317,
           0.035599479548635314
          ],
          [
           -0.0018388539609874635,
           0.0018525711745836194,
           -0.053401132891380945,
           -0.03380161573118405,
           -0.010580324390688867,
           -0.02883206261987788,
           0.027586094944342308,
           -0.05057113677446756,
           0.08515961708335988,
           -0.02879955887521346,
           -0.04862291937602413,
           0.002436356932213703,
           0.0674136245574074,
           0.10140030937798343,
           -0.10880076475071374,
           0.000898717042194245,
           -0.0022565951639624137,
           -0.05673345925235153,
           -0.024282294055821173,
           -0.1640636438276443,
           1,
           -0.038041764129414096,
           -0.06838625238958303,
           0.02127555254637078,
           -0.05055446867556843,
           -0.04952083005083298,
           0.03762590523658694,
           -0.05357583564915372,
           -0.02931271551274307,
           -0.018288123123149622,
           0.05709914717821409,
           -0.037192396147912414,
           -0.024528862939702547,
           -0.00960295357217553,
           0.03366762609550183,
           0.06974659490254216,
           -0.0022046233643925003,
           0.031365809639491135,
           -0.023112657976069234
          ],
          [
           0.00027059017057199985,
           -0.15420948654788286,
           0.6439368846962076,
           0.53498176789257,
           0.1444748317677127,
           0.16969564598073808,
           0.12435220554591109,
           0.5082546038593353,
           -0.2102258408818643,
           0.4500647892378574,
           0.4348772836691439,
           0.256021712594232,
           0.08451805540218504,
           -0.07270043427497472,
           0.26565848017366417,
           0.32627400127686046,
           0.37187405389992334,
           0.4113923550484011,
           0.008790503708528094,
           -0.022744309486097146,
           -0.038041764129414096,
           1,
           0.1728073260303601,
           0.3700148125318286,
           0.1884053093067632,
           0.5343573388544237,
           0.2391396797340577,
           0.4840772105206366,
           0.4727734605293344,
           0.4038323377460051,
           0.18132352748528413,
           0.2612559192293372,
           -0.1121918044512282,
           0.018270250539733444,
           -0.01023550219342613,
           0.0034718348121226534,
           -0.020818150512411485,
           0.03451285309404775,
           0.023641045606608693
          ],
          [
           0.006548482571557156,
           -0.17268955003202247,
           0.4455131464886945,
           0.2858750040157157,
           0.18178014428636768,
           0.026992386874295164,
           0.026727273990645825,
           0.2714551324896169,
           -0.09605151615936527,
           0.2729793295233991,
           0.2096557198912395,
           0.20037548924540957,
           -0.023826655593275653,
           -0.03701925850435814,
           -0.035087614229323084,
           -0.07551186758516552,
           -0.11939396313416357,
           0.622320516284936,
           -0.02976510417161396,
           -0.04995042513524601,
           -0.06838625238958303,
           0.1728073260303601,
           1,
           0.26430527956857125,
           -0.05116231496525519,
           0.35013798942828583,
           0.19307732334443664,
           0.2350752072450149,
           0.2328244887017288,
           0.17409228253321052,
           0.11528318216043,
           0.16652434048710285,
           -0.07584353720274987,
           -0.03070523667660107,
           0.03986154856330715,
           -0.002128028752842221,
           0.017073246927849034,
           -0.004407847667148144,
           0.012279799835000538
          ],
          [
           0.025785392142019758,
           0.0012901043584009346,
           0.5380219863066396,
           0.15180621948840273,
           -0.023680164409023596,
           0.24795240409559527,
           0.14042985391644613,
           0.0674662351457182,
           0.004107959036551554,
           -0.04876820188058401,
           -0.016713225361157394,
           0.10413480412602177,
           -0.10650377026307645,
           -0.04133169303363609,
           0.20014396669494924,
           0.07685031305550695,
           0.12523893114687673,
           0.5039836047385555,
           0.04716465077798406,
           -0.153394965794963,
           0.02127555254637078,
           0.3700148125318286,
           0.26430527956857125,
           1,
           0.2595346772568073,
           0.6932231773350223,
           0.0880861911896486,
           -0.037687147616970326,
           0.10819027737047658,
           0.09537058021689092,
           0.03288438887078017,
           0.08418422243420329,
           0.05087742598342254,
           -0.045189228463330705,
           0.01762437642253023,
           0.016254335767868146,
           0.015411646848046865,
           0.055438279443242824,
           -0.0051664082360954044
          ],
          [
           0.014444955868593668,
           0.04775987984034555,
           0.12979656004064455,
           -0.11397676418120904,
           0.2513566440182726,
           0.018643738462978024,
           -0.014574597717121997,
           -0.1536914416382534,
           -0.07564239708334906,
           -0.1369832153488561,
           -0.14510965309028379,
           -0.04010450448604699,
           -0.10586024970586168,
           -0.04138282019550501,
           0.10350989398398289,
           -0.02067895803101296,
           0.08003656799192185,
           0.08011119814360318,
           -0.01437505168534847,
           -0.05264758557437701,
           -0.05055446867556843,
           0.1884053093067632,
           -0.05116231496525519,
           0.2595346772568073,
           1,
           0.3051702373664926,
           -0.11464447561676848,
           -0.0931271839505543,
           -0.03045164341300758,
           -0.04542872030383935,
           -0.08786999648016665,
           -0.05175139469338777,
           0.028418980883077267,
           -0.019766091838504078,
           -0.05342410440439552,
           -0.010906290433748725,
           0.04008838412826739,
           0.044670640004352336,
           0.01576772878333907
          ],
          [
           0.011619434487897479,
           -0.07426862622707622,
           0.8074453934107566,
           0.490219428960149,
           0.03204710617247032,
           0.34282462244823586,
           0.20454483487603348,
           0.36067543749711267,
           -0.07248177174658263,
           0.09544990573527828,
           0.18520368826310932,
           0.26174005353405166,
           0.016553917291242885,
           -0.05322784239568016,
           0.25969826452907463,
           0.2586194569834167,
           0.3745614282246883,
           0.5880665336562064,
           0.09809559515837957,
           -0.05782889869092881,
           -0.04952083005083298,
           0.5343573388544237,
           0.35013798942828583,
           0.6932231773350223,
           0.3051702373664926,
           1,
           0.2999788639466243,
           0.1477058595846183,
           0.35368328241073965,
           0.3204102745859517,
           0.14963376040190107,
           0.22216683462483583,
           0.020376259009469384,
           -0.020297882463613193,
           0.04425135350122046,
           0.045592709137172435,
           0.011219801527360745,
           0.03483869878544288,
           -0.010688094638210873
          ],
          [
           0.0004534336137512349,
           -0.1086459133741123,
           0.45792565282135556,
           0.4881836355236371,
           -0.0477896979827078,
           0.24918060771048814,
           0.24514834594988405,
           0.3877768190309802,
           -0.04657013683970101,
           0.1671884219396835,
           0.12384306312474289,
           0.2473474259763401,
           0.27867163402905665,
           0.05573447632573089,
           0.012605740224361825,
           0.32188056925920966,
           0.4087368362030479,
           0.16509411250565453,
           0.0019213394284898087,
           0.15042661445498834,
           0.03762590523658694,
           0.2391396797340577,
           0.19307732334443664,
           0.0880861911896486,
           -0.11464447561676848,
           0.2999788639466243,
           1,
           0.08725239932858979,
           0.3218392498333464,
           0.28796027974114896,
           0.22060815194818276,
           0.15599631877540918,
           -0.004869221491053734,
           0.018789129901565012,
           0.18156683134764615,
           0.08273690777114134,
           -0.016328878394191074,
           0.039160217147056205,
           -0.008665288755998394
          ],
          [
           -0.023295688334558473,
           -0.2558611343255466,
           0.2669337153107775,
           0.5207631950432833,
           0.11114530763434378,
           0.05157817056445856,
           -0.016526363635074072,
           0.5584843318248505,
           -0.33561893111972324,
           0.8345257138247388,
           0.6253598914608051,
           0.24611958689163568,
           0.2144915641855397,
           -0.046384831353386405,
           0.13369006333231226,
           0.33967919054795953,
           0.2477357615880307,
           0.0903450878448085,
           -0.04938026832974426,
           0.17475651095949532,
           -0.05357583564915372,
           0.4840772105206366,
           0.2350752072450149,
           -0.037687147616970326,
           -0.0931271839505543,
           0.1477058595846183,
           0.08725239932858979,
           1,
           0.5810069207592137,
           0.5540572822772428,
           0.22966039657194462,
           0.218606513986207,
           -0.28777152197749456,
           0.013724646915962046,
           -0.06485747516844538,
           -0.00911466007384655,
           -0.023505926868614566,
           -0.0020539057470837607,
           0.025990628369802562
          ],
          [
           -0.005151735206463665,
           -0.22107367761500593,
           0.49501052682959035,
           0.6388010546242726,
           -0.03196281750736836,
           0.30228489908120476,
           0.17573336457112138,
           0.5810233193830749,
           -0.1957796046517759,
           0.5194944608864481,
           0.39811376025147416,
           0.3483031933714838,
           0.2617663772517305,
           -0.004547994767794801,
           0.16608090840552373,
           0.4353327744587075,
           0.44127778591545824,
           0.18375936224189723,
           -0.043484854660638665,
           0.16102209348779012,
           -0.02931271551274307,
           0.4727734605293344,
           0.2328244887017288,
           0.10819027737047658,
           -0.03045164341300758,
           0.35368328241073965,
           0.3218392498333464,
           0.5810069207592137,
           1,
           0.889602848072809,
           0.24153206921848855,
           0.1966110516531538,
           -0.12689250056133633,
           0.0196661436334697,
           0.03908794961588347,
           0.02430297274631743,
           -0.04069601773114212,
           0.04030198823355412,
           -0.002003755917650452
          ],
          [
           -0.0035800552731095688,
           -0.19898773681393683,
           0.47715242320032897,
           0.63499176519051,
           -0.09117725133658418,
           0.33715752506858737,
           0.19924129385533276,
           0.538182503636386,
           -0.16823833685229178,
           0.46317465608670283,
           0.34844639922170234,
           0.3489928646626287,
           0.2983093176654093,
           0.016331340057210663,
           0.14999359641155488,
           0.46517654876466397,
           0.48022274350693955,
           0.1275799064721177,
           -0.03335064432127344,
           0.18399214473775613,
           -0.018288123123149622,
           0.4038323377460051,
           0.17409228253321052,
           0.09537058021689092,
           -0.04542872030383935,
           0.3204102745859517,
           0.28796027974114896,
           0.5540572822772428,
           0.889602848072809,
           1,
           0.24072475032942317,
           0.21569976475465252,
           -0.10445829080095027,
           0.024638884464796153,
           0.05978021492148021,
           0.026960870603135748,
           -0.028010800730837712,
           0.034716668261822244,
           0.00010328986564990196
          ],
          [
           -0.018456083325663977,
           -0.04187590885961428,
           0.2477162488274163,
           0.33323164680472167,
           -0.017655801547869443,
           0.12374338390195985,
           0.15568741688697513,
           0.2501811321784529,
           0.014160664627732203,
           0.2272894834000521,
           0.2182728915187725,
           0.14917710365554931,
           0.21742248614333173,
           0.10117858324261704,
           -0.04077224778090058,
           0.22376653106580585,
           0.22461259843694764,
           0.08709943028762489,
           -0.0075443616225929384,
           0.17851110063921866,
           0.05709914717821409,
           0.18132352748528413,
           0.11528318216043,
           0.03288438887078017,
           -0.08786999648016665,
           0.14963376040190107,
           0.22060815194818276,
           0.22966039657194462,
           0.24153206921848855,
           0.24072475032942317,
           1,
           0.03263901683693251,
           -0.11749164751271457,
           -0.010213768147295408,
           -0.05199356193569926,
           0.08074411956387015,
           0.01977414403025802,
           0.016942189477197438,
           0.016210869999965287
          ],
          [
           -0.014715236113780384,
           -0.05484331848962935,
           0.32177735330068025,
           0.30654016886746055,
           -0.007648871736030769,
           0.14280919049467625,
           0.08496263790139855,
           0.2868614803830835,
           -0.06743720915763823,
           0.1796542252662616,
           0.22667660132491244,
           0.12097568764601441,
           0.10038451159542691,
           -0.01755545645703683,
           0.11618160011340917,
           0.21367985965166833,
           0.21142859877224893,
           0.1836893969126614,
           -0.0033674286144487536,
           0.08665900919575147,
           -0.037192396147912414,
           0.2612559192293372,
           0.16652434048710285,
           0.08418422243420329,
           -0.05175139469338777,
           0.22216683462483583,
           0.15599631877540918,
           0.218606513986207,
           0.1966110516531538,
           0.21569976475465252,
           0.03263901683693251,
           1,
           -0.046037768427300854,
           -0.018639859044901494,
           0.04127445682445655,
           0.03874536836939363,
           0.016612617247649793,
           0.02299745840301152,
           -0.036910003646403546
          ],
          [
           -0.033399001571603616,
           0.168777591600237,
           0.00019612351919114023,
           -0.12323486525887883,
           -0.0285345033362443,
           0.0034798886201013804,
           0.017693754663130515,
           -0.13429129563593423,
           0.08591043147774803,
           -0.36093266028211324,
           -0.20520457925328386,
           -0.10301535943598783,
           -0.10739556118654058,
           0.011893544758322099,
           0.019845243554788897,
           -0.08504479465221834,
           -0.06889160204242877,
           0.05469924299380429,
           0.06305363058793115,
           -0.07691305620893678,
           -0.024528862939702547,
           -0.1121918044512282,
           -0.07584353720274987,
           0.05087742598342254,
           0.028418980883077267,
           0.020376259009469384,
           -0.004869221491053734,
           -0.28777152197749456,
           -0.12689250056133633,
           -0.10445829080095027,
           -0.11749164751271457,
           -0.046037768427300854,
           1,
           -0.03107013075022513,
           -0.06820966577722805,
           0.07741354815563889,
           0.014934108018485378,
           -0.0064033178134562324,
           0.004785748984190715
          ],
          [
           -0.002035117250985415,
           -0.021197801172422443,
           0.008714364330857675,
           0.03126012658355872,
           -0.04179830818931659,
           0.03440611684042035,
           0.017721345076804094,
           0.01422635003173946,
           0.04190431347771344,
           0.0095129865523148,
           0.028543333164069533,
           0.011669123031876553,
           0.04434806486906909,
           -0.02310153304952251,
           -0.0018942694201213072,
           0.03393880783567407,
           0.045420587237195574,
           -0.029960616435104205,
           -0.002534225042571185,
           0.023741297688478158,
           -0.00960295357217553,
           0.018270250539733444,
           -0.03070523667660107,
           -0.045189228463330705,
           -0.019766091838504078,
           -0.020297882463613193,
           0.018789129901565012,
           0.013724646915962046,
           0.0196661436334697,
           0.024638884464796153,
           -0.010213768147295408,
           -0.018639859044901494,
           -0.03107013075022513,
           1,
           -0.028315736713986593,
           -0.005440870411290659,
           0.001151719014491556,
           0.032242597209363615,
           0.020958293426439515
          ],
          [
           0.0031485667085009955,
           -0.031645542364061884,
           0.09783505452511325,
           0.12146339970885772,
           -0.05509938303794668,
           0.0838486124295723,
           0.05381966131424299,
           0.04927682771386361,
           0.0504172353595183,
           -0.0426548494037889,
           -0.04312968683447699,
           0.06417645205139443,
           0.10210914990278218,
           0.05572405138735344,
           -0.0466157735418926,
           0.08060491748773757,
           0.10676880786206137,
           0.016554565905226245,
           0.014550448748955133,
           0.050564721993914846,
           0.03366762609550183,
           -0.01023550219342613,
           0.03986154856330715,
           0.01762437642253023,
           -0.05342410440439552,
           0.04425135350122046,
           0.18156683134764615,
           -0.06485747516844538,
           0.03908794961588347,
           0.05978021492148021,
           -0.05199356193569926,
           0.04127445682445655,
           -0.06820966577722805,
           -0.028315736713986593,
           1,
           0.04273169088906551,
           0.003519337735381177,
           0.023043852876007277,
           -0.013484743638059274
          ],
          [
           0.0020053502437900063,
           -0.006526177735078599,
           0.05793453772261094,
           0.030844416319021566,
           -0.013431425034043754,
           0.08604116347302807,
           0.052636068111183654,
           -0.002483749476596409,
           -0.02119304857175194,
           0.004925016344322285,
           -0.018692671313979278,
           -0.003808443993422738,
           0.017784226927158992,
           0.057697277684112154,
           -0.03240632249669402,
           0.00936559145698503,
           0.0761733235404295,
           -0.00022569156659867746,
           -0.005238565245053987,
           0.03284305457653588,
           0.06974659490254216,
           0.0034718348121226534,
           -0.002128028752842221,
           0.016254335767868146,
           -0.010906290433748725,
           0.045592709137172435,
           0.08273690777114134,
           -0.00911466007384655,
           0.02430297274631743,
           0.026960870603135748,
           0.08074411956387015,
           0.03874536836939363,
           0.07741354815563889,
           -0.005440870411290659,
           0.04273169088906551,
           1,
           0.021244959125565916,
           -0.04436866035128805,
           -0.047153830170042405
          ],
          [
           -0.03089638349684959,
           -0.022523939582128855,
           -0.003939565696425026,
           -0.01887692975397773,
           -0.027225692357592177,
           0.017859183647418432,
           0.04022000985749161,
           -0.025824762317091698,
           0.04601542585938524,
           -0.027353655938951452,
           -0.016669069934987343,
           -0.02194953304803599,
           0.014570627699193216,
           -0.003980282545880185,
           -0.021027835005723864,
           -0.008074449371345927,
           -0.00688970195192145,
           0.0021113220426110285,
           -0.005183765387622371,
           -0.023790998804550254,
           -0.0022046233643925003,
           -0.020818150512411485,
           0.017073246927849034,
           0.015411646848046865,
           0.04008838412826739,
           0.011219801527360745,
           -0.016328878394191074,
           -0.023505926868614566,
           -0.04069601773114212,
           -0.028010800730837712,
           0.01977414403025802,
           0.016612617247649793,
           0.014934108018485378,
           0.001151719014491556,
           0.003519337735381177,
           0.021244959125565916,
           1,
           -0.00924493242133642,
           0.019348448008470943
          ],
          [
           0.011778770369385232,
           -0.059939838515791086,
           0.038389424356308786,
           0.012590504982043137,
           0.007251828679424197,
           0.00216419259493922,
           0.010202846874778678,
           0.01677999969534893,
           0.012210600559173574,
           -0.00753369499319673,
           0.002476437610521409,
           -0.006573906185772281,
           -0.0038774820077483196,
           -0.0027689026056756153,
           0.011764404844008078,
           0.006819931499710587,
           0.029974515952824334,
           0.016377117907230523,
           0.012267629009260438,
           -0.0018860692271060317,
           0.031365809639491135,
           0.03451285309404775,
           -0.004407847667148144,
           0.055438279443242824,
           0.044670640004352336,
           0.03483869878544288,
           0.039160217147056205,
           -0.0020539057470837607,
           0.04030198823355412,
           0.034716668261822244,
           0.016942189477197438,
           0.02299745840301152,
           -0.0064033178134562324,
           0.032242597209363615,
           0.023043852876007277,
           -0.04436866035128805,
           -0.00924493242133642,
           1,
           -0.14571879944616897
          ],
          [
           -0.008081798597974569,
           0.002237735151797276,
           -0.00826038288127613,
           -0.0013756935033627596,
           -0.02535131787901761,
           -0.002554796039149833,
           -0.01731922243201071,
           0.005667721056118498,
           0.0176324252693227,
           0.015349154699868063,
           0.06404611699289761,
           -0.019893829958773316,
           0.014207304354041208,
           0.0010396097349664624,
           -0.0008657423824200907,
           0.014126950966792392,
           -0.006323575707486468,
           -0.0036139350866480047,
           -0.002848020322050201,
           0.035599479548635314,
           -0.023112657976069234,
           0.023641045606608693,
           0.012279799835000538,
           -0.0051664082360954044,
           0.01576772878333907,
           -0.010688094638210873,
           -0.008665288755998394,
           0.025990628369802562,
           -0.002003755917650452,
           0.00010328986564990196,
           0.016210869999965287,
           -0.036910003646403546,
           0.004785748984190715,
           0.020958293426439515,
           -0.013484743638059274,
           -0.047153830170042405,
           0.019348448008470943,
           -0.14571879944616897,
           1
          ]
         ]
        }
       ],
       "layout": {
        "coloraxis": {
         "colorscale": [
          [
           0,
           "rgb(255,245,240)"
          ],
          [
           0.125,
           "rgb(254,224,210)"
          ],
          [
           0.25,
           "rgb(252,187,161)"
          ],
          [
           0.375,
           "rgb(252,146,114)"
          ],
          [
           0.5,
           "rgb(251,106,74)"
          ],
          [
           0.625,
           "rgb(239,59,44)"
          ],
          [
           0.75,
           "rgb(203,24,29)"
          ],
          [
           0.875,
           "rgb(165,15,21)"
          ],
          [
           1,
           "rgb(103,0,13)"
          ]
         ]
        },
        "height": 800,
        "template": {
         "data": {
          "bar": [
           {
            "error_x": {
             "color": "#2a3f5f"
            },
            "error_y": {
             "color": "#2a3f5f"
            },
            "marker": {
             "line": {
              "color": "#E5ECF6",
              "width": 0.5
             }
            },
            "type": "bar"
           }
          ],
          "barpolar": [
           {
            "marker": {
             "line": {
              "color": "#E5ECF6",
              "width": 0.5
             }
            },
            "type": "barpolar"
           }
          ],
          "carpet": [
           {
            "aaxis": {
             "endlinecolor": "#2a3f5f",
             "gridcolor": "white",
             "linecolor": "white",
             "minorgridcolor": "white",
             "startlinecolor": "#2a3f5f"
            },
            "baxis": {
             "endlinecolor": "#2a3f5f",
             "gridcolor": "white",
             "linecolor": "white",
             "minorgridcolor": "white",
             "startlinecolor": "#2a3f5f"
            },
            "type": "carpet"
           }
          ],
          "choropleth": [
           {
            "colorbar": {
             "outlinewidth": 0,
             "ticks": ""
            },
            "type": "choropleth"
           }
          ],
          "contour": [
           {
            "colorbar": {
             "outlinewidth": 0,
             "ticks": ""
            },
            "colorscale": [
             [
              0,
              "#0d0887"
             ],
             [
              0.1111111111111111,
              "#46039f"
             ],
             [
              0.2222222222222222,
              "#7201a8"
             ],
             [
              0.3333333333333333,
              "#9c179e"
             ],
             [
              0.4444444444444444,
              "#bd3786"
             ],
             [
              0.5555555555555556,
              "#d8576b"
             ],
             [
              0.6666666666666666,
              "#ed7953"
             ],
             [
              0.7777777777777778,
              "#fb9f3a"
             ],
             [
              0.8888888888888888,
              "#fdca26"
             ],
             [
              1,
              "#f0f921"
             ]
            ],
            "type": "contour"
           }
          ],
          "contourcarpet": [
           {
            "colorbar": {
             "outlinewidth": 0,
             "ticks": ""
            },
            "type": "contourcarpet"
           }
          ],
          "heatmap": [
           {
            "colorbar": {
             "outlinewidth": 0,
             "ticks": ""
            },
            "colorscale": [
             [
              0,
              "#0d0887"
             ],
             [
              0.1111111111111111,
              "#46039f"
             ],
             [
              0.2222222222222222,
              "#7201a8"
             ],
             [
              0.3333333333333333,
              "#9c179e"
             ],
             [
              0.4444444444444444,
              "#bd3786"
             ],
             [
              0.5555555555555556,
              "#d8576b"
             ],
             [
              0.6666666666666666,
              "#ed7953"
             ],
             [
              0.7777777777777778,
              "#fb9f3a"
             ],
             [
              0.8888888888888888,
              "#fdca26"
             ],
             [
              1,
              "#f0f921"
             ]
            ],
            "type": "heatmap"
           }
          ],
          "heatmapgl": [
           {
            "colorbar": {
             "outlinewidth": 0,
             "ticks": ""
            },
            "colorscale": [
             [
              0,
              "#0d0887"
             ],
             [
              0.1111111111111111,
              "#46039f"
             ],
             [
              0.2222222222222222,
              "#7201a8"
             ],
             [
              0.3333333333333333,
              "#9c179e"
             ],
             [
              0.4444444444444444,
              "#bd3786"
             ],
             [
              0.5555555555555556,
              "#d8576b"
             ],
             [
              0.6666666666666666,
              "#ed7953"
             ],
             [
              0.7777777777777778,
              "#fb9f3a"
             ],
             [
              0.8888888888888888,
              "#fdca26"
             ],
             [
              1,
              "#f0f921"
             ]
            ],
            "type": "heatmapgl"
           }
          ],
          "histogram": [
           {
            "marker": {
             "colorbar": {
              "outlinewidth": 0,
              "ticks": ""
             }
            },
            "type": "histogram"
           }
          ],
          "histogram2d": [
           {
            "colorbar": {
             "outlinewidth": 0,
             "ticks": ""
            },
            "colorscale": [
             [
              0,
              "#0d0887"
             ],
             [
              0.1111111111111111,
              "#46039f"
             ],
             [
              0.2222222222222222,
              "#7201a8"
             ],
             [
              0.3333333333333333,
              "#9c179e"
             ],
             [
              0.4444444444444444,
              "#bd3786"
             ],
             [
              0.5555555555555556,
              "#d8576b"
             ],
             [
              0.6666666666666666,
              "#ed7953"
             ],
             [
              0.7777777777777778,
              "#fb9f3a"
             ],
             [
              0.8888888888888888,
              "#fdca26"
             ],
             [
              1,
              "#f0f921"
             ]
            ],
            "type": "histogram2d"
           }
          ],
          "histogram2dcontour": [
           {
            "colorbar": {
             "outlinewidth": 0,
             "ticks": ""
            },
            "colorscale": [
             [
              0,
              "#0d0887"
             ],
             [
              0.1111111111111111,
              "#46039f"
             ],
             [
              0.2222222222222222,
              "#7201a8"
             ],
             [
              0.3333333333333333,
              "#9c179e"
             ],
             [
              0.4444444444444444,
              "#bd3786"
             ],
             [
              0.5555555555555556,
              "#d8576b"
             ],
             [
              0.6666666666666666,
              "#ed7953"
             ],
             [
              0.7777777777777778,
              "#fb9f3a"
             ],
             [
              0.8888888888888888,
              "#fdca26"
             ],
             [
              1,
              "#f0f921"
             ]
            ],
            "type": "histogram2dcontour"
           }
          ],
          "mesh3d": [
           {
            "colorbar": {
             "outlinewidth": 0,
             "ticks": ""
            },
            "type": "mesh3d"
           }
          ],
          "parcoords": [
           {
            "line": {
             "colorbar": {
              "outlinewidth": 0,
              "ticks": ""
             }
            },
            "type": "parcoords"
           }
          ],
          "pie": [
           {
            "automargin": true,
            "type": "pie"
           }
          ],
          "scatter": [
           {
            "marker": {
             "colorbar": {
              "outlinewidth": 0,
              "ticks": ""
             }
            },
            "type": "scatter"
           }
          ],
          "scatter3d": [
           {
            "line": {
             "colorbar": {
              "outlinewidth": 0,
              "ticks": ""
             }
            },
            "marker": {
             "colorbar": {
              "outlinewidth": 0,
              "ticks": ""
             }
            },
            "type": "scatter3d"
           }
          ],
          "scattercarpet": [
           {
            "marker": {
             "colorbar": {
              "outlinewidth": 0,
              "ticks": ""
             }
            },
            "type": "scattercarpet"
           }
          ],
          "scattergeo": [
           {
            "marker": {
             "colorbar": {
              "outlinewidth": 0,
              "ticks": ""
             }
            },
            "type": "scattergeo"
           }
          ],
          "scattergl": [
           {
            "marker": {
             "colorbar": {
              "outlinewidth": 0,
              "ticks": ""
             }
            },
            "type": "scattergl"
           }
          ],
          "scattermapbox": [
           {
            "marker": {
             "colorbar": {
              "outlinewidth": 0,
              "ticks": ""
             }
            },
            "type": "scattermapbox"
           }
          ],
          "scatterpolar": [
           {
            "marker": {
             "colorbar": {
              "outlinewidth": 0,
              "ticks": ""
             }
            },
            "type": "scatterpolar"
           }
          ],
          "scatterpolargl": [
           {
            "marker": {
             "colorbar": {
              "outlinewidth": 0,
              "ticks": ""
             }
            },
            "type": "scatterpolargl"
           }
          ],
          "scatterternary": [
           {
            "marker": {
             "colorbar": {
              "outlinewidth": 0,
              "ticks": ""
             }
            },
            "type": "scatterternary"
           }
          ],
          "surface": [
           {
            "colorbar": {
             "outlinewidth": 0,
             "ticks": ""
            },
            "colorscale": [
             [
              0,
              "#0d0887"
             ],
             [
              0.1111111111111111,
              "#46039f"
             ],
             [
              0.2222222222222222,
              "#7201a8"
             ],
             [
              0.3333333333333333,
              "#9c179e"
             ],
             [
              0.4444444444444444,
              "#bd3786"
             ],
             [
              0.5555555555555556,
              "#d8576b"
             ],
             [
              0.6666666666666666,
              "#ed7953"
             ],
             [
              0.7777777777777778,
              "#fb9f3a"
             ],
             [
              0.8888888888888888,
              "#fdca26"
             ],
             [
              1,
              "#f0f921"
             ]
            ],
            "type": "surface"
           }
          ],
          "table": [
           {
            "cells": {
             "fill": {
              "color": "#EBF0F8"
             },
             "line": {
              "color": "white"
             }
            },
            "header": {
             "fill": {
              "color": "#C8D4E3"
             },
             "line": {
              "color": "white"
             }
            },
            "type": "table"
           }
          ]
         },
         "layout": {
          "annotationdefaults": {
           "arrowcolor": "#2a3f5f",
           "arrowhead": 0,
           "arrowwidth": 1
          },
          "autotypenumbers": "strict",
          "coloraxis": {
           "colorbar": {
            "outlinewidth": 0,
            "ticks": ""
           }
          },
          "colorscale": {
           "diverging": [
            [
             0,
             "#8e0152"
            ],
            [
             0.1,
             "#c51b7d"
            ],
            [
             0.2,
             "#de77ae"
            ],
            [
             0.3,
             "#f1b6da"
            ],
            [
             0.4,
             "#fde0ef"
            ],
            [
             0.5,
             "#f7f7f7"
            ],
            [
             0.6,
             "#e6f5d0"
            ],
            [
             0.7,
             "#b8e186"
            ],
            [
             0.8,
             "#7fbc41"
            ],
            [
             0.9,
             "#4d9221"
            ],
            [
             1,
             "#276419"
            ]
           ],
           "sequential": [
            [
             0,
             "#0d0887"
            ],
            [
             0.1111111111111111,
             "#46039f"
            ],
            [
             0.2222222222222222,
             "#7201a8"
            ],
            [
             0.3333333333333333,
             "#9c179e"
            ],
            [
             0.4444444444444444,
             "#bd3786"
            ],
            [
             0.5555555555555556,
             "#d8576b"
            ],
            [
             0.6666666666666666,
             "#ed7953"
            ],
            [
             0.7777777777777778,
             "#fb9f3a"
            ],
            [
             0.8888888888888888,
             "#fdca26"
            ],
            [
             1,
             "#f0f921"
            ]
           ],
           "sequentialminus": [
            [
             0,
             "#0d0887"
            ],
            [
             0.1111111111111111,
             "#46039f"
            ],
            [
             0.2222222222222222,
             "#7201a8"
            ],
            [
             0.3333333333333333,
             "#9c179e"
            ],
            [
             0.4444444444444444,
             "#bd3786"
            ],
            [
             0.5555555555555556,
             "#d8576b"
            ],
            [
             0.6666666666666666,
             "#ed7953"
            ],
            [
             0.7777777777777778,
             "#fb9f3a"
            ],
            [
             0.8888888888888888,
             "#fdca26"
            ],
            [
             1,
             "#f0f921"
            ]
           ]
          },
          "colorway": [
           "#636efa",
           "#EF553B",
           "#00cc96",
           "#ab63fa",
           "#FFA15A",
           "#19d3f3",
           "#FF6692",
           "#B6E880",
           "#FF97FF",
           "#FECB52"
          ],
          "font": {
           "color": "#2a3f5f"
          },
          "geo": {
           "bgcolor": "white",
           "lakecolor": "white",
           "landcolor": "#E5ECF6",
           "showlakes": true,
           "showland": true,
           "subunitcolor": "white"
          },
          "hoverlabel": {
           "align": "left"
          },
          "hovermode": "closest",
          "mapbox": {
           "style": "light"
          },
          "paper_bgcolor": "white",
          "plot_bgcolor": "#E5ECF6",
          "polar": {
           "angularaxis": {
            "gridcolor": "white",
            "linecolor": "white",
            "ticks": ""
           },
           "bgcolor": "#E5ECF6",
           "radialaxis": {
            "gridcolor": "white",
            "linecolor": "white",
            "ticks": ""
           }
          },
          "scene": {
           "xaxis": {
            "backgroundcolor": "#E5ECF6",
            "gridcolor": "white",
            "gridwidth": 2,
            "linecolor": "white",
            "showbackground": true,
            "ticks": "",
            "zerolinecolor": "white"
           },
           "yaxis": {
            "backgroundcolor": "#E5ECF6",
            "gridcolor": "white",
            "gridwidth": 2,
            "linecolor": "white",
            "showbackground": true,
            "ticks": "",
            "zerolinecolor": "white"
           },
           "zaxis": {
            "backgroundcolor": "#E5ECF6",
            "gridcolor": "white",
            "gridwidth": 2,
            "linecolor": "white",
            "showbackground": true,
            "ticks": "",
            "zerolinecolor": "white"
           }
          },
          "shapedefaults": {
           "line": {
            "color": "#2a3f5f"
           }
          },
          "ternary": {
           "aaxis": {
            "gridcolor": "white",
            "linecolor": "white",
            "ticks": ""
           },
           "baxis": {
            "gridcolor": "white",
            "linecolor": "white",
            "ticks": ""
           },
           "bgcolor": "#E5ECF6",
           "caxis": {
            "gridcolor": "white",
            "linecolor": "white",
            "ticks": ""
           }
          },
          "title": {
           "x": 0.05
          },
          "xaxis": {
           "automargin": true,
           "gridcolor": "white",
           "linecolor": "white",
           "ticks": "",
           "title": {
            "standoff": 15
           },
           "zerolinecolor": "white",
           "zerolinewidth": 2
          },
          "yaxis": {
           "automargin": true,
           "gridcolor": "white",
           "linecolor": "white",
           "ticks": "",
           "title": {
            "standoff": 15
           },
           "zerolinecolor": "white",
           "zerolinewidth": 2
          }
         }
        },
        "title": {
         "text": "Housing Heatmap"
        },
        "width": 800,
        "xaxis": {
         "anchor": "y",
         "constrain": "domain",
         "domain": [
          0,
          1
         ],
         "scaleanchor": "y"
        },
        "yaxis": {
         "anchor": "x",
         "autorange": "reversed",
         "constrain": "domain",
         "domain": [
          0,
          1
         ]
        }
       }
      },
      "text/html": [
       "<div>                            <div id=\"224d86fb-e596-4489-b9f1-7c20e6d70839\" class=\"plotly-graph-div\" style=\"height:800px; width:800px;\"></div>            <script type=\"text/javascript\">                require([\"plotly\"], function(Plotly) {                    window.PLOTLYENV=window.PLOTLYENV || {};                                    if (document.getElementById(\"224d86fb-e596-4489-b9f1-7c20e6d70839\")) {                    Plotly.newPlot(                        \"224d86fb-e596-4489-b9f1-7c20e6d70839\",                        [{\"coloraxis\": \"coloraxis\", \"hovertemplate\": \"x: %{x}<br>y: %{y}<br>color: %{z}<extra></extra>\", \"name\": \"0\", \"type\": \"heatmap\", \"x\": [\"Unnamed: 0\", \"MapRefNo\", \"GrLivArea\", \"SalePrice\", \"MSSubClass\", \"LotFrontage\", \"LotArea\", \"OverallQual\", \"OverallCond\", \"YearBuilt\", \"YearRemodAdd\", \"MasVnrArea\", \"BsmtFinSF1\", \"BsmtFinSF2\", \"BsmtUnfSF\", \"TotalBsmtSF\", \"1stFlrSF\", \"2ndFlrSF\", \"LowQualFinSF\", \"BsmtFullBath\", \"BsmtHalfBath\", \"FullBath\", \"HalfBath\", \"BedroomAbvGr\", \"KitchenAbvGr\", \"TotRmsAbvGrd\", \"Fireplaces\", \"GarageYrBlt\", \"GarageCars\", \"GarageArea\", \"WoodDeckSF\", \"OpenPorchSF\", \"EnclosedPorch\", \"3SsnPorch\", \"ScreenPorch\", \"PoolArea\", \"MiscVal\", \"MoSold\", \"YrSold\"], \"xaxis\": \"x\", \"y\": [\"Unnamed: 0\", \"MapRefNo\", \"GrLivArea\", \"SalePrice\", \"MSSubClass\", \"LotFrontage\", \"LotArea\", \"OverallQual\", \"OverallCond\", \"YearBuilt\", \"YearRemodAdd\", \"MasVnrArea\", \"BsmtFinSF1\", \"BsmtFinSF2\", \"BsmtUnfSF\", \"TotalBsmtSF\", \"1stFlrSF\", \"2ndFlrSF\", \"LowQualFinSF\", \"BsmtFullBath\", \"BsmtHalfBath\", \"FullBath\", \"HalfBath\", \"BedroomAbvGr\", \"KitchenAbvGr\", \"TotRmsAbvGrd\", \"Fireplaces\", \"GarageYrBlt\", \"GarageCars\", \"GarageArea\", \"WoodDeckSF\", \"OpenPorchSF\", \"EnclosedPorch\", \"3SsnPorch\", \"ScreenPorch\", \"PoolArea\", \"MiscVal\", \"MoSold\", \"YrSold\"], \"yaxis\": \"y\", \"z\": [[1.0, -0.008029738387797653, -0.013745436595150548, -0.02841250213557407, 0.0034004289571681126, 0.012409643766148509, -0.019958314057510588, -0.017036054951936122, -0.005498860238583264, 0.004610267772491031, -0.009981710687238037, -0.024033353267528253, -0.010263561748846501, -0.013177980711368678, -0.007917499455736747, -0.024062712824499375, -0.028042498232367614, 0.009027013461450396, -4.480466605318985e-05, -0.014438708256545252, -0.0018388539609874635, 0.00027059017057199985, 0.006548482571557156, 0.025785392142019758, 0.014444955868593668, 0.011619434487897479, 0.0004534336137512349, -0.023295688334558473, -0.005151735206463665, -0.0035800552731095688, -0.018456083325663977, -0.014715236113780384, -0.033399001571603616, -0.002035117250985415, 0.0031485667085009955, 0.0020053502437900063, -0.03089638349684959, 0.011778770369385232, -0.008081798597974569], [-0.008029738387797653, 1.0, -0.10227012187599017, -0.22627637190505334, -0.005327924298000331, -0.0953789904617205, 0.04204852474404806, -0.2471677422750899, 0.120012836283086, -0.3379626164477172, -0.12874436095581515, -0.2303435822049599, -0.11246834108942183, -0.00334156329692557, -0.07449739253376432, -0.19243736911435744, -0.15390330816199793, 0.012507368369054556, 0.05817057026206233, -0.04429229540078499, 0.0018525711745836194, -0.15420948654788286, -0.17268955003202247, 0.0012901043584009346, 0.04775987984034555, -0.07426862622707622, -0.1086459133741123, -0.2558611343255466, -0.22107367761500593, -0.19898773681393683, -0.04187590885961428, -0.05484331848962935, 0.168777591600237, -0.021197801172422443, -0.031645542364061884, -0.006526177735078599, -0.022523939582128855, -0.059939838515791086, 0.002237735151797276], [-0.013745436595150548, -0.10227012187599017, 1.0, 0.7199813925858772, 0.07078496809559849, 0.34544776724342463, 0.2603219485476075, 0.5598969369039994, -0.10566982766277233, 0.22840000046994055, 0.3060352405866498, 0.38720562872931985, 0.16489901492205025, -0.021056455390198462, 0.24554523418748211, 0.409814088586528, 0.5391347365897425, 0.6650014450899273, 0.08893097545311006, 0.044748659050170336, -0.053401132891380945, 0.6439368846962076, 0.4455131464886945, 0.5380219863066396, 0.12979656004064455, 0.8074453934107566, 0.45792565282135556, 0.2669337153107775, 0.49501052682959035, 0.47715242320032897, 0.2477162488274163, 0.32177735330068025, 0.00019612351919114023, 0.008714364330857675, 0.09783505452511325, 0.05793453772261094, -0.003939565696425026, 0.038389424356308786, -0.00826038288127613], [-0.02841250213557407, -0.22627637190505334, 0.7199813925858772, 1.0, -0.08458728424971745, 0.35857707378246095, 0.27444345733445424, 0.790501446764753, -0.10109148324587461, 0.5443699746148827, 0.5143087667390126, 0.5009637970191104, 0.46079178985174396, 0.02251968462534049, 0.167519405293936, 0.6522223203849293, 0.6426131361189649, 0.26314385072870944, -0.03083495397004764, 0.2910798682384632, -0.03380161573118405, 0.53498176789257, 0.2858750040157157, 0.15180621948840273, -0.11397676418120904, 0.490219428960149, 0.4881836355236371, 0.5207631950432833, 0.6388010546242726, 0.63499176519051, 0.33323164680472167, 0.30654016886746055, -0.12323486525887883, 0.03126012658355872, 0.12146339970885772, 0.030844416319021566, -0.01887692975397773, 0.012590504982043137, -0.0013756935033627596], [0.0034004289571681126, -0.005327924298000331, 0.07078496809559849, -0.08458728424971745, 1.0, -0.43872396663229496, -0.19804027079764278, 0.05646834513180234, -0.07554184445567377, 0.05385187801246469, 0.056755691256189955, 0.017830773880441537, -0.07409190738295247, -0.07409126659461568, -0.11325707513735662, -0.22193095263917492, -0.2557976507527922, 0.3069293365731891, 0.013472523348734096, -0.002150469131118987, -0.010580324390688867, 0.1444748317677127, 0.18178014428636768, -0.023680164409023596, 0.2513566440182726, 0.03204710617247032, -0.0477896979827078, 0.11114530763434378, -0.03196281750736836, -0.09117725133658418, -0.017655801547869443, -0.007648871736030769, -0.0285345033362443, -0.04179830818931659, -0.05509938303794668, -0.013431425034043754, -0.027225692357592177, 0.007251828679424197, -0.02535131787901761], [0.012409643766148509, -0.0953789904617205, 0.34544776724342463, 0.35857707378246095, -0.43872396663229496, 1.0, 0.46372011530445983, 0.17965615883792957, -0.05404819288489492, 0.09960169473564062, 0.0635480629530805, 0.2021391060249264, 0.17730389162776247, 0.05524689204189409, 0.10416699703054273, 0.3078848735073117, 0.43732370048109603, 0.005643631641345174, -0.010622547974460635, 0.10664083763066998, -0.02883206261987788, 0.16969564598073808, 0.026992386874295164, 0.24795240409559527, 0.018643738462978024, 0.34282462244823586, 0.24918060771048814, 0.05157817056445856, 0.30228489908120476, 0.33715752506858737, 0.12374338390195985, 0.14280919049467625, 0.0034798886201013804, 0.03440611684042035, 0.0838486124295723, 0.08604116347302807, 0.017859183647418432, 0.00216419259493922, -0.002554796039149833], [-0.019958314057510588, 0.04204852474404806, 0.2603219485476075, 0.27444345733445424, -0.19804027079764278, 0.46372011530445983, 1.0, 0.08060690154537488, -0.032692507765252114, 0.012396706922248134, 0.010293322210628708, 0.10341629851699621, 0.1634681356332378, 0.08233928735251916, 0.01973790832633437, 0.22204246771278466, 0.31308592951342584, 0.022434255239935794, -0.0003342326401299665, 0.11878835050184454, 0.027586094944342308, 0.12435220554591109, 0.026727273990645825, 0.14042985391644613, -0.014574597717121997, 0.20454483487603348, 0.24514834594988405, -0.016526363635074072, 0.17573336457112138, 0.19924129385533276, 0.15568741688697513, 0.08496263790139855, 0.017693754663130515, 0.017721345076804094, 0.05381966131424299, 0.052636068111183654, 0.04022000985749161, 0.010202846874778678, -0.01731922243201071], [-0.017036054951936122, -0.2471677422750899, 0.5598969369039994, 0.790501446764753, 0.05646834513180234, 0.17965615883792957, 0.08060690154537488, 1.0, -0.09592658258181641, 0.574399722496666, 0.546296529987847, 0.4057625280837595, 0.2739190313462555, -0.03038323804584945, 0.25569796660133387, 0.5280689866205314, 0.4544812107322617, 0.24688503567765505, -0.04435864635440269, 0.17334151553966715, -0.05057113677446756, 0.5082546038593353, 0.2714551324896169, 0.0674662351457182, -0.1536914416382534, 0.36067543749711267, 0.3877768190309802, 0.5584843318248505, 0.5810233193830749, 0.538182503636386, 0.2501811321784529, 0.2868614803830835, -0.13429129563593423, 0.01422635003173946, 0.04927682771386361, -0.002483749476596409, -0.025824762317091698, 0.01677999969534893, 0.005667721056118498], [-0.005498860238583264, 0.120012836283086, -0.10566982766277233, -0.10109148324587461, -0.07554184445567377, -0.05404819288489492, -0.032692507765252114, -0.09592658258181641, 1.0, -0.3972744238572867, 0.0651002300524805, -0.14398638068789674, -0.0643466233337219, 0.029990011135118393, -0.12399833380368176, -0.17947283224928992, -0.15659153338927723, 0.015072708568033796, 0.019018463649906753, -0.05792068083973459, 0.08515961708335988, -0.2102258408818643, -0.09605151615936527, 0.004107959036551554, -0.07564239708334906, -0.07248177174658263, -0.04657013683970101, -0.33561893111972324, -0.1957796046517759, -0.16823833685229178, 0.014160664627732203, -0.06743720915763823, 0.08591043147774803, 0.04190431347771344, 0.0504172353595183, -0.02119304857175194, 0.04601542585938524, 0.012210600559173574, 0.0176324252693227], [0.004610267772491031, -0.3379626164477172, 0.22840000046994055, 0.5443699746148827, 0.05385187801246469, 0.09960169473564062, 0.012396706922248134, 0.574399722496666, -0.3972744238572867, 1.0, 0.572276098583504, 0.30722799942917606, 0.30361646682963184, -0.009806847962173498, 0.09217095612986764, 0.4009831532690421, 0.2946913831769117, 0.015754268953410124, -0.13208644866603875, 0.22956986566105378, -0.02879955887521346, 0.4500647892378574, 0.2729793295233991, -0.04876820188058401, -0.1369832153488561, 0.09544990573527828, 0.1671884219396835, 0.8345257138247388, 0.5194944608864481, 0.46317465608670283, 0.2272894834000521, 0.1796542252662616, -0.36093266028211324, 0.0095129865523148, -0.0426548494037889, 0.004925016344322285, -0.027353655938951452, -0.00753369499319673, 0.015349154699868063], [-0.009981710687238037, -0.12874436095581515, 0.3060352405866498, 0.5143087667390126, 0.056755691256189955, 0.0635480629530805, 0.010293322210628708, 0.546296529987847, 0.0651002300524805, 0.572276098583504, 1.0, 0.17537057056170358, 0.15652674694993843, -0.05120179581925801, 0.13064891481272922, 0.2719435775422951, 0.2177091451849825, 0.16630083458947992, -0.06371396440235215, 0.14738759637608484, -0.04862291937602413, 0.4348772836691439, 0.2096557198912395, -0.016713225361157394, -0.14510965309028379, 0.18520368826310932, 0.12384306312474289, 0.6253598914608051, 0.39811376025147416, 0.34844639922170234, 0.2182728915187725, 0.22667660132491244, -0.20520457925328386, 0.028543333164069533, -0.04312968683447699, -0.018692671313979278, -0.016669069934987343, 0.002476437610521409, 0.06404611699289761], [-0.024033353267528253, -0.2303435822049599, 0.38720562872931985, 0.5009637970191104, 0.017830773880441537, 0.2021391060249264, 0.10341629851699621, 0.4057625280837595, -0.14398638068789674, 0.30722799942917606, 0.17537057056170358, 1.0, 0.27733605768563174, -0.00951903461708506, 0.0802828372846332, 0.3615147882142782, 0.3621683129511751, 0.13122988560272325, -0.05414581601534965, 0.12911312526116744, 0.002436356932213703, 0.256021712594232, 0.20037548924540957, 0.10413480412602177, -0.04010450448604699, 0.26174005353405166, 0.2473474259763401, 0.24611958689163568, 0.3483031933714838, 0.3489928646626287, 0.14917710365554931, 0.12097568764601441, -0.10301535943598783, 0.011669123031876553, 0.06417645205139443, -0.003808443993422738, -0.02194953304803599, -0.006573906185772281, -0.019893829958773316], [-0.010263561748846501, -0.11246834108942183, 0.16489901492205025, 0.46079178985174396, -0.07409190738295247, 0.17730389162776247, 0.1634681356332378, 0.2739190313462555, -0.0643466233337219, 0.30361646682963184, 0.15652674694993843, 0.27733605768563174, 1.0, -0.05891144774870429, -0.48092741268580286, 0.5126423406088623, 0.4267629768341605, -0.18096753201151708, -0.07077401615211514, 0.6326027194702656, 0.0674136245574074, 0.08451805540218504, -0.023826655593275653, -0.10650377026307645, -0.10586024970586168, 0.016553917291242885, 0.27867163402905665, 0.2144915641855397, 0.2617663772517305, 0.2983093176654093, 0.21742248614333173, 0.10038451159542691, -0.10739556118654058, 0.04434806486906909, 0.10210914990278218, 0.017784226927158992, 0.014570627699193216, -0.0038774820077483196, 0.014207304354041208], [-0.013177980711368678, -0.00334156329692557, -0.021056455390198462, 0.02251968462534049, -0.07409126659461568, 0.05524689204189409, 0.08233928735251916, -0.03038323804584945, 0.029990011135118393, -0.009806847962173498, -0.05120179581925801, -0.00951903461708506, -0.05891144774870429, 1.0, -0.2423342649460817, 0.110118595133755, 0.09402851367030746, -0.10715857115856828, -0.004430902060574723, 0.1694533855444821, 0.10140030937798343, -0.07270043427497472, -0.03701925850435814, -0.04133169303363609, -0.04138282019550501, -0.05322784239568016, 0.05573447632573089, -0.046384831353386405, -0.004547994767794801, 0.016331340057210663, 0.10117858324261704, -0.01755545645703683, 0.011893544758322099, -0.02310153304952251, 0.05572405138735344, 0.057697277684112154, -0.003980282545880185, -0.0027689026056756153, 0.0010396097349664624], [-0.007917499455736747, -0.07449739253376432, 0.24554523418748211, 0.167519405293936, -0.11325707513735662, 0.10416699703054273, 0.01973790832633437, 0.25569796660133387, -0.12399833380368176, 0.09217095612986764, 0.13064891481272922, 0.0802828372846332, -0.48092741268580286, -0.2423342649460817, 1.0, 0.42157331917674706, 0.30288721619426145, 0.009303767516677395, 0.04826924822450546, -0.3836085104752237, -0.10880076475071374, 0.26565848017366417, -0.035087614229323084, 0.20014396669494924, 0.10350989398398289, 0.25969826452907463, 0.012605740224361825, 0.13369006333231226, 0.16608090840552373, 0.14999359641155488, -0.04077224778090058, 0.11618160011340917, 0.019845243554788897, -0.0018942694201213072, -0.0466157735418926, -0.03240632249669402, -0.021027835005723864, 0.011764404844008078, -0.0008657423824200907], [-0.024062712824499375, -0.19243736911435744, 0.409814088586528, 0.6522223203849293, -0.22193095263917492, 0.3078848735073117, 0.22204246771278466, 0.5280689866205314, -0.17947283224928992, 0.4009831532690421, 0.2719435775422951, 0.3615147882142782, 0.5126423406088623, 0.110118595133755, 0.42157331917674706, 1.0, 0.7846335456897551, -0.22083275761532192, -0.025407740794702583, 0.33019158661381653, 0.000898717042194245, 0.32627400127686046, -0.07551186758516552, 0.07685031305550695, -0.02067895803101296, 0.2586194569834167, 0.32188056925920966, 0.33967919054795953, 0.4353327744587075, 0.46517654876466397, 0.22376653106580585, 0.21367985965166833, -0.08504479465221834, 0.03393880783567407, 0.08060491748773757, 0.00936559145698503, -0.008074449371345927, 0.006819931499710587, 0.014126950966792392], [-0.028042498232367614, -0.15390330816199793, 0.5391347365897425, 0.6426131361189649, -0.2557976507527922, 0.43732370048109603, 0.31308592951342584, 0.4544812107322617, -0.15659153338927723, 0.2946913831769117, 0.2177091451849825, 0.3621683129511751, 0.4267629768341605, 0.09402851367030746, 0.30288721619426145, 0.7846335456897551, 1.0, -0.26434513845749597, -0.009214952399742701, 0.26120637224475046, -0.0022565951639624137, 0.37187405389992334, -0.11939396313416357, 0.12523893114687673, 0.08003656799192185, 0.3745614282246883, 0.4087368362030479, 0.2477357615880307, 0.44127778591545824, 0.48022274350693955, 0.22461259843694764, 0.21142859877224893, -0.06889160204242877, 0.045420587237195574, 0.10676880786206137, 0.0761733235404295, -0.00688970195192145, 0.029974515952824334, -0.006323575707486468], [0.009027013461450396, 0.012507368369054556, 0.6650014450899273, 0.26314385072870944, 0.3069293365731891, 0.005643631641345174, 0.022434255239935794, 0.24688503567765505, 0.015072708568033796, 0.015754268953410124, 0.16630083458947992, 0.13122988560272325, -0.18096753201151708, -0.10715857115856828, 0.009303767516677395, -0.22083275761532192, -0.26434513845749597, 1.0, 0.005935254310150768, -0.1733837756843248, -0.05673345925235153, 0.4113923550484011, 0.622320516284936, 0.5039836047385555, 0.08011119814360318, 0.5880665336562064, 0.16509411250565453, 0.0903450878448085, 0.18375936224189723, 0.1275799064721177, 0.08709943028762489, 0.1836893969126614, 0.05469924299380429, -0.029960616435104205, 0.016554565905226245, -0.00022569156659867746, 0.0021113220426110285, 0.016377117907230523, -0.0036139350866480047], [-4.480466605318985e-05, 0.05817057026206233, 0.08893097545311006, -0.03083495397004764, 0.013472523348734096, -0.010622547974460635, -0.0003342326401299665, -0.04435864635440269, 0.019018463649906753, -0.13208644866603875, -0.06371396440235215, -0.05414581601534965, -0.07077401615211514, -0.004430902060574723, 0.04826924822450546, -0.025407740794702583, -0.009214952399742701, 0.005935254310150768, 1.0, -0.04398132514008931, -0.024282294055821173, 0.008790503708528094, -0.02976510417161396, 0.04716465077798406, -0.01437505168534847, 0.09809559515837957, 0.0019213394284898087, -0.04938026832974426, -0.043484854660638665, -0.03335064432127344, -0.0075443616225929384, -0.0033674286144487536, 0.06305363058793115, -0.002534225042571185, 0.014550448748955133, -0.005238565245053987, -0.005183765387622371, 0.012267629009260438, -0.002848020322050201], [-0.014438708256545252, -0.04429229540078499, 0.044748659050170336, 0.2910798682384632, -0.002150469131118987, 0.10664083763066998, 0.11878835050184454, 0.17334151553966715, -0.05792068083973459, 0.22956986566105378, 0.14738759637608484, 0.12911312526116744, 0.6326027194702656, 0.1694533855444821, -0.3836085104752237, 0.33019158661381653, 0.26120637224475046, -0.1733837756843248, -0.04398132514008931, 1.0, -0.1640636438276443, -0.022744309486097146, -0.04995042513524601, -0.153394965794963, -0.05264758557437701, -0.05782889869092881, 0.15042661445498834, 0.17475651095949532, 0.16102209348779012, 0.18399214473775613, 0.17851110063921866, 0.08665900919575147, -0.07691305620893678, 0.023741297688478158, 0.050564721993914846, 0.03284305457653588, -0.023790998804550254, -0.0018860692271060317, 0.035599479548635314], [-0.0018388539609874635, 0.0018525711745836194, -0.053401132891380945, -0.03380161573118405, -0.010580324390688867, -0.02883206261987788, 0.027586094944342308, -0.05057113677446756, 0.08515961708335988, -0.02879955887521346, -0.04862291937602413, 0.002436356932213703, 0.0674136245574074, 0.10140030937798343, -0.10880076475071374, 0.000898717042194245, -0.0022565951639624137, -0.05673345925235153, -0.024282294055821173, -0.1640636438276443, 1.0, -0.038041764129414096, -0.06838625238958303, 0.02127555254637078, -0.05055446867556843, -0.04952083005083298, 0.03762590523658694, -0.05357583564915372, -0.02931271551274307, -0.018288123123149622, 0.05709914717821409, -0.037192396147912414, -0.024528862939702547, -0.00960295357217553, 0.03366762609550183, 0.06974659490254216, -0.0022046233643925003, 0.031365809639491135, -0.023112657976069234], [0.00027059017057199985, -0.15420948654788286, 0.6439368846962076, 0.53498176789257, 0.1444748317677127, 0.16969564598073808, 0.12435220554591109, 0.5082546038593353, -0.2102258408818643, 0.4500647892378574, 0.4348772836691439, 0.256021712594232, 0.08451805540218504, -0.07270043427497472, 0.26565848017366417, 0.32627400127686046, 0.37187405389992334, 0.4113923550484011, 0.008790503708528094, -0.022744309486097146, -0.038041764129414096, 1.0, 0.1728073260303601, 0.3700148125318286, 0.1884053093067632, 0.5343573388544237, 0.2391396797340577, 0.4840772105206366, 0.4727734605293344, 0.4038323377460051, 0.18132352748528413, 0.2612559192293372, -0.1121918044512282, 0.018270250539733444, -0.01023550219342613, 0.0034718348121226534, -0.020818150512411485, 0.03451285309404775, 0.023641045606608693], [0.006548482571557156, -0.17268955003202247, 0.4455131464886945, 0.2858750040157157, 0.18178014428636768, 0.026992386874295164, 0.026727273990645825, 0.2714551324896169, -0.09605151615936527, 0.2729793295233991, 0.2096557198912395, 0.20037548924540957, -0.023826655593275653, -0.03701925850435814, -0.035087614229323084, -0.07551186758516552, -0.11939396313416357, 0.622320516284936, -0.02976510417161396, -0.04995042513524601, -0.06838625238958303, 0.1728073260303601, 1.0, 0.26430527956857125, -0.05116231496525519, 0.35013798942828583, 0.19307732334443664, 0.2350752072450149, 0.2328244887017288, 0.17409228253321052, 0.11528318216043, 0.16652434048710285, -0.07584353720274987, -0.03070523667660107, 0.03986154856330715, -0.002128028752842221, 0.017073246927849034, -0.004407847667148144, 0.012279799835000538], [0.025785392142019758, 0.0012901043584009346, 0.5380219863066396, 0.15180621948840273, -0.023680164409023596, 0.24795240409559527, 0.14042985391644613, 0.0674662351457182, 0.004107959036551554, -0.04876820188058401, -0.016713225361157394, 0.10413480412602177, -0.10650377026307645, -0.04133169303363609, 0.20014396669494924, 0.07685031305550695, 0.12523893114687673, 0.5039836047385555, 0.04716465077798406, -0.153394965794963, 0.02127555254637078, 0.3700148125318286, 0.26430527956857125, 1.0, 0.2595346772568073, 0.6932231773350223, 0.0880861911896486, -0.037687147616970326, 0.10819027737047658, 0.09537058021689092, 0.03288438887078017, 0.08418422243420329, 0.05087742598342254, -0.045189228463330705, 0.01762437642253023, 0.016254335767868146, 0.015411646848046865, 0.055438279443242824, -0.0051664082360954044], [0.014444955868593668, 0.04775987984034555, 0.12979656004064455, -0.11397676418120904, 0.2513566440182726, 0.018643738462978024, -0.014574597717121997, -0.1536914416382534, -0.07564239708334906, -0.1369832153488561, -0.14510965309028379, -0.04010450448604699, -0.10586024970586168, -0.04138282019550501, 0.10350989398398289, -0.02067895803101296, 0.08003656799192185, 0.08011119814360318, -0.01437505168534847, -0.05264758557437701, -0.05055446867556843, 0.1884053093067632, -0.05116231496525519, 0.2595346772568073, 1.0, 0.3051702373664926, -0.11464447561676848, -0.0931271839505543, -0.03045164341300758, -0.04542872030383935, -0.08786999648016665, -0.05175139469338777, 0.028418980883077267, -0.019766091838504078, -0.05342410440439552, -0.010906290433748725, 0.04008838412826739, 0.044670640004352336, 0.01576772878333907], [0.011619434487897479, -0.07426862622707622, 0.8074453934107566, 0.490219428960149, 0.03204710617247032, 0.34282462244823586, 0.20454483487603348, 0.36067543749711267, -0.07248177174658263, 0.09544990573527828, 0.18520368826310932, 0.26174005353405166, 0.016553917291242885, -0.05322784239568016, 0.25969826452907463, 0.2586194569834167, 0.3745614282246883, 0.5880665336562064, 0.09809559515837957, -0.05782889869092881, -0.04952083005083298, 0.5343573388544237, 0.35013798942828583, 0.6932231773350223, 0.3051702373664926, 1.0, 0.2999788639466243, 0.1477058595846183, 0.35368328241073965, 0.3204102745859517, 0.14963376040190107, 0.22216683462483583, 0.020376259009469384, -0.020297882463613193, 0.04425135350122046, 0.045592709137172435, 0.011219801527360745, 0.03483869878544288, -0.010688094638210873], [0.0004534336137512349, -0.1086459133741123, 0.45792565282135556, 0.4881836355236371, -0.0477896979827078, 0.24918060771048814, 0.24514834594988405, 0.3877768190309802, -0.04657013683970101, 0.1671884219396835, 0.12384306312474289, 0.2473474259763401, 0.27867163402905665, 0.05573447632573089, 0.012605740224361825, 0.32188056925920966, 0.4087368362030479, 0.16509411250565453, 0.0019213394284898087, 0.15042661445498834, 0.03762590523658694, 0.2391396797340577, 0.19307732334443664, 0.0880861911896486, -0.11464447561676848, 0.2999788639466243, 1.0, 0.08725239932858979, 0.3218392498333464, 0.28796027974114896, 0.22060815194818276, 0.15599631877540918, -0.004869221491053734, 0.018789129901565012, 0.18156683134764615, 0.08273690777114134, -0.016328878394191074, 0.039160217147056205, -0.008665288755998394], [-0.023295688334558473, -0.2558611343255466, 0.2669337153107775, 0.5207631950432833, 0.11114530763434378, 0.05157817056445856, -0.016526363635074072, 0.5584843318248505, -0.33561893111972324, 0.8345257138247388, 0.6253598914608051, 0.24611958689163568, 0.2144915641855397, -0.046384831353386405, 0.13369006333231226, 0.33967919054795953, 0.2477357615880307, 0.0903450878448085, -0.04938026832974426, 0.17475651095949532, -0.05357583564915372, 0.4840772105206366, 0.2350752072450149, -0.037687147616970326, -0.0931271839505543, 0.1477058595846183, 0.08725239932858979, 1.0, 0.5810069207592137, 0.5540572822772428, 0.22966039657194462, 0.218606513986207, -0.28777152197749456, 0.013724646915962046, -0.06485747516844538, -0.00911466007384655, -0.023505926868614566, -0.0020539057470837607, 0.025990628369802562], [-0.005151735206463665, -0.22107367761500593, 0.49501052682959035, 0.6388010546242726, -0.03196281750736836, 0.30228489908120476, 0.17573336457112138, 0.5810233193830749, -0.1957796046517759, 0.5194944608864481, 0.39811376025147416, 0.3483031933714838, 0.2617663772517305, -0.004547994767794801, 0.16608090840552373, 0.4353327744587075, 0.44127778591545824, 0.18375936224189723, -0.043484854660638665, 0.16102209348779012, -0.02931271551274307, 0.4727734605293344, 0.2328244887017288, 0.10819027737047658, -0.03045164341300758, 0.35368328241073965, 0.3218392498333464, 0.5810069207592137, 1.0, 0.889602848072809, 0.24153206921848855, 0.1966110516531538, -0.12689250056133633, 0.0196661436334697, 0.03908794961588347, 0.02430297274631743, -0.04069601773114212, 0.04030198823355412, -0.002003755917650452], [-0.0035800552731095688, -0.19898773681393683, 0.47715242320032897, 0.63499176519051, -0.09117725133658418, 0.33715752506858737, 0.19924129385533276, 0.538182503636386, -0.16823833685229178, 0.46317465608670283, 0.34844639922170234, 0.3489928646626287, 0.2983093176654093, 0.016331340057210663, 0.14999359641155488, 0.46517654876466397, 0.48022274350693955, 0.1275799064721177, -0.03335064432127344, 0.18399214473775613, -0.018288123123149622, 0.4038323377460051, 0.17409228253321052, 0.09537058021689092, -0.04542872030383935, 0.3204102745859517, 0.28796027974114896, 0.5540572822772428, 0.889602848072809, 1.0, 0.24072475032942317, 0.21569976475465252, -0.10445829080095027, 0.024638884464796153, 0.05978021492148021, 0.026960870603135748, -0.028010800730837712, 0.034716668261822244, 0.00010328986564990196], [-0.018456083325663977, -0.04187590885961428, 0.2477162488274163, 0.33323164680472167, -0.017655801547869443, 0.12374338390195985, 0.15568741688697513, 0.2501811321784529, 0.014160664627732203, 0.2272894834000521, 0.2182728915187725, 0.14917710365554931, 0.21742248614333173, 0.10117858324261704, -0.04077224778090058, 0.22376653106580585, 0.22461259843694764, 0.08709943028762489, -0.0075443616225929384, 0.17851110063921866, 0.05709914717821409, 0.18132352748528413, 0.11528318216043, 0.03288438887078017, -0.08786999648016665, 0.14963376040190107, 0.22060815194818276, 0.22966039657194462, 0.24153206921848855, 0.24072475032942317, 1.0, 0.03263901683693251, -0.11749164751271457, -0.010213768147295408, -0.05199356193569926, 0.08074411956387015, 0.01977414403025802, 0.016942189477197438, 0.016210869999965287], [-0.014715236113780384, -0.05484331848962935, 0.32177735330068025, 0.30654016886746055, -0.007648871736030769, 0.14280919049467625, 0.08496263790139855, 0.2868614803830835, -0.06743720915763823, 0.1796542252662616, 0.22667660132491244, 0.12097568764601441, 0.10038451159542691, -0.01755545645703683, 0.11618160011340917, 0.21367985965166833, 0.21142859877224893, 0.1836893969126614, -0.0033674286144487536, 0.08665900919575147, -0.037192396147912414, 0.2612559192293372, 0.16652434048710285, 0.08418422243420329, -0.05175139469338777, 0.22216683462483583, 0.15599631877540918, 0.218606513986207, 0.1966110516531538, 0.21569976475465252, 0.03263901683693251, 1.0, -0.046037768427300854, -0.018639859044901494, 0.04127445682445655, 0.03874536836939363, 0.016612617247649793, 0.02299745840301152, -0.036910003646403546], [-0.033399001571603616, 0.168777591600237, 0.00019612351919114023, -0.12323486525887883, -0.0285345033362443, 0.0034798886201013804, 0.017693754663130515, -0.13429129563593423, 0.08591043147774803, -0.36093266028211324, -0.20520457925328386, -0.10301535943598783, -0.10739556118654058, 0.011893544758322099, 0.019845243554788897, -0.08504479465221834, -0.06889160204242877, 0.05469924299380429, 0.06305363058793115, -0.07691305620893678, -0.024528862939702547, -0.1121918044512282, -0.07584353720274987, 0.05087742598342254, 0.028418980883077267, 0.020376259009469384, -0.004869221491053734, -0.28777152197749456, -0.12689250056133633, -0.10445829080095027, -0.11749164751271457, -0.046037768427300854, 1.0, -0.03107013075022513, -0.06820966577722805, 0.07741354815563889, 0.014934108018485378, -0.0064033178134562324, 0.004785748984190715], [-0.002035117250985415, -0.021197801172422443, 0.008714364330857675, 0.03126012658355872, -0.04179830818931659, 0.03440611684042035, 0.017721345076804094, 0.01422635003173946, 0.04190431347771344, 0.0095129865523148, 0.028543333164069533, 0.011669123031876553, 0.04434806486906909, -0.02310153304952251, -0.0018942694201213072, 0.03393880783567407, 0.045420587237195574, -0.029960616435104205, -0.002534225042571185, 0.023741297688478158, -0.00960295357217553, 0.018270250539733444, -0.03070523667660107, -0.045189228463330705, -0.019766091838504078, -0.020297882463613193, 0.018789129901565012, 0.013724646915962046, 0.0196661436334697, 0.024638884464796153, -0.010213768147295408, -0.018639859044901494, -0.03107013075022513, 1.0, -0.028315736713986593, -0.005440870411290659, 0.001151719014491556, 0.032242597209363615, 0.020958293426439515], [0.0031485667085009955, -0.031645542364061884, 0.09783505452511325, 0.12146339970885772, -0.05509938303794668, 0.0838486124295723, 0.05381966131424299, 0.04927682771386361, 0.0504172353595183, -0.0426548494037889, -0.04312968683447699, 0.06417645205139443, 0.10210914990278218, 0.05572405138735344, -0.0466157735418926, 0.08060491748773757, 0.10676880786206137, 0.016554565905226245, 0.014550448748955133, 0.050564721993914846, 0.03366762609550183, -0.01023550219342613, 0.03986154856330715, 0.01762437642253023, -0.05342410440439552, 0.04425135350122046, 0.18156683134764615, -0.06485747516844538, 0.03908794961588347, 0.05978021492148021, -0.05199356193569926, 0.04127445682445655, -0.06820966577722805, -0.028315736713986593, 1.0, 0.04273169088906551, 0.003519337735381177, 0.023043852876007277, -0.013484743638059274], [0.0020053502437900063, -0.006526177735078599, 0.05793453772261094, 0.030844416319021566, -0.013431425034043754, 0.08604116347302807, 0.052636068111183654, -0.002483749476596409, -0.02119304857175194, 0.004925016344322285, -0.018692671313979278, -0.003808443993422738, 0.017784226927158992, 0.057697277684112154, -0.03240632249669402, 0.00936559145698503, 0.0761733235404295, -0.00022569156659867746, -0.005238565245053987, 0.03284305457653588, 0.06974659490254216, 0.0034718348121226534, -0.002128028752842221, 0.016254335767868146, -0.010906290433748725, 0.045592709137172435, 0.08273690777114134, -0.00911466007384655, 0.02430297274631743, 0.026960870603135748, 0.08074411956387015, 0.03874536836939363, 0.07741354815563889, -0.005440870411290659, 0.04273169088906551, 1.0, 0.021244959125565916, -0.04436866035128805, -0.047153830170042405], [-0.03089638349684959, -0.022523939582128855, -0.003939565696425026, -0.01887692975397773, -0.027225692357592177, 0.017859183647418432, 0.04022000985749161, -0.025824762317091698, 0.04601542585938524, -0.027353655938951452, -0.016669069934987343, -0.02194953304803599, 0.014570627699193216, -0.003980282545880185, -0.021027835005723864, -0.008074449371345927, -0.00688970195192145, 0.0021113220426110285, -0.005183765387622371, -0.023790998804550254, -0.0022046233643925003, -0.020818150512411485, 0.017073246927849034, 0.015411646848046865, 0.04008838412826739, 0.011219801527360745, -0.016328878394191074, -0.023505926868614566, -0.04069601773114212, -0.028010800730837712, 0.01977414403025802, 0.016612617247649793, 0.014934108018485378, 0.001151719014491556, 0.003519337735381177, 0.021244959125565916, 1.0, -0.00924493242133642, 0.019348448008470943], [0.011778770369385232, -0.059939838515791086, 0.038389424356308786, 0.012590504982043137, 0.007251828679424197, 0.00216419259493922, 0.010202846874778678, 0.01677999969534893, 0.012210600559173574, -0.00753369499319673, 0.002476437610521409, -0.006573906185772281, -0.0038774820077483196, -0.0027689026056756153, 0.011764404844008078, 0.006819931499710587, 0.029974515952824334, 0.016377117907230523, 0.012267629009260438, -0.0018860692271060317, 0.031365809639491135, 0.03451285309404775, -0.004407847667148144, 0.055438279443242824, 0.044670640004352336, 0.03483869878544288, 0.039160217147056205, -0.0020539057470837607, 0.04030198823355412, 0.034716668261822244, 0.016942189477197438, 0.02299745840301152, -0.0064033178134562324, 0.032242597209363615, 0.023043852876007277, -0.04436866035128805, -0.00924493242133642, 1.0, -0.14571879944616897], [-0.008081798597974569, 0.002237735151797276, -0.00826038288127613, -0.0013756935033627596, -0.02535131787901761, -0.002554796039149833, -0.01731922243201071, 0.005667721056118498, 0.0176324252693227, 0.015349154699868063, 0.06404611699289761, -0.019893829958773316, 0.014207304354041208, 0.0010396097349664624, -0.0008657423824200907, 0.014126950966792392, -0.006323575707486468, -0.0036139350866480047, -0.002848020322050201, 0.035599479548635314, -0.023112657976069234, 0.023641045606608693, 0.012279799835000538, -0.0051664082360954044, 0.01576772878333907, -0.010688094638210873, -0.008665288755998394, 0.025990628369802562, -0.002003755917650452, 0.00010328986564990196, 0.016210869999965287, -0.036910003646403546, 0.004785748984190715, 0.020958293426439515, -0.013484743638059274, -0.047153830170042405, 0.019348448008470943, -0.14571879944616897, 1.0]]}],                        {\"coloraxis\": {\"colorscale\": [[0.0, \"rgb(255,245,240)\"], [0.125, \"rgb(254,224,210)\"], [0.25, \"rgb(252,187,161)\"], [0.375, \"rgb(252,146,114)\"], [0.5, \"rgb(251,106,74)\"], [0.625, \"rgb(239,59,44)\"], [0.75, \"rgb(203,24,29)\"], [0.875, \"rgb(165,15,21)\"], [1.0, \"rgb(103,0,13)\"]]}, \"height\": 800, \"template\": {\"data\": {\"bar\": [{\"error_x\": {\"color\": \"#2a3f5f\"}, \"error_y\": {\"color\": \"#2a3f5f\"}, \"marker\": {\"line\": {\"color\": \"#E5ECF6\", \"width\": 0.5}}, \"type\": \"bar\"}], \"barpolar\": [{\"marker\": {\"line\": {\"color\": \"#E5ECF6\", \"width\": 0.5}}, \"type\": \"barpolar\"}], \"carpet\": [{\"aaxis\": {\"endlinecolor\": \"#2a3f5f\", \"gridcolor\": \"white\", \"linecolor\": \"white\", \"minorgridcolor\": \"white\", \"startlinecolor\": \"#2a3f5f\"}, \"baxis\": {\"endlinecolor\": \"#2a3f5f\", \"gridcolor\": \"white\", \"linecolor\": \"white\", \"minorgridcolor\": \"white\", \"startlinecolor\": \"#2a3f5f\"}, \"type\": \"carpet\"}], \"choropleth\": [{\"colorbar\": {\"outlinewidth\": 0, \"ticks\": \"\"}, \"type\": \"choropleth\"}], \"contour\": [{\"colorbar\": {\"outlinewidth\": 0, \"ticks\": \"\"}, \"colorscale\": [[0.0, \"#0d0887\"], [0.1111111111111111, \"#46039f\"], [0.2222222222222222, \"#7201a8\"], [0.3333333333333333, \"#9c179e\"], [0.4444444444444444, \"#bd3786\"], [0.5555555555555556, \"#d8576b\"], [0.6666666666666666, \"#ed7953\"], [0.7777777777777778, \"#fb9f3a\"], [0.8888888888888888, \"#fdca26\"], [1.0, \"#f0f921\"]], \"type\": \"contour\"}], \"contourcarpet\": [{\"colorbar\": {\"outlinewidth\": 0, \"ticks\": \"\"}, \"type\": \"contourcarpet\"}], \"heatmap\": [{\"colorbar\": {\"outlinewidth\": 0, \"ticks\": \"\"}, \"colorscale\": [[0.0, \"#0d0887\"], [0.1111111111111111, \"#46039f\"], [0.2222222222222222, \"#7201a8\"], [0.3333333333333333, \"#9c179e\"], [0.4444444444444444, \"#bd3786\"], [0.5555555555555556, \"#d8576b\"], [0.6666666666666666, \"#ed7953\"], [0.7777777777777778, \"#fb9f3a\"], [0.8888888888888888, \"#fdca26\"], [1.0, \"#f0f921\"]], \"type\": \"heatmap\"}], \"heatmapgl\": [{\"colorbar\": {\"outlinewidth\": 0, \"ticks\": \"\"}, \"colorscale\": [[0.0, \"#0d0887\"], [0.1111111111111111, \"#46039f\"], [0.2222222222222222, \"#7201a8\"], [0.3333333333333333, \"#9c179e\"], [0.4444444444444444, \"#bd3786\"], [0.5555555555555556, \"#d8576b\"], [0.6666666666666666, \"#ed7953\"], [0.7777777777777778, \"#fb9f3a\"], [0.8888888888888888, \"#fdca26\"], [1.0, \"#f0f921\"]], \"type\": \"heatmapgl\"}], \"histogram\": [{\"marker\": {\"colorbar\": {\"outlinewidth\": 0, \"ticks\": \"\"}}, \"type\": \"histogram\"}], \"histogram2d\": [{\"colorbar\": {\"outlinewidth\": 0, \"ticks\": \"\"}, \"colorscale\": [[0.0, \"#0d0887\"], [0.1111111111111111, \"#46039f\"], [0.2222222222222222, \"#7201a8\"], [0.3333333333333333, \"#9c179e\"], [0.4444444444444444, \"#bd3786\"], [0.5555555555555556, \"#d8576b\"], [0.6666666666666666, \"#ed7953\"], [0.7777777777777778, \"#fb9f3a\"], [0.8888888888888888, \"#fdca26\"], [1.0, \"#f0f921\"]], \"type\": \"histogram2d\"}], \"histogram2dcontour\": [{\"colorbar\": {\"outlinewidth\": 0, \"ticks\": \"\"}, \"colorscale\": [[0.0, \"#0d0887\"], [0.1111111111111111, \"#46039f\"], [0.2222222222222222, \"#7201a8\"], [0.3333333333333333, \"#9c179e\"], [0.4444444444444444, \"#bd3786\"], [0.5555555555555556, \"#d8576b\"], [0.6666666666666666, \"#ed7953\"], [0.7777777777777778, \"#fb9f3a\"], [0.8888888888888888, \"#fdca26\"], [1.0, \"#f0f921\"]], \"type\": \"histogram2dcontour\"}], \"mesh3d\": [{\"colorbar\": {\"outlinewidth\": 0, \"ticks\": \"\"}, \"type\": \"mesh3d\"}], \"parcoords\": [{\"line\": {\"colorbar\": {\"outlinewidth\": 0, \"ticks\": \"\"}}, \"type\": \"parcoords\"}], \"pie\": [{\"automargin\": true, \"type\": \"pie\"}], \"scatter\": [{\"marker\": {\"colorbar\": {\"outlinewidth\": 0, \"ticks\": \"\"}}, \"type\": \"scatter\"}], \"scatter3d\": [{\"line\": {\"colorbar\": {\"outlinewidth\": 0, \"ticks\": \"\"}}, \"marker\": {\"colorbar\": {\"outlinewidth\": 0, \"ticks\": \"\"}}, \"type\": \"scatter3d\"}], \"scattercarpet\": [{\"marker\": {\"colorbar\": {\"outlinewidth\": 0, \"ticks\": \"\"}}, \"type\": \"scattercarpet\"}], \"scattergeo\": [{\"marker\": {\"colorbar\": {\"outlinewidth\": 0, \"ticks\": \"\"}}, \"type\": \"scattergeo\"}], \"scattergl\": [{\"marker\": {\"colorbar\": {\"outlinewidth\": 0, \"ticks\": \"\"}}, \"type\": \"scattergl\"}], \"scattermapbox\": [{\"marker\": {\"colorbar\": {\"outlinewidth\": 0, \"ticks\": \"\"}}, \"type\": \"scattermapbox\"}], \"scatterpolar\": [{\"marker\": {\"colorbar\": {\"outlinewidth\": 0, \"ticks\": \"\"}}, \"type\": \"scatterpolar\"}], \"scatterpolargl\": [{\"marker\": {\"colorbar\": {\"outlinewidth\": 0, \"ticks\": \"\"}}, \"type\": \"scatterpolargl\"}], \"scatterternary\": [{\"marker\": {\"colorbar\": {\"outlinewidth\": 0, \"ticks\": \"\"}}, \"type\": \"scatterternary\"}], \"surface\": [{\"colorbar\": {\"outlinewidth\": 0, \"ticks\": \"\"}, \"colorscale\": [[0.0, \"#0d0887\"], [0.1111111111111111, \"#46039f\"], [0.2222222222222222, \"#7201a8\"], [0.3333333333333333, \"#9c179e\"], [0.4444444444444444, \"#bd3786\"], [0.5555555555555556, \"#d8576b\"], [0.6666666666666666, \"#ed7953\"], [0.7777777777777778, \"#fb9f3a\"], [0.8888888888888888, \"#fdca26\"], [1.0, \"#f0f921\"]], \"type\": \"surface\"}], \"table\": [{\"cells\": {\"fill\": {\"color\": \"#EBF0F8\"}, \"line\": {\"color\": \"white\"}}, \"header\": {\"fill\": {\"color\": \"#C8D4E3\"}, \"line\": {\"color\": \"white\"}}, \"type\": \"table\"}]}, \"layout\": {\"annotationdefaults\": {\"arrowcolor\": \"#2a3f5f\", \"arrowhead\": 0, \"arrowwidth\": 1}, \"autotypenumbers\": \"strict\", \"coloraxis\": {\"colorbar\": {\"outlinewidth\": 0, \"ticks\": \"\"}}, \"colorscale\": {\"diverging\": [[0, \"#8e0152\"], [0.1, \"#c51b7d\"], [0.2, \"#de77ae\"], [0.3, \"#f1b6da\"], [0.4, \"#fde0ef\"], [0.5, \"#f7f7f7\"], [0.6, \"#e6f5d0\"], [0.7, \"#b8e186\"], [0.8, \"#7fbc41\"], [0.9, \"#4d9221\"], [1, \"#276419\"]], \"sequential\": [[0.0, \"#0d0887\"], [0.1111111111111111, \"#46039f\"], [0.2222222222222222, \"#7201a8\"], [0.3333333333333333, \"#9c179e\"], [0.4444444444444444, \"#bd3786\"], [0.5555555555555556, \"#d8576b\"], [0.6666666666666666, \"#ed7953\"], [0.7777777777777778, \"#fb9f3a\"], [0.8888888888888888, \"#fdca26\"], [1.0, \"#f0f921\"]], \"sequentialminus\": [[0.0, \"#0d0887\"], [0.1111111111111111, \"#46039f\"], [0.2222222222222222, \"#7201a8\"], [0.3333333333333333, \"#9c179e\"], [0.4444444444444444, \"#bd3786\"], [0.5555555555555556, \"#d8576b\"], [0.6666666666666666, \"#ed7953\"], [0.7777777777777778, \"#fb9f3a\"], [0.8888888888888888, \"#fdca26\"], [1.0, \"#f0f921\"]]}, \"colorway\": [\"#636efa\", \"#EF553B\", \"#00cc96\", \"#ab63fa\", \"#FFA15A\", \"#19d3f3\", \"#FF6692\", \"#B6E880\", \"#FF97FF\", \"#FECB52\"], \"font\": {\"color\": \"#2a3f5f\"}, \"geo\": {\"bgcolor\": \"white\", \"lakecolor\": \"white\", \"landcolor\": \"#E5ECF6\", \"showlakes\": true, \"showland\": true, \"subunitcolor\": \"white\"}, \"hoverlabel\": {\"align\": \"left\"}, \"hovermode\": \"closest\", \"mapbox\": {\"style\": \"light\"}, \"paper_bgcolor\": \"white\", \"plot_bgcolor\": \"#E5ECF6\", \"polar\": {\"angularaxis\": {\"gridcolor\": \"white\", \"linecolor\": \"white\", \"ticks\": \"\"}, \"bgcolor\": \"#E5ECF6\", \"radialaxis\": {\"gridcolor\": \"white\", \"linecolor\": \"white\", \"ticks\": \"\"}}, \"scene\": {\"xaxis\": {\"backgroundcolor\": \"#E5ECF6\", \"gridcolor\": \"white\", \"gridwidth\": 2, \"linecolor\": \"white\", \"showbackground\": true, \"ticks\": \"\", \"zerolinecolor\": \"white\"}, \"yaxis\": {\"backgroundcolor\": \"#E5ECF6\", \"gridcolor\": \"white\", \"gridwidth\": 2, \"linecolor\": \"white\", \"showbackground\": true, \"ticks\": \"\", \"zerolinecolor\": \"white\"}, \"zaxis\": {\"backgroundcolor\": \"#E5ECF6\", \"gridcolor\": \"white\", \"gridwidth\": 2, \"linecolor\": \"white\", \"showbackground\": true, \"ticks\": \"\", \"zerolinecolor\": \"white\"}}, \"shapedefaults\": {\"line\": {\"color\": \"#2a3f5f\"}}, \"ternary\": {\"aaxis\": {\"gridcolor\": \"white\", \"linecolor\": \"white\", \"ticks\": \"\"}, \"baxis\": {\"gridcolor\": \"white\", \"linecolor\": \"white\", \"ticks\": \"\"}, \"bgcolor\": \"#E5ECF6\", \"caxis\": {\"gridcolor\": \"white\", \"linecolor\": \"white\", \"ticks\": \"\"}}, \"title\": {\"x\": 0.05}, \"xaxis\": {\"automargin\": true, \"gridcolor\": \"white\", \"linecolor\": \"white\", \"ticks\": \"\", \"title\": {\"standoff\": 15}, \"zerolinecolor\": \"white\", \"zerolinewidth\": 2}, \"yaxis\": {\"automargin\": true, \"gridcolor\": \"white\", \"linecolor\": \"white\", \"ticks\": \"\", \"title\": {\"standoff\": 15}, \"zerolinecolor\": \"white\", \"zerolinewidth\": 2}}}, \"title\": {\"text\": \"Housing Heatmap\"}, \"width\": 800, \"xaxis\": {\"anchor\": \"y\", \"constrain\": \"domain\", \"domain\": [0.0, 1.0], \"scaleanchor\": \"y\"}, \"yaxis\": {\"anchor\": \"x\", \"autorange\": \"reversed\", \"constrain\": \"domain\", \"domain\": [0.0, 1.0]}},                        {\"responsive\": true}                    ).then(function(){\n",
       "                            \n",
       "var gd = document.getElementById('224d86fb-e596-4489-b9f1-7c20e6d70839');\n",
       "var x = new MutationObserver(function (mutations, observer) {{\n",
       "        var display = window.getComputedStyle(gd).display;\n",
       "        if (!display || display === 'none') {{\n",
       "            console.log([gd, 'removed!']);\n",
       "            Plotly.purge(gd);\n",
       "            observer.disconnect();\n",
       "        }}\n",
       "}});\n",
       "\n",
       "// Listen for the removal of the full notebook cells\n",
       "var notebookContainer = gd.closest('#notebook-container');\n",
       "if (notebookContainer) {{\n",
       "    x.observe(notebookContainer, {childList: true});\n",
       "}}\n",
       "\n",
       "// Listen for the clearing of the current output cell\n",
       "var outputEl = gd.closest('.output');\n",
       "if (outputEl) {{\n",
       "    x.observe(outputEl, {childList: true});\n",
       "}}\n",
       "\n",
       "                        })                };                });            </script>        </div>"
      ]
     },
     "metadata": {},
     "output_type": "display_data"
    }
   ],
   "source": [
    "fig = px.imshow(correlation_matrix, width = 800, height = 800, color_continuous_scale = 'reds',title = 'Housing Heatmap')\n",
    "fig.show()"
   ]
  },
  {
   "cell_type": "code",
   "execution_count": 171,
   "metadata": {},
   "outputs": [],
   "source": [
    "#?px.imshow"
   ]
  },
  {
   "cell_type": "code",
   "execution_count": 172,
   "metadata": {},
   "outputs": [
    {
     "data": {
      "application/vnd.plotly.v1+json": {
       "config": {
        "plotlyServerURL": "https://plot.ly"
       },
       "data": [
        {
         "coloraxis": "coloraxis",
         "hovertemplate": "x: %{x}<br>y: %{y}<br>color: %{z}<extra></extra>",
         "name": "0",
         "type": "heatmap",
         "x": [
          "MapRefNo",
          "EnclosedPorch",
          "KitchenAbvGr",
          "OverallCond",
          "MSSubClass",
          "BsmtHalfBath",
          "LowQualFinSF",
          "Unnamed: 0",
          "MiscVal",
          "YrSold",
          "MoSold",
          "BsmtFinSF2",
          "PoolArea",
          "3SsnPorch",
          "ScreenPorch",
          "BedroomAbvGr",
          "BsmtUnfSF",
          "2ndFlrSF",
          "LotArea",
          "HalfBath",
          "BsmtFullBath",
          "OpenPorchSF",
          "WoodDeckSF",
          "LotFrontage",
          "BsmtFinSF1",
          "Fireplaces",
          "TotRmsAbvGrd",
          "MasVnrArea",
          "YearRemodAdd",
          "GarageYrBlt",
          "FullBath",
          "YearBuilt",
          "GarageArea",
          "GarageCars",
          "1stFlrSF",
          "TotalBsmtSF",
          "GrLivArea",
          "OverallQual",
          "SalePrice"
         ],
         "xaxis": "x",
         "y": [
          "SalePrice"
         ],
         "yaxis": "y",
         "z": [
          [
           -0.22627637190505334,
           -0.12323486525887883,
           -0.11397676418120904,
           -0.10109148324587461,
           -0.08458728424971745,
           -0.03380161573118405,
           -0.03083495397004764,
           -0.02841250213557407,
           -0.01887692975397773,
           -0.0013756935033627596,
           0.012590504982043137,
           0.02251968462534049,
           0.030844416319021566,
           0.03126012658355872,
           0.12146339970885772,
           0.15180621948840273,
           0.167519405293936,
           0.26314385072870944,
           0.27444345733445424,
           0.2858750040157157,
           0.2910798682384632,
           0.30654016886746055,
           0.33323164680472167,
           0.35857707378246095,
           0.46079178985174396,
           0.4881836355236371,
           0.490219428960149,
           0.5009637970191104,
           0.5143087667390126,
           0.5207631950432833,
           0.53498176789257,
           0.5443699746148827,
           0.63499176519051,
           0.6388010546242726,
           0.6426131361189649,
           0.6522223203849293,
           0.7199813925858772,
           0.790501446764753,
           1
          ]
         ]
        }
       ],
       "layout": {
        "coloraxis": {
         "colorscale": [
          [
           0,
           "rgb(158,1,66)"
          ],
          [
           0.1,
           "rgb(213,62,79)"
          ],
          [
           0.2,
           "rgb(244,109,67)"
          ],
          [
           0.3,
           "rgb(253,174,97)"
          ],
          [
           0.4,
           "rgb(254,224,139)"
          ],
          [
           0.5,
           "rgb(255,255,191)"
          ],
          [
           0.6,
           "rgb(230,245,152)"
          ],
          [
           0.7,
           "rgb(171,221,164)"
          ],
          [
           0.8,
           "rgb(102,194,165)"
          ],
          [
           0.9,
           "rgb(50,136,189)"
          ],
          [
           1,
           "rgb(94,79,162)"
          ]
         ]
        },
        "height": 400,
        "template": {
         "data": {
          "bar": [
           {
            "error_x": {
             "color": "#2a3f5f"
            },
            "error_y": {
             "color": "#2a3f5f"
            },
            "marker": {
             "line": {
              "color": "#E5ECF6",
              "width": 0.5
             }
            },
            "type": "bar"
           }
          ],
          "barpolar": [
           {
            "marker": {
             "line": {
              "color": "#E5ECF6",
              "width": 0.5
             }
            },
            "type": "barpolar"
           }
          ],
          "carpet": [
           {
            "aaxis": {
             "endlinecolor": "#2a3f5f",
             "gridcolor": "white",
             "linecolor": "white",
             "minorgridcolor": "white",
             "startlinecolor": "#2a3f5f"
            },
            "baxis": {
             "endlinecolor": "#2a3f5f",
             "gridcolor": "white",
             "linecolor": "white",
             "minorgridcolor": "white",
             "startlinecolor": "#2a3f5f"
            },
            "type": "carpet"
           }
          ],
          "choropleth": [
           {
            "colorbar": {
             "outlinewidth": 0,
             "ticks": ""
            },
            "type": "choropleth"
           }
          ],
          "contour": [
           {
            "colorbar": {
             "outlinewidth": 0,
             "ticks": ""
            },
            "colorscale": [
             [
              0,
              "#0d0887"
             ],
             [
              0.1111111111111111,
              "#46039f"
             ],
             [
              0.2222222222222222,
              "#7201a8"
             ],
             [
              0.3333333333333333,
              "#9c179e"
             ],
             [
              0.4444444444444444,
              "#bd3786"
             ],
             [
              0.5555555555555556,
              "#d8576b"
             ],
             [
              0.6666666666666666,
              "#ed7953"
             ],
             [
              0.7777777777777778,
              "#fb9f3a"
             ],
             [
              0.8888888888888888,
              "#fdca26"
             ],
             [
              1,
              "#f0f921"
             ]
            ],
            "type": "contour"
           }
          ],
          "contourcarpet": [
           {
            "colorbar": {
             "outlinewidth": 0,
             "ticks": ""
            },
            "type": "contourcarpet"
           }
          ],
          "heatmap": [
           {
            "colorbar": {
             "outlinewidth": 0,
             "ticks": ""
            },
            "colorscale": [
             [
              0,
              "#0d0887"
             ],
             [
              0.1111111111111111,
              "#46039f"
             ],
             [
              0.2222222222222222,
              "#7201a8"
             ],
             [
              0.3333333333333333,
              "#9c179e"
             ],
             [
              0.4444444444444444,
              "#bd3786"
             ],
             [
              0.5555555555555556,
              "#d8576b"
             ],
             [
              0.6666666666666666,
              "#ed7953"
             ],
             [
              0.7777777777777778,
              "#fb9f3a"
             ],
             [
              0.8888888888888888,
              "#fdca26"
             ],
             [
              1,
              "#f0f921"
             ]
            ],
            "type": "heatmap"
           }
          ],
          "heatmapgl": [
           {
            "colorbar": {
             "outlinewidth": 0,
             "ticks": ""
            },
            "colorscale": [
             [
              0,
              "#0d0887"
             ],
             [
              0.1111111111111111,
              "#46039f"
             ],
             [
              0.2222222222222222,
              "#7201a8"
             ],
             [
              0.3333333333333333,
              "#9c179e"
             ],
             [
              0.4444444444444444,
              "#bd3786"
             ],
             [
              0.5555555555555556,
              "#d8576b"
             ],
             [
              0.6666666666666666,
              "#ed7953"
             ],
             [
              0.7777777777777778,
              "#fb9f3a"
             ],
             [
              0.8888888888888888,
              "#fdca26"
             ],
             [
              1,
              "#f0f921"
             ]
            ],
            "type": "heatmapgl"
           }
          ],
          "histogram": [
           {
            "marker": {
             "colorbar": {
              "outlinewidth": 0,
              "ticks": ""
             }
            },
            "type": "histogram"
           }
          ],
          "histogram2d": [
           {
            "colorbar": {
             "outlinewidth": 0,
             "ticks": ""
            },
            "colorscale": [
             [
              0,
              "#0d0887"
             ],
             [
              0.1111111111111111,
              "#46039f"
             ],
             [
              0.2222222222222222,
              "#7201a8"
             ],
             [
              0.3333333333333333,
              "#9c179e"
             ],
             [
              0.4444444444444444,
              "#bd3786"
             ],
             [
              0.5555555555555556,
              "#d8576b"
             ],
             [
              0.6666666666666666,
              "#ed7953"
             ],
             [
              0.7777777777777778,
              "#fb9f3a"
             ],
             [
              0.8888888888888888,
              "#fdca26"
             ],
             [
              1,
              "#f0f921"
             ]
            ],
            "type": "histogram2d"
           }
          ],
          "histogram2dcontour": [
           {
            "colorbar": {
             "outlinewidth": 0,
             "ticks": ""
            },
            "colorscale": [
             [
              0,
              "#0d0887"
             ],
             [
              0.1111111111111111,
              "#46039f"
             ],
             [
              0.2222222222222222,
              "#7201a8"
             ],
             [
              0.3333333333333333,
              "#9c179e"
             ],
             [
              0.4444444444444444,
              "#bd3786"
             ],
             [
              0.5555555555555556,
              "#d8576b"
             ],
             [
              0.6666666666666666,
              "#ed7953"
             ],
             [
              0.7777777777777778,
              "#fb9f3a"
             ],
             [
              0.8888888888888888,
              "#fdca26"
             ],
             [
              1,
              "#f0f921"
             ]
            ],
            "type": "histogram2dcontour"
           }
          ],
          "mesh3d": [
           {
            "colorbar": {
             "outlinewidth": 0,
             "ticks": ""
            },
            "type": "mesh3d"
           }
          ],
          "parcoords": [
           {
            "line": {
             "colorbar": {
              "outlinewidth": 0,
              "ticks": ""
             }
            },
            "type": "parcoords"
           }
          ],
          "pie": [
           {
            "automargin": true,
            "type": "pie"
           }
          ],
          "scatter": [
           {
            "marker": {
             "colorbar": {
              "outlinewidth": 0,
              "ticks": ""
             }
            },
            "type": "scatter"
           }
          ],
          "scatter3d": [
           {
            "line": {
             "colorbar": {
              "outlinewidth": 0,
              "ticks": ""
             }
            },
            "marker": {
             "colorbar": {
              "outlinewidth": 0,
              "ticks": ""
             }
            },
            "type": "scatter3d"
           }
          ],
          "scattercarpet": [
           {
            "marker": {
             "colorbar": {
              "outlinewidth": 0,
              "ticks": ""
             }
            },
            "type": "scattercarpet"
           }
          ],
          "scattergeo": [
           {
            "marker": {
             "colorbar": {
              "outlinewidth": 0,
              "ticks": ""
             }
            },
            "type": "scattergeo"
           }
          ],
          "scattergl": [
           {
            "marker": {
             "colorbar": {
              "outlinewidth": 0,
              "ticks": ""
             }
            },
            "type": "scattergl"
           }
          ],
          "scattermapbox": [
           {
            "marker": {
             "colorbar": {
              "outlinewidth": 0,
              "ticks": ""
             }
            },
            "type": "scattermapbox"
           }
          ],
          "scatterpolar": [
           {
            "marker": {
             "colorbar": {
              "outlinewidth": 0,
              "ticks": ""
             }
            },
            "type": "scatterpolar"
           }
          ],
          "scatterpolargl": [
           {
            "marker": {
             "colorbar": {
              "outlinewidth": 0,
              "ticks": ""
             }
            },
            "type": "scatterpolargl"
           }
          ],
          "scatterternary": [
           {
            "marker": {
             "colorbar": {
              "outlinewidth": 0,
              "ticks": ""
             }
            },
            "type": "scatterternary"
           }
          ],
          "surface": [
           {
            "colorbar": {
             "outlinewidth": 0,
             "ticks": ""
            },
            "colorscale": [
             [
              0,
              "#0d0887"
             ],
             [
              0.1111111111111111,
              "#46039f"
             ],
             [
              0.2222222222222222,
              "#7201a8"
             ],
             [
              0.3333333333333333,
              "#9c179e"
             ],
             [
              0.4444444444444444,
              "#bd3786"
             ],
             [
              0.5555555555555556,
              "#d8576b"
             ],
             [
              0.6666666666666666,
              "#ed7953"
             ],
             [
              0.7777777777777778,
              "#fb9f3a"
             ],
             [
              0.8888888888888888,
              "#fdca26"
             ],
             [
              1,
              "#f0f921"
             ]
            ],
            "type": "surface"
           }
          ],
          "table": [
           {
            "cells": {
             "fill": {
              "color": "#EBF0F8"
             },
             "line": {
              "color": "white"
             }
            },
            "header": {
             "fill": {
              "color": "#C8D4E3"
             },
             "line": {
              "color": "white"
             }
            },
            "type": "table"
           }
          ]
         },
         "layout": {
          "annotationdefaults": {
           "arrowcolor": "#2a3f5f",
           "arrowhead": 0,
           "arrowwidth": 1
          },
          "autotypenumbers": "strict",
          "coloraxis": {
           "colorbar": {
            "outlinewidth": 0,
            "ticks": ""
           }
          },
          "colorscale": {
           "diverging": [
            [
             0,
             "#8e0152"
            ],
            [
             0.1,
             "#c51b7d"
            ],
            [
             0.2,
             "#de77ae"
            ],
            [
             0.3,
             "#f1b6da"
            ],
            [
             0.4,
             "#fde0ef"
            ],
            [
             0.5,
             "#f7f7f7"
            ],
            [
             0.6,
             "#e6f5d0"
            ],
            [
             0.7,
             "#b8e186"
            ],
            [
             0.8,
             "#7fbc41"
            ],
            [
             0.9,
             "#4d9221"
            ],
            [
             1,
             "#276419"
            ]
           ],
           "sequential": [
            [
             0,
             "#0d0887"
            ],
            [
             0.1111111111111111,
             "#46039f"
            ],
            [
             0.2222222222222222,
             "#7201a8"
            ],
            [
             0.3333333333333333,
             "#9c179e"
            ],
            [
             0.4444444444444444,
             "#bd3786"
            ],
            [
             0.5555555555555556,
             "#d8576b"
            ],
            [
             0.6666666666666666,
             "#ed7953"
            ],
            [
             0.7777777777777778,
             "#fb9f3a"
            ],
            [
             0.8888888888888888,
             "#fdca26"
            ],
            [
             1,
             "#f0f921"
            ]
           ],
           "sequentialminus": [
            [
             0,
             "#0d0887"
            ],
            [
             0.1111111111111111,
             "#46039f"
            ],
            [
             0.2222222222222222,
             "#7201a8"
            ],
            [
             0.3333333333333333,
             "#9c179e"
            ],
            [
             0.4444444444444444,
             "#bd3786"
            ],
            [
             0.5555555555555556,
             "#d8576b"
            ],
            [
             0.6666666666666666,
             "#ed7953"
            ],
            [
             0.7777777777777778,
             "#fb9f3a"
            ],
            [
             0.8888888888888888,
             "#fdca26"
            ],
            [
             1,
             "#f0f921"
            ]
           ]
          },
          "colorway": [
           "#636efa",
           "#EF553B",
           "#00cc96",
           "#ab63fa",
           "#FFA15A",
           "#19d3f3",
           "#FF6692",
           "#B6E880",
           "#FF97FF",
           "#FECB52"
          ],
          "font": {
           "color": "#2a3f5f"
          },
          "geo": {
           "bgcolor": "white",
           "lakecolor": "white",
           "landcolor": "#E5ECF6",
           "showlakes": true,
           "showland": true,
           "subunitcolor": "white"
          },
          "hoverlabel": {
           "align": "left"
          },
          "hovermode": "closest",
          "mapbox": {
           "style": "light"
          },
          "paper_bgcolor": "white",
          "plot_bgcolor": "#E5ECF6",
          "polar": {
           "angularaxis": {
            "gridcolor": "white",
            "linecolor": "white",
            "ticks": ""
           },
           "bgcolor": "#E5ECF6",
           "radialaxis": {
            "gridcolor": "white",
            "linecolor": "white",
            "ticks": ""
           }
          },
          "scene": {
           "xaxis": {
            "backgroundcolor": "#E5ECF6",
            "gridcolor": "white",
            "gridwidth": 2,
            "linecolor": "white",
            "showbackground": true,
            "ticks": "",
            "zerolinecolor": "white"
           },
           "yaxis": {
            "backgroundcolor": "#E5ECF6",
            "gridcolor": "white",
            "gridwidth": 2,
            "linecolor": "white",
            "showbackground": true,
            "ticks": "",
            "zerolinecolor": "white"
           },
           "zaxis": {
            "backgroundcolor": "#E5ECF6",
            "gridcolor": "white",
            "gridwidth": 2,
            "linecolor": "white",
            "showbackground": true,
            "ticks": "",
            "zerolinecolor": "white"
           }
          },
          "shapedefaults": {
           "line": {
            "color": "#2a3f5f"
           }
          },
          "ternary": {
           "aaxis": {
            "gridcolor": "white",
            "linecolor": "white",
            "ticks": ""
           },
           "baxis": {
            "gridcolor": "white",
            "linecolor": "white",
            "ticks": ""
           },
           "bgcolor": "#E5ECF6",
           "caxis": {
            "gridcolor": "white",
            "linecolor": "white",
            "ticks": ""
           }
          },
          "title": {
           "x": 0.05
          },
          "xaxis": {
           "automargin": true,
           "gridcolor": "white",
           "linecolor": "white",
           "ticks": "",
           "title": {
            "standoff": 15
           },
           "zerolinecolor": "white",
           "zerolinewidth": 2
          },
          "yaxis": {
           "automargin": true,
           "gridcolor": "white",
           "linecolor": "white",
           "ticks": "",
           "title": {
            "standoff": 15
           },
           "zerolinecolor": "white",
           "zerolinewidth": 2
          }
         }
        },
        "title": {
         "text": "Sale Price Heatmap"
        },
        "width": 1000,
        "xaxis": {
         "anchor": "y",
         "domain": [
          0,
          1
         ]
        },
        "yaxis": {
         "anchor": "x",
         "autorange": "reversed",
         "domain": [
          0,
          1
         ]
        }
       }
      },
      "text/html": [
       "<div>                            <div id=\"4ae17696-5126-4134-a561-cd61b63ccc4c\" class=\"plotly-graph-div\" style=\"height:400px; width:1000px;\"></div>            <script type=\"text/javascript\">                require([\"plotly\"], function(Plotly) {                    window.PLOTLYENV=window.PLOTLYENV || {};                                    if (document.getElementById(\"4ae17696-5126-4134-a561-cd61b63ccc4c\")) {                    Plotly.newPlot(                        \"4ae17696-5126-4134-a561-cd61b63ccc4c\",                        [{\"coloraxis\": \"coloraxis\", \"hovertemplate\": \"x: %{x}<br>y: %{y}<br>color: %{z}<extra></extra>\", \"name\": \"0\", \"type\": \"heatmap\", \"x\": [\"MapRefNo\", \"EnclosedPorch\", \"KitchenAbvGr\", \"OverallCond\", \"MSSubClass\", \"BsmtHalfBath\", \"LowQualFinSF\", \"Unnamed: 0\", \"MiscVal\", \"YrSold\", \"MoSold\", \"BsmtFinSF2\", \"PoolArea\", \"3SsnPorch\", \"ScreenPorch\", \"BedroomAbvGr\", \"BsmtUnfSF\", \"2ndFlrSF\", \"LotArea\", \"HalfBath\", \"BsmtFullBath\", \"OpenPorchSF\", \"WoodDeckSF\", \"LotFrontage\", \"BsmtFinSF1\", \"Fireplaces\", \"TotRmsAbvGrd\", \"MasVnrArea\", \"YearRemodAdd\", \"GarageYrBlt\", \"FullBath\", \"YearBuilt\", \"GarageArea\", \"GarageCars\", \"1stFlrSF\", \"TotalBsmtSF\", \"GrLivArea\", \"OverallQual\", \"SalePrice\"], \"xaxis\": \"x\", \"y\": [\"SalePrice\"], \"yaxis\": \"y\", \"z\": [[-0.22627637190505334, -0.12323486525887883, -0.11397676418120904, -0.10109148324587461, -0.08458728424971745, -0.03380161573118405, -0.03083495397004764, -0.02841250213557407, -0.01887692975397773, -0.0013756935033627596, 0.012590504982043137, 0.02251968462534049, 0.030844416319021566, 0.03126012658355872, 0.12146339970885772, 0.15180621948840273, 0.167519405293936, 0.26314385072870944, 0.27444345733445424, 0.2858750040157157, 0.2910798682384632, 0.30654016886746055, 0.33323164680472167, 0.35857707378246095, 0.46079178985174396, 0.4881836355236371, 0.490219428960149, 0.5009637970191104, 0.5143087667390126, 0.5207631950432833, 0.53498176789257, 0.5443699746148827, 0.63499176519051, 0.6388010546242726, 0.6426131361189649, 0.6522223203849293, 0.7199813925858772, 0.790501446764753, 1.0]]}],                        {\"coloraxis\": {\"colorscale\": [[0.0, \"rgb(158,1,66)\"], [0.1, \"rgb(213,62,79)\"], [0.2, \"rgb(244,109,67)\"], [0.3, \"rgb(253,174,97)\"], [0.4, \"rgb(254,224,139)\"], [0.5, \"rgb(255,255,191)\"], [0.6, \"rgb(230,245,152)\"], [0.7, \"rgb(171,221,164)\"], [0.8, \"rgb(102,194,165)\"], [0.9, \"rgb(50,136,189)\"], [1.0, \"rgb(94,79,162)\"]]}, \"height\": 400, \"template\": {\"data\": {\"bar\": [{\"error_x\": {\"color\": \"#2a3f5f\"}, \"error_y\": {\"color\": \"#2a3f5f\"}, \"marker\": {\"line\": {\"color\": \"#E5ECF6\", \"width\": 0.5}}, \"type\": \"bar\"}], \"barpolar\": [{\"marker\": {\"line\": {\"color\": \"#E5ECF6\", \"width\": 0.5}}, \"type\": \"barpolar\"}], \"carpet\": [{\"aaxis\": {\"endlinecolor\": \"#2a3f5f\", \"gridcolor\": \"white\", \"linecolor\": \"white\", \"minorgridcolor\": \"white\", \"startlinecolor\": \"#2a3f5f\"}, \"baxis\": {\"endlinecolor\": \"#2a3f5f\", \"gridcolor\": \"white\", \"linecolor\": \"white\", \"minorgridcolor\": \"white\", \"startlinecolor\": \"#2a3f5f\"}, \"type\": \"carpet\"}], \"choropleth\": [{\"colorbar\": {\"outlinewidth\": 0, \"ticks\": \"\"}, \"type\": \"choropleth\"}], \"contour\": [{\"colorbar\": {\"outlinewidth\": 0, \"ticks\": \"\"}, \"colorscale\": [[0.0, \"#0d0887\"], [0.1111111111111111, \"#46039f\"], [0.2222222222222222, \"#7201a8\"], [0.3333333333333333, \"#9c179e\"], [0.4444444444444444, \"#bd3786\"], [0.5555555555555556, \"#d8576b\"], [0.6666666666666666, \"#ed7953\"], [0.7777777777777778, \"#fb9f3a\"], [0.8888888888888888, \"#fdca26\"], [1.0, \"#f0f921\"]], \"type\": \"contour\"}], \"contourcarpet\": [{\"colorbar\": {\"outlinewidth\": 0, \"ticks\": \"\"}, \"type\": \"contourcarpet\"}], \"heatmap\": [{\"colorbar\": {\"outlinewidth\": 0, \"ticks\": \"\"}, \"colorscale\": [[0.0, \"#0d0887\"], [0.1111111111111111, \"#46039f\"], [0.2222222222222222, \"#7201a8\"], [0.3333333333333333, \"#9c179e\"], [0.4444444444444444, \"#bd3786\"], [0.5555555555555556, \"#d8576b\"], [0.6666666666666666, \"#ed7953\"], [0.7777777777777778, \"#fb9f3a\"], [0.8888888888888888, \"#fdca26\"], [1.0, \"#f0f921\"]], \"type\": \"heatmap\"}], \"heatmapgl\": [{\"colorbar\": {\"outlinewidth\": 0, \"ticks\": \"\"}, \"colorscale\": [[0.0, \"#0d0887\"], [0.1111111111111111, \"#46039f\"], [0.2222222222222222, \"#7201a8\"], [0.3333333333333333, \"#9c179e\"], [0.4444444444444444, \"#bd3786\"], [0.5555555555555556, \"#d8576b\"], [0.6666666666666666, \"#ed7953\"], [0.7777777777777778, \"#fb9f3a\"], [0.8888888888888888, \"#fdca26\"], [1.0, \"#f0f921\"]], \"type\": \"heatmapgl\"}], \"histogram\": [{\"marker\": {\"colorbar\": {\"outlinewidth\": 0, \"ticks\": \"\"}}, \"type\": \"histogram\"}], \"histogram2d\": [{\"colorbar\": {\"outlinewidth\": 0, \"ticks\": \"\"}, \"colorscale\": [[0.0, \"#0d0887\"], [0.1111111111111111, \"#46039f\"], [0.2222222222222222, \"#7201a8\"], [0.3333333333333333, \"#9c179e\"], [0.4444444444444444, \"#bd3786\"], [0.5555555555555556, \"#d8576b\"], [0.6666666666666666, \"#ed7953\"], [0.7777777777777778, \"#fb9f3a\"], [0.8888888888888888, \"#fdca26\"], [1.0, \"#f0f921\"]], \"type\": \"histogram2d\"}], \"histogram2dcontour\": [{\"colorbar\": {\"outlinewidth\": 0, \"ticks\": \"\"}, \"colorscale\": [[0.0, \"#0d0887\"], [0.1111111111111111, \"#46039f\"], [0.2222222222222222, \"#7201a8\"], [0.3333333333333333, \"#9c179e\"], [0.4444444444444444, \"#bd3786\"], [0.5555555555555556, \"#d8576b\"], [0.6666666666666666, \"#ed7953\"], [0.7777777777777778, \"#fb9f3a\"], [0.8888888888888888, \"#fdca26\"], [1.0, \"#f0f921\"]], \"type\": \"histogram2dcontour\"}], \"mesh3d\": [{\"colorbar\": {\"outlinewidth\": 0, \"ticks\": \"\"}, \"type\": \"mesh3d\"}], \"parcoords\": [{\"line\": {\"colorbar\": {\"outlinewidth\": 0, \"ticks\": \"\"}}, \"type\": \"parcoords\"}], \"pie\": [{\"automargin\": true, \"type\": \"pie\"}], \"scatter\": [{\"marker\": {\"colorbar\": {\"outlinewidth\": 0, \"ticks\": \"\"}}, \"type\": \"scatter\"}], \"scatter3d\": [{\"line\": {\"colorbar\": {\"outlinewidth\": 0, \"ticks\": \"\"}}, \"marker\": {\"colorbar\": {\"outlinewidth\": 0, \"ticks\": \"\"}}, \"type\": \"scatter3d\"}], \"scattercarpet\": [{\"marker\": {\"colorbar\": {\"outlinewidth\": 0, \"ticks\": \"\"}}, \"type\": \"scattercarpet\"}], \"scattergeo\": [{\"marker\": {\"colorbar\": {\"outlinewidth\": 0, \"ticks\": \"\"}}, \"type\": \"scattergeo\"}], \"scattergl\": [{\"marker\": {\"colorbar\": {\"outlinewidth\": 0, \"ticks\": \"\"}}, \"type\": \"scattergl\"}], \"scattermapbox\": [{\"marker\": {\"colorbar\": {\"outlinewidth\": 0, \"ticks\": \"\"}}, \"type\": \"scattermapbox\"}], \"scatterpolar\": [{\"marker\": {\"colorbar\": {\"outlinewidth\": 0, \"ticks\": \"\"}}, \"type\": \"scatterpolar\"}], \"scatterpolargl\": [{\"marker\": {\"colorbar\": {\"outlinewidth\": 0, \"ticks\": \"\"}}, \"type\": \"scatterpolargl\"}], \"scatterternary\": [{\"marker\": {\"colorbar\": {\"outlinewidth\": 0, \"ticks\": \"\"}}, \"type\": \"scatterternary\"}], \"surface\": [{\"colorbar\": {\"outlinewidth\": 0, \"ticks\": \"\"}, \"colorscale\": [[0.0, \"#0d0887\"], [0.1111111111111111, \"#46039f\"], [0.2222222222222222, \"#7201a8\"], [0.3333333333333333, \"#9c179e\"], [0.4444444444444444, \"#bd3786\"], [0.5555555555555556, \"#d8576b\"], [0.6666666666666666, \"#ed7953\"], [0.7777777777777778, \"#fb9f3a\"], [0.8888888888888888, \"#fdca26\"], [1.0, \"#f0f921\"]], \"type\": \"surface\"}], \"table\": [{\"cells\": {\"fill\": {\"color\": \"#EBF0F8\"}, \"line\": {\"color\": \"white\"}}, \"header\": {\"fill\": {\"color\": \"#C8D4E3\"}, \"line\": {\"color\": \"white\"}}, \"type\": \"table\"}]}, \"layout\": {\"annotationdefaults\": {\"arrowcolor\": \"#2a3f5f\", \"arrowhead\": 0, \"arrowwidth\": 1}, \"autotypenumbers\": \"strict\", \"coloraxis\": {\"colorbar\": {\"outlinewidth\": 0, \"ticks\": \"\"}}, \"colorscale\": {\"diverging\": [[0, \"#8e0152\"], [0.1, \"#c51b7d\"], [0.2, \"#de77ae\"], [0.3, \"#f1b6da\"], [0.4, \"#fde0ef\"], [0.5, \"#f7f7f7\"], [0.6, \"#e6f5d0\"], [0.7, \"#b8e186\"], [0.8, \"#7fbc41\"], [0.9, \"#4d9221\"], [1, \"#276419\"]], \"sequential\": [[0.0, \"#0d0887\"], [0.1111111111111111, \"#46039f\"], [0.2222222222222222, \"#7201a8\"], [0.3333333333333333, \"#9c179e\"], [0.4444444444444444, \"#bd3786\"], [0.5555555555555556, \"#d8576b\"], [0.6666666666666666, \"#ed7953\"], [0.7777777777777778, \"#fb9f3a\"], [0.8888888888888888, \"#fdca26\"], [1.0, \"#f0f921\"]], \"sequentialminus\": [[0.0, \"#0d0887\"], [0.1111111111111111, \"#46039f\"], [0.2222222222222222, \"#7201a8\"], [0.3333333333333333, \"#9c179e\"], [0.4444444444444444, \"#bd3786\"], [0.5555555555555556, \"#d8576b\"], [0.6666666666666666, \"#ed7953\"], [0.7777777777777778, \"#fb9f3a\"], [0.8888888888888888, \"#fdca26\"], [1.0, \"#f0f921\"]]}, \"colorway\": [\"#636efa\", \"#EF553B\", \"#00cc96\", \"#ab63fa\", \"#FFA15A\", \"#19d3f3\", \"#FF6692\", \"#B6E880\", \"#FF97FF\", \"#FECB52\"], \"font\": {\"color\": \"#2a3f5f\"}, \"geo\": {\"bgcolor\": \"white\", \"lakecolor\": \"white\", \"landcolor\": \"#E5ECF6\", \"showlakes\": true, \"showland\": true, \"subunitcolor\": \"white\"}, \"hoverlabel\": {\"align\": \"left\"}, \"hovermode\": \"closest\", \"mapbox\": {\"style\": \"light\"}, \"paper_bgcolor\": \"white\", \"plot_bgcolor\": \"#E5ECF6\", \"polar\": {\"angularaxis\": {\"gridcolor\": \"white\", \"linecolor\": \"white\", \"ticks\": \"\"}, \"bgcolor\": \"#E5ECF6\", \"radialaxis\": {\"gridcolor\": \"white\", \"linecolor\": \"white\", \"ticks\": \"\"}}, \"scene\": {\"xaxis\": {\"backgroundcolor\": \"#E5ECF6\", \"gridcolor\": \"white\", \"gridwidth\": 2, \"linecolor\": \"white\", \"showbackground\": true, \"ticks\": \"\", \"zerolinecolor\": \"white\"}, \"yaxis\": {\"backgroundcolor\": \"#E5ECF6\", \"gridcolor\": \"white\", \"gridwidth\": 2, \"linecolor\": \"white\", \"showbackground\": true, \"ticks\": \"\", \"zerolinecolor\": \"white\"}, \"zaxis\": {\"backgroundcolor\": \"#E5ECF6\", \"gridcolor\": \"white\", \"gridwidth\": 2, \"linecolor\": \"white\", \"showbackground\": true, \"ticks\": \"\", \"zerolinecolor\": \"white\"}}, \"shapedefaults\": {\"line\": {\"color\": \"#2a3f5f\"}}, \"ternary\": {\"aaxis\": {\"gridcolor\": \"white\", \"linecolor\": \"white\", \"ticks\": \"\"}, \"baxis\": {\"gridcolor\": \"white\", \"linecolor\": \"white\", \"ticks\": \"\"}, \"bgcolor\": \"#E5ECF6\", \"caxis\": {\"gridcolor\": \"white\", \"linecolor\": \"white\", \"ticks\": \"\"}}, \"title\": {\"x\": 0.05}, \"xaxis\": {\"automargin\": true, \"gridcolor\": \"white\", \"linecolor\": \"white\", \"ticks\": \"\", \"title\": {\"standoff\": 15}, \"zerolinecolor\": \"white\", \"zerolinewidth\": 2}, \"yaxis\": {\"automargin\": true, \"gridcolor\": \"white\", \"linecolor\": \"white\", \"ticks\": \"\", \"title\": {\"standoff\": 15}, \"zerolinecolor\": \"white\", \"zerolinewidth\": 2}}}, \"title\": {\"text\": \"Sale Price Heatmap\"}, \"width\": 1000, \"xaxis\": {\"anchor\": \"y\", \"domain\": [0.0, 1.0]}, \"yaxis\": {\"anchor\": \"x\", \"autorange\": \"reversed\", \"domain\": [0.0, 1.0]}},                        {\"responsive\": true}                    ).then(function(){\n",
       "                            \n",
       "var gd = document.getElementById('4ae17696-5126-4134-a561-cd61b63ccc4c');\n",
       "var x = new MutationObserver(function (mutations, observer) {{\n",
       "        var display = window.getComputedStyle(gd).display;\n",
       "        if (!display || display === 'none') {{\n",
       "            console.log([gd, 'removed!']);\n",
       "            Plotly.purge(gd);\n",
       "            observer.disconnect();\n",
       "        }}\n",
       "}});\n",
       "\n",
       "// Listen for the removal of the full notebook cells\n",
       "var notebookContainer = gd.closest('#notebook-container');\n",
       "if (notebookContainer) {{\n",
       "    x.observe(notebookContainer, {childList: true});\n",
       "}}\n",
       "\n",
       "// Listen for the clearing of the current output cell\n",
       "var outputEl = gd.closest('.output');\n",
       "if (outputEl) {{\n",
       "    x.observe(outputEl, {childList: true});\n",
       "}}\n",
       "\n",
       "                        })                };                });            </script>        </div>"
      ]
     },
     "metadata": {},
     "output_type": "display_data"
    }
   ],
   "source": [
    "fig = px.imshow(correlation_matrix[['SalePrice']].sort_values(by = 'SalePrice', ascending = True).T,\n",
    "                width = 1000, height = 400, aspect = 1,\n",
    "                color_continuous_scale = 'spectral',\n",
    "                title = 'Sale Price Heatmap')\n",
    "fig.show()"
   ]
  },
  {
   "cell_type": "code",
   "execution_count": 173,
   "metadata": {},
   "outputs": [],
   "source": [
    "sale_cors = correlation_matrix[['SalePrice']].sort_values(by = 'SalePrice', ascending = True)"
   ]
  },
  {
   "cell_type": "code",
   "execution_count": 174,
   "metadata": {},
   "outputs": [],
   "source": [
    "SalesPrice_cVars = correlation_matrix[['SalePrice']].sort_values(by = 'SalePrice', ascending = True).index"
   ]
  },
  {
   "cell_type": "code",
   "execution_count": 175,
   "metadata": {},
   "outputs": [
    {
     "data": {
      "image/png": "[encoded data removed]",
      "text/plain": [
       "<Figure size 1296x1296 with 16 Axes>"
      ]
     },
     "metadata": {
      "needs_background": "light"
     },
     "output_type": "display_data"
    }
   ],
   "source": [
    "fig, axs = plt.subplots(4, 4, figsize=(18, 18))\n",
    "plt.subplots_adjust(right=1.3, top=1.3)\n",
    "axs = axs.flatten()\n",
    "for i, col in enumerate(list(correlation_matrix.index[:16])):\n",
    "    sns.scatterplot(y='SalePrice', x=col, ax=axs[i], data=housing)\n",
    "    axs[i].set_ylabel('SalePrice')\n",
    "    axs[i].set_xlabel(col)\n",
    "plt.show()"
   ]
  }
 ],
 "metadata": {
  "kernelspec": {
   "display_name": "Python 3",
   "language": "python",
   "name": "python3"
  },
  "language_info": {
   "codemirror_mode": {
    "name": "ipython",
    "version": 3
   },
   "file_extension": ".py",
   "mimetype": "text/x-python",
   "name": "python",
   "nbconvert_exporter": "python",
   "pygments_lexer": "ipython3",
   "version": "3.7.3"
  }
 },
 "nbformat": 4,
 "nbformat_minor": 2
}
